{
  "nbformat": 4,
  "nbformat_minor": 0,
  "metadata": {
    "colab": {
      "name": "P5_function.ipynb",
      "provenance": [],
      "collapsed_sections": []
    },
    "kernelspec": {
      "name": "python3",
      "display_name": "Python 3"
    }
  },
  "cells": [
    {
      "cell_type": "code",
      "metadata": {
        "colab": {
          "base_uri": "https://localhost:8080/"
        },
        "id": "i3408JVXzMe9",
        "outputId": "9a85c7a9-2ab8-4305-fafd-5969ce9a7168"
      },
      "source": [
        "!pip install flask-ngrok"
      ],
      "execution_count": null,
      "outputs": [
        {
          "output_type": "stream",
          "text": [
            "Collecting flask-ngrok\n",
            "  Downloading https://files.pythonhosted.org/packages/af/6c/f54cb686ad1129e27d125d182f90f52b32f284e6c8df58c1bae54fa1adbc/flask_ngrok-0.0.25-py3-none-any.whl\n",
            "Requirement already satisfied: requests in /usr/local/lib/python3.7/dist-packages (from flask-ngrok) (2.23.0)\n",
            "Requirement already satisfied: Flask>=0.8 in /usr/local/lib/python3.7/dist-packages (from flask-ngrok) (1.1.2)\n",
            "Requirement already satisfied: certifi>=2017.4.17 in /usr/local/lib/python3.7/dist-packages (from requests->flask-ngrok) (2020.12.5)\n",
            "Requirement already satisfied: idna<3,>=2.5 in /usr/local/lib/python3.7/dist-packages (from requests->flask-ngrok) (2.10)\n",
            "Requirement already satisfied: chardet<4,>=3.0.2 in /usr/local/lib/python3.7/dist-packages (from requests->flask-ngrok) (3.0.4)\n",
            "Requirement already satisfied: urllib3!=1.25.0,!=1.25.1,<1.26,>=1.21.1 in /usr/local/lib/python3.7/dist-packages (from requests->flask-ngrok) (1.24.3)\n",
            "Requirement already satisfied: click>=5.1 in /usr/local/lib/python3.7/dist-packages (from Flask>=0.8->flask-ngrok) (7.1.2)\n",
            "Requirement already satisfied: itsdangerous>=0.24 in /usr/local/lib/python3.7/dist-packages (from Flask>=0.8->flask-ngrok) (1.1.0)\n",
            "Requirement already satisfied: Jinja2>=2.10.1 in /usr/local/lib/python3.7/dist-packages (from Flask>=0.8->flask-ngrok) (2.11.3)\n",
            "Requirement already satisfied: Werkzeug>=0.15 in /usr/local/lib/python3.7/dist-packages (from Flask>=0.8->flask-ngrok) (1.0.1)\n",
            "Requirement already satisfied: MarkupSafe>=0.23 in /usr/local/lib/python3.7/dist-packages (from Jinja2>=2.10.1->Flask>=0.8->flask-ngrok) (1.1.1)\n",
            "Installing collected packages: flask-ngrok\n",
            "Successfully installed flask-ngrok-0.0.25\n"
          ],
          "name": "stdout"
        }
      ]
    },
    {
      "cell_type": "code",
      "metadata": {
        "colab": {
          "base_uri": "https://localhost:8080/"
        },
        "id": "5wzEyNsjJ_aQ",
        "outputId": "fa653d22-5d01-4f76-b9e9-4a61ddd3165d"
      },
      "source": [
        "# data analysis and wrangling\r\n",
        "import matplotlib.pyplot as plt\r\n",
        "import seaborn as sn\r\n",
        "import pandas as pd\r\n",
        "import numpy as np\r\n",
        "\r\n",
        "# flask\r\n",
        "from flask import Flask, render_template, url_for, request\r\n",
        "from flask_ngrok import run_with_ngrok\r\n",
        "\r\n",
        "# text\r\n",
        "import re\r\n",
        "import spacy\r\n",
        "import nltk\r\n",
        "nltk.download('stopwords')\r\n",
        "from nltk.corpus import stopwords\r\n",
        "from gensim.corpora import Dictionary\r\n",
        "from gensim.utils import simple_preprocess\r\n",
        "from gensim.matutils import corpus2csc\r\n",
        "from IPython.display import display, HTML\r\n",
        "\r\n",
        "# Save objects\r\n",
        "import joblib\r\n",
        "\r\n",
        "# Set working directory\r\n",
        "import os\r\n",
        "os.chdir('/content/drive/MyDrive/Colab Notebooks/P5')"
      ],
      "execution_count": null,
      "outputs": [
        {
          "output_type": "stream",
          "text": [
            "[nltk_data] Downloading package stopwords to /root/nltk_data...\n",
            "[nltk_data]   Unzipping corpora/stopwords.zip.\n"
          ],
          "name": "stdout"
        }
      ]
    },
    {
      "cell_type": "markdown",
      "metadata": {
        "id": "5wHQgLCQcMmS"
      },
      "source": [
        "**Import**"
      ]
    },
    {
      "cell_type": "code",
      "metadata": {
        "id": "zTdDocThcKDk"
      },
      "source": [
        "df = joblib.load('df.sav')\r\n",
        "texts_cleaned = joblib.load('texts_cleaned.sav')\r\n",
        "dictionary = joblib.load('dictionary.sav')\r\n",
        "model = joblib.load('model.sav')\r\n",
        "binarizer = joblib.load('binarizer.sav')"
      ],
      "execution_count": null,
      "outputs": []
    },
    {
      "cell_type": "markdown",
      "metadata": {
        "id": "nUhyjkVLcWBC"
      },
      "source": [
        "Function"
      ]
    },
    {
      "cell_type": "code",
      "metadata": {
        "id": "vb6SsY6FiITm"
      },
      "source": [
        "# Lemmatization function\r\n",
        "nlp = spacy.load('en', disable=['parser', 'ner'])\r\n",
        "\r\n",
        "def lemmatization(doc, nlp, banned_postags=['PUNCT', 'DET', 'PRON', 'CONJ',\r\n",
        "                                            'ADV', 'INTJ']):\r\n",
        "    doc = nlp(doc)\r\n",
        "    return [token.lemma_ for token in doc if token.pos_ not in banned_postags]\r\n",
        "    \r\n",
        "\r\n",
        "# Remove stopwords\r\n",
        "stop_words = stopwords.words('english')\r\n",
        "\r\n",
        "# stop_words.extend([])\r\n",
        "def remove_stopwords(doc):\r\n",
        "    return \" \".join([word for word in doc if word not in stop_words])  "
      ],
      "execution_count": null,
      "outputs": []
    },
    {
      "cell_type": "code",
      "metadata": {
        "id": "hUasYY_OiK0m"
      },
      "source": [
        "# All processing\r\n",
        "def clean_text(text):\r\n",
        "    text_cleaned = (pd.Series(text)\r\n",
        "                    # delete code parts\r\n",
        "                    .apply(lambda x: re.sub('<code>(.|\\n)*?</code>', '', x))\r\n",
        "                    # remove HTML tags\r\n",
        "                    .apply(lambda x: re.sub('<[^<]+?>', '', x))\r\n",
        "                    # preprocess\r\n",
        "                    .apply(lambda x: simple_preprocess(x, min_len=3,\r\n",
        "                                                      deacc=False))\r\n",
        "                    # remove stop word\r\n",
        "                    .apply(remove_stopwords)\r\n",
        "                    # lemmatization\r\n",
        "                    .apply(lambda x: lemmatization(x, nlp=nlp))\r\n",
        "                    # make a bag of word\r\n",
        "                    .apply(dictionary.doc2bow)\r\n",
        "                   )\r\n",
        "    # Convert a streamed corpus into a sparse matrix\r\n",
        "    text_cleaned = corpus2csc(text_cleaned,\r\n",
        "                              num_terms=len(dictionary)).transpose()\r\n",
        "    return text_cleaned"
      ],
      "execution_count": null,
      "outputs": []
    },
    {
      "cell_type": "markdown",
      "metadata": {
        "id": "546tXjjX0upk"
      },
      "source": [
        "predict function"
      ]
    },
    {
      "cell_type": "code",
      "metadata": {
        "id": "BylGyUy5zf2X"
      },
      "source": [
        "def make_prediction(title, body):\r\n",
        "  # concatenation title + body\r\n",
        "  text = title+' '+body\r\n",
        "\r\n",
        "  # cleaning\r\n",
        "  text = clean_text(text)\r\n",
        "\r\n",
        "  # prediction\r\n",
        "  model.predict(text)\r\n",
        "\r\n",
        "  #get the tags in text form\r\n",
        "  tags_pred = binarizer.inverse_transform(np.array(\r\n",
        "      model.predict(text)).reshape(1,40))\r\n",
        "  \r\n",
        "  return ([i for i in tags_pred[0]])"
      ],
      "execution_count": null,
      "outputs": []
    },
    {
      "cell_type": "code",
      "metadata": {
        "colab": {
          "base_uri": "https://localhost:8080/"
        },
        "id": "j_kfq5D3Gxd9",
        "outputId": "e166f1f4-074d-4fb8-e99a-c512b78bb5dc"
      },
      "source": [
        "make_prediction('', \"Assigning TCP/IP Ports for python In-House Application Use <p>I've written a WCF Service hosted by a Windows Service and python it needs to listen on a known TCP/IP port.  From what range can I safely allocate a port for use within my organization?  That port will be embedded in the config files for the service and the clients that are consuming the service.</p>\")"
      ],
      "execution_count": null,
      "outputs": [
        {
          "output_type": "execute_result",
          "data": {
            "text/plain": [
              "['python']"
            ]
          },
          "metadata": {
            "tags": []
          },
          "execution_count": 7
        }
      ]
    },
    {
      "cell_type": "markdown",
      "metadata": {
        "id": "ggpxEqrTKpJq"
      },
      "source": [
        "**API**"
      ]
    },
    {
      "cell_type": "code",
      "metadata": {
        "colab": {
          "base_uri": "https://localhost:8080/"
        },
        "id": "a4Uc1QdHKs_s",
        "outputId": "a4610aab-6718-4ba4-925d-ef214af65ddb"
      },
      "source": [
        "app = Flask(__name__)\n",
        "run_with_ngrok(app)\n",
        " \n",
        "@app.route('/', methods = ['GET','POST'])\n",
        "def main():\n",
        "    return \"\"\"<!DOCTYPE html>\n",
        "                <html>\n",
        "                    <head>\n",
        "                         <title>Catégoriser questions</title>\n",
        "                    </head>\n",
        "                    <body>\n",
        "                        <div align=\"center\" class=\"bg-info\">\n",
        "                            <h1>Prediction de Tags</h1>\n",
        "                        </div>\n",
        "                        <div class=\"big\" align=\"center\">\n",
        "                            <form action=\"predict\" method=\"POST\">\n",
        "                                <h3>Entrez un titre</h3>\n",
        "                                <textarea name=\"title\" rows=\"1\" cols=\"70\"></textarea>\n",
        "                                <br>\n",
        "                                <h3>Entez un contenu</h3>\n",
        "                                <textarea name=\"body\" rows=\"20\" cols=\"70\"></textarea>\n",
        "                                   <br><br><br>\n",
        "                               <input type=\"submit\" name=\"\" value=\"Predict\" class=\"btn btn-info\">\n",
        "                              </form>\n",
        "                         </div>\n",
        "                    </body>\n",
        "                </html>\n",
        "                \"\"\"\n",
        "\n",
        "@app.route('/predict', methods = ['POST'])\n",
        "def predict():\n",
        "    title = \"\"\n",
        "    body = \"\"\n",
        "    if request.method == 'POST':\n",
        "        title = str(request.form['title'])\n",
        "        body = str(request.form['body'])\n",
        "    tags = make_prediction(title, body)\n",
        "    return \"\"\"\n",
        "            <!DOCTYPE html>\n",
        "            <html>\n",
        "                <head>\n",
        "                     <title>Catégoriser questions</title>\n",
        "                </head>\n",
        "                <body>\n",
        "                    <div class=\"big\" align=\"center\">\n",
        "                                <h4>Titre saisi</h4>\n",
        "                                <textarea name=\"title\" rows=\"1\" cols=\"100\"disabled>\"\"\"+ title +\"\"\"</textarea>\n",
        "                                <br>\n",
        "                                <h4>Contenu saisi</h4>\n",
        "                                <textarea name=\"body\" rows=\"7\" cols=\"100\" disabled>\"\"\"+ body +\"\"\"</textarea>\n",
        "                                <br><br>\n",
        "                     </div>\n",
        "                     <div align=\"center\">\n",
        "                          <h2>Tags proposes :</h2>\n",
        "                          <textarea rows=\"5\" cols=\"50\" disabled>\"\"\"+ str(tags) +\"\"\"</textarea>\n",
        "                     </div>\n",
        "                     <br><br><br>\n",
        "                     <form action=\"/\" method=\"POST\" align=\"center\">\n",
        "                         <input type=\"submit\" name=\"\" value=\"Try again\" class=\"btn btn-info\">\n",
        "                     </form>\n",
        "                </body>\n",
        "            </html>\n",
        "        \"\"\"\n",
        "if __name__ == '__main__':\n",
        "    app.run()"
      ],
      "execution_count": null,
      "outputs": [
        {
          "output_type": "stream",
          "text": [
            " * Serving Flask app \"__main__\" (lazy loading)\n",
            " * Environment: production\n",
            "\u001b[31m   WARNING: This is a development server. Do not use it in a production deployment.\u001b[0m\n",
            "\u001b[2m   Use a production WSGI server instead.\u001b[0m\n",
            " * Debug mode: off\n"
          ],
          "name": "stdout"
        },
        {
          "output_type": "stream",
          "text": [
            " * Running on http://127.0.0.1:5000/ (Press CTRL+C to quit)\n"
          ],
          "name": "stderr"
        },
        {
          "output_type": "stream",
          "text": [
            " * Running on http://4443463863e6.ngrok.io\n",
            " * Traffic stats available on http://127.0.0.1:4040\n"
          ],
          "name": "stdout"
        },
        {
          "output_type": "stream",
          "text": [
            "127.0.0.1 - - [10/Mar/2021 17:01:59] \"\u001b[37mGET / HTTP/1.1\u001b[0m\" 200 -\n",
            "127.0.0.1 - - [10/Mar/2021 17:01:59] \"\u001b[33mGET /favicon.ico HTTP/1.1\u001b[0m\" 404 -\n",
            "127.0.0.1 - - [10/Mar/2021 17:02:23] \"\u001b[37mPOST /predict HTTP/1.1\u001b[0m\" 200 -\n",
            "127.0.0.1 - - [10/Mar/2021 17:03:06] \"\u001b[37mPOST / HTTP/1.1\u001b[0m\" 200 -\n",
            "127.0.0.1 - - [10/Mar/2021 17:03:09] \"\u001b[37mPOST /predict HTTP/1.1\u001b[0m\" 200 -\n",
            "127.0.0.1 - - [10/Mar/2021 17:09:05] \"\u001b[37mGET / HTTP/1.1\u001b[0m\" 200 -\n",
            "127.0.0.1 - - [10/Mar/2021 17:09:45] \"\u001b[37mPOST /predict HTTP/1.1\u001b[0m\" 200 -\n"
          ],
          "name": "stderr"
        }
      ]
    }
  ]
}