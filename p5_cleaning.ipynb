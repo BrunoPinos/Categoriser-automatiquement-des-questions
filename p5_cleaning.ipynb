{
  "nbformat": 4,
  "nbformat_minor": 0,
  "metadata": {
    "colab": {
      "name": "p5_cleaning.ipynb",
      "provenance": [],
      "collapsed_sections": [],
      "toc_visible": true,
      "include_colab_link": true
    },
    "kernelspec": {
      "name": "python3",
      "display_name": "Python 3"
    },
    "accelerator": "TPU"
  },
  "cells": [
    {
      "cell_type": "markdown",
      "metadata": {
        "id": "view-in-github",
        "colab_type": "text"
      },
      "source": [
        "<a href=\"https://colab.research.google.com/github/BrunoPinos/Categoriser-automatiquement-des-questions/blob/main/p5_cleaning.ipynb\" target=\"_parent\"><img src=\"https://colab.research.google.com/assets/colab-badge.svg\" alt=\"Open In Colab\"/></a>"
      ]
    },
    {
      "cell_type": "markdown",
      "metadata": {
        "id": "SJbzcnCdRfw0"
      },
      "source": [
        "# Library"
      ]
    },
    {
      "cell_type": "code",
      "metadata": {
        "id": "A_kvzvuEQj9J",
        "colab": {
          "base_uri": "https://localhost:8080/"
        },
        "outputId": "a0541e9f-429d-4698-d1c3-180ee445d5ac"
      },
      "source": [
        "# data analysis and wrangling\r\n",
        "import matplotlib.pyplot as plt\r\n",
        "import seaborn as sn\r\n",
        "import pandas as pd\r\n",
        "import numpy as np\r\n",
        "\r\n",
        "# text\r\n",
        "import re\r\n",
        "import spacy\r\n",
        "import nltk\r\n",
        "nltk.download('stopwords')\r\n",
        "from nltk.corpus import stopwords\r\n",
        "from gensim.corpora import Dictionary\r\n",
        "from gensim.utils import simple_preprocess\r\n",
        "from IPython.display import display, HTML\r\n",
        "\r\n",
        "# Save objects\r\n",
        "import joblib\r\n",
        "\r\n",
        "# Set working directory\r\n",
        "import os\r\n",
        "os.chdir('/content/drive/MyDrive/Colab Notebooks/P5')"
      ],
      "execution_count": 4,
      "outputs": [
        {
          "output_type": "stream",
          "text": [
            "[nltk_data] Downloading package stopwords to /root/nltk_data...\n",
            "[nltk_data]   Package stopwords is already up-to-date!\n"
          ],
          "name": "stdout"
        }
      ]
    },
    {
      "cell_type": "markdown",
      "metadata": {
        "id": "8KqW2pIRRemJ"
      },
      "source": [
        "# Import"
      ]
    },
    {
      "cell_type": "markdown",
      "metadata": {
        "id": "9HLzWbiwzYHu"
      },
      "source": [
        "**SQL**  \r\n",
        "I get 50,000 posts for every 10,000,000, the posts retrieved have a score> 10 and are questions"
      ]
    },
    {
      "cell_type": "markdown",
      "metadata": {
        "id": "xVGwMu32zWZW"
      },
      "source": [
        "for n in range(1, 7):  \r\n",
        "SELECT Id, Body, Title, Tags  \r\n",
        "FROM Posts  \r\n",
        "WHERE (Score >= 10) AND (PostTypeId = 1) AND (Id < n * 10000000) AND (  \r\n",
        "  Id >= (n - 1) * 10000000) AND (  "
      ]
    },
    {
      "cell_type": "markdown",
      "metadata": {
        "id": "nXm313YSQrgr"
      },
      "source": [
        "**Read**"
      ]
    },
    {
      "cell_type": "code",
      "metadata": {
        "colab": {
          "base_uri": "https://localhost:8080/",
          "height": 420
        },
        "id": "PibYcq5uRK4U",
        "outputId": "01284628-03e1-4b40-d5f1-20705b4ef41b"
      },
      "source": [
        "n_files = 6\r\n",
        "list_files = [pd.read_csv('./Data/QueryResults (' + str(n+1) + ').csv',\r\n",
        "                          index_col='Id') for n in range(n_files)]\r\n",
        "\r\n",
        "df = pd.concat(list_files, axis=0)\r\n",
        "df"
      ],
      "execution_count": 5,
      "outputs": [
        {
          "output_type": "execute_result",
          "data": {
            "text/html": [
              "<div>\n",
              "<style scoped>\n",
              "    .dataframe tbody tr th:only-of-type {\n",
              "        vertical-align: middle;\n",
              "    }\n",
              "\n",
              "    .dataframe tbody tr th {\n",
              "        vertical-align: top;\n",
              "    }\n",
              "\n",
              "    .dataframe thead th {\n",
              "        text-align: right;\n",
              "    }\n",
              "</style>\n",
              "<table border=\"1\" class=\"dataframe\">\n",
              "  <thead>\n",
              "    <tr style=\"text-align: right;\">\n",
              "      <th></th>\n",
              "      <th>Body</th>\n",
              "      <th>Title</th>\n",
              "      <th>Tags</th>\n",
              "    </tr>\n",
              "    <tr>\n",
              "      <th>Id</th>\n",
              "      <th></th>\n",
              "      <th></th>\n",
              "      <th></th>\n",
              "    </tr>\n",
              "  </thead>\n",
              "  <tbody>\n",
              "    <tr>\n",
              "      <th>10000005</th>\n",
              "      <td>&lt;blockquote&gt;\\n&lt;p&gt;&lt;strong&gt;Possible Duplicate:&lt;/...</td>\n",
              "      <td>PHP Sort array by field?</td>\n",
              "      <td>&lt;php&gt;&lt;arrays&gt;&lt;sorting&gt;</td>\n",
              "    </tr>\n",
              "    <tr>\n",
              "      <th>10000083</th>\n",
              "      <td>&lt;p&gt;I want to make an eventHandler that passes ...</td>\n",
              "      <td>Javascript event handler with parameters</td>\n",
              "      <td>&lt;javascript&gt;&lt;events&gt;&lt;event-handling&gt;&lt;handler&gt;</td>\n",
              "    </tr>\n",
              "    <tr>\n",
              "      <th>10000335</th>\n",
              "      <td>&lt;p&gt;&lt;strong&gt;Short version of question:&lt;/strong&gt;...</td>\n",
              "      <td>How to use debug version of libc</td>\n",
              "      <td>&lt;linux&gt;&lt;gdb&gt;&lt;libc&gt;&lt;ldd&gt;</td>\n",
              "    </tr>\n",
              "    <tr>\n",
              "      <th>10003270</th>\n",
              "      <td>&lt;p&gt;I have declared a struct, and I try to pass...</td>\n",
              "      <td>GCC: array type has incomplete element type</td>\n",
              "      <td>&lt;c&gt;&lt;arrays&gt;&lt;gcc&gt;&lt;struct&gt;</td>\n",
              "    </tr>\n",
              "    <tr>\n",
              "      <th>10003562</th>\n",
              "      <td>&lt;p&gt;I have a view on a storyboard the has a but...</td>\n",
              "      <td>How to segue back to a UIViewController that's...</td>\n",
              "      <td>&lt;objective-c&gt;&lt;ios&gt;&lt;storyboard&gt;&lt;segue&gt;</td>\n",
              "    </tr>\n",
              "    <tr>\n",
              "      <th>...</th>\n",
              "      <td>...</td>\n",
              "      <td>...</td>\n",
              "      <td>...</td>\n",
              "    </tr>\n",
              "    <tr>\n",
              "      <th>1213074</th>\n",
              "      <td>&lt;p&gt;I'm trying to drag data from the Winforms p...</td>\n",
              "      <td>WinForms Interop, Drag &amp; Drop from WinForms -&gt;...</td>\n",
              "      <td>&lt;wpf&gt;&lt;winforms&gt;&lt;interop&gt;&lt;drag-and-drop&gt;</td>\n",
              "    </tr>\n",
              "    <tr>\n",
              "      <th>1213127</th>\n",
              "      <td>&lt;p&gt;Is there a way for a Java program to detect...</td>\n",
              "      <td>Detect OS Sleep and Wake Up events in Java</td>\n",
              "      <td>&lt;java&gt;&lt;mysql&gt;&lt;database-connection&gt;&lt;sleep&gt;</td>\n",
              "    </tr>\n",
              "    <tr>\n",
              "      <th>1213137</th>\n",
              "      <td>&lt;p&gt;I know I can change the UITableView propert...</td>\n",
              "      <td>Is there a way to remove the separator line fr...</td>\n",
              "      <td>&lt;iphone&gt;&lt;uitableview&gt;</td>\n",
              "    </tr>\n",
              "    <tr>\n",
              "      <th>1213144</th>\n",
              "      <td>&lt;p&gt;I am writing a wpf destop application, and ...</td>\n",
              "      <td>Data paging in SQL Server CE (Compact Edition)</td>\n",
              "      <td>&lt;sql-server-ce&gt;&lt;data-paging&gt;</td>\n",
              "    </tr>\n",
              "    <tr>\n",
              "      <th>1213217</th>\n",
              "      <td>&lt;p&gt;I'm currently in a project which develops u...</td>\n",
              "      <td>How can I manage Perl module dependencies?</td>\n",
              "      <td>&lt;perl&gt;&lt;dependencies&gt;&lt;module&gt;&lt;legacy&gt;</td>\n",
              "    </tr>\n",
              "  </tbody>\n",
              "</table>\n",
              "<p>101366 rows × 3 columns</p>\n",
              "</div>"
            ],
            "text/plain": [
              "                                                       Body  ...                                           Tags\n",
              "Id                                                           ...                                               \n",
              "10000005  <blockquote>\\n<p><strong>Possible Duplicate:</...  ...                         <php><arrays><sorting>\n",
              "10000083  <p>I want to make an eventHandler that passes ...  ...  <javascript><events><event-handling><handler>\n",
              "10000335  <p><strong>Short version of question:</strong>...  ...                        <linux><gdb><libc><ldd>\n",
              "10003270  <p>I have declared a struct, and I try to pass...  ...                       <c><arrays><gcc><struct>\n",
              "10003562  <p>I have a view on a storyboard the has a but...  ...          <objective-c><ios><storyboard><segue>\n",
              "...                                                     ...  ...                                            ...\n",
              "1213074   <p>I'm trying to drag data from the Winforms p...  ...        <wpf><winforms><interop><drag-and-drop>\n",
              "1213127   <p>Is there a way for a Java program to detect...  ...      <java><mysql><database-connection><sleep>\n",
              "1213137   <p>I know I can change the UITableView propert...  ...                          <iphone><uitableview>\n",
              "1213144   <p>I am writing a wpf destop application, and ...  ...                   <sql-server-ce><data-paging>\n",
              "1213217   <p>I'm currently in a project which develops u...  ...           <perl><dependencies><module><legacy>\n",
              "\n",
              "[101366 rows x 3 columns]"
            ]
          },
          "metadata": {
            "tags": []
          },
          "execution_count": 5
        }
      ]
    },
    {
      "cell_type": "markdown",
      "metadata": {
        "id": "FJ2Z_Eug3oJx"
      },
      "source": [
        "# Pretreatment\r\n",
        "\r\n",
        "I create text with title + body.  \r\n",
        "I follow transformations on 2 question.  "
      ]
    },
    {
      "cell_type": "code",
      "metadata": {
        "id": "3LbZ_RHh7tgF"
      },
      "source": [
        "sample = np.random.choice(len(df), 2)\r\n",
        "\r\n",
        "def random_display(docs, sample):\r\n",
        "    for s in sample:\r\n",
        "        print(docs.iloc[s], '\\n'+'-'*20+'\\n'*2)"
      ],
      "execution_count": 6,
      "outputs": []
    },
    {
      "cell_type": "code",
      "metadata": {
        "colab": {
          "base_uri": "https://localhost:8080/"
        },
        "id": "QmvHGEiL7vn0",
        "outputId": "5b5f494b-40d7-4b9b-99b0-c38b1278bac2"
      },
      "source": [
        "texts = (df.Title + ' ' +df.Body)\r\n",
        "\r\n",
        "\r\n",
        "random_display(texts, sample)"
      ],
      "execution_count": 7,
      "outputs": [
        {
          "output_type": "stream",
          "text": [
            "How do you convert hex to decimal using VB.NET? <p>I need to convert hex to a decimal in <a href=\"http://en.wikipedia.org/wiki/Visual_Basic_.NET\" rel=\"noreferrer\">VB.NET</a>. Found several examples in C#, but when I tried to convert to VB.NET I was not successful. An example of a hexadecimal number that I am trying to convert is \"A14152464C203230304232323020572F544947455234352E\".</p>\n",
            " \n",
            "--------------------\n",
            "\n",
            "\n",
            "Assigning TCP/IP Ports for In-House Application Use <p>I've written a WCF Service hosted by a Windows Service and it needs to listen on a known TCP/IP port.  From what range can I safely allocate a port for use within my organization?  That port will be embedded in the config files for the service and the clients that are consuming the service.</p>\n",
            " \n",
            "--------------------\n",
            "\n",
            "\n"
          ],
          "name": "stdout"
        }
      ]
    },
    {
      "cell_type": "markdown",
      "metadata": {
        "id": "TUZvbSt78Frj"
      },
      "source": [
        "The first part of our job is to clean up the text\r\n",
        "\r\n",
        "1.   Remove superfluous parts: code parts, HTML tags, punctuation... \r\n",
        "2.   Create tokens: i.e. separate their text for each document into a list of  words\r\n",
        "3.   Remove stopwords: words considered too common to be interesting in our analysis\r\n",
        "4.   Lemmatize: transform all the words into a basic form whatever the form in which it appears in the document (plural, conjugated verb, feminine form ...)"
      ]
    },
    {
      "cell_type": "code",
      "metadata": {
        "id": "DK82FzlVnnml"
      },
      "source": [
        "# Stemming function\r\n",
        "\r\n",
        "ps = nltk.stem.SnowballStemmer('english')\r\n",
        "\r\n",
        "def stemming(doc):\r\n",
        "    return [ps.stem(word) for word in doc]\r\n",
        "\r\n",
        "# Lemmatization function\r\n",
        "nlp = spacy.load('en', disable=['parser', 'ner'])\r\n",
        "\r\n",
        "def lemmatization(doc, nlp, banned_postags=['PUNCT', 'DET', 'PRON', 'CONJ',\r\n",
        "                                            'ADV', 'INTJ']):\r\n",
        "    doc = nlp(doc)\r\n",
        "    return [token.lemma_ for token in doc if token.pos_ not in banned_postags]\r\n",
        "    \r\n",
        "\r\n",
        "# Remove stopwords\r\n",
        "stop_words = stopwords.words('english')\r\n",
        "\r\n",
        "# stop_words.extend([])\r\n",
        "def remove_stopwords(doc):\r\n",
        "    return \" \".join([word for word in doc if word not in stop_words])  "
      ],
      "execution_count": 51,
      "outputs": []
    },
    {
      "cell_type": "markdown",
      "metadata": {
        "id": "7ojScmbi9ZFW"
      },
      "source": [
        "I try stemming"
      ]
    },
    {
      "cell_type": "code",
      "metadata": {
        "colab": {
          "base_uri": "https://localhost:8080/"
        },
        "id": "4UnRqnCr8OKo",
        "outputId": "1997830d-1f46-41c2-cc29-5b1ebbf489e9"
      },
      "source": [
        "# stop_words.extend([]) for stem\r\n",
        "def remove_stopwords_0(doc):\r\n",
        "    return [word for word in doc if word not in stop_words]\r\n",
        "\r\n",
        "                      \r\n",
        "# All processing\r\n",
        "texts_cleaned_stem = (texts\r\n",
        "                      # delete code parts\r\n",
        "                      .apply(lambda x: re.sub('<code>(.|\\n)*?</code>', '', x))\r\n",
        "                      # remove HTML tags\r\n",
        "                      .apply(lambda x: re.sub('<[^<]+?>', '', x))\r\n",
        "                      # token\r\n",
        "                      .apply(lambda x: simple_preprocess(x, min_len=3,\r\n",
        "                                                         deacc=False))\r\n",
        "                      # remove stop word\r\n",
        "                      .apply(remove_stopwords_0)\r\n",
        "                      # stem\r\n",
        "                      .apply(lambda x: stemming(x))\r\n",
        "                     )\r\n",
        "\r\n",
        "random_display(texts_cleaned_stem, sample)"
      ],
      "execution_count": 55,
      "outputs": [
        {
          "output_type": "stream",
          "text": [
            "['convert', 'hex', 'decim', 'use', 'net', 'need', 'convert', 'hex', 'decim', 'net', 'found', 'sever', 'exampl', 'tri', 'convert', 'net', 'success', 'exampl', 'hexadecim', 'number', 'tri', 'convert'] \n",
            "--------------------\n",
            "\n",
            "\n",
            "['assign', 'tcp', 'port', 'hous', 'applic', 'use', 'written', 'wcf', 'servic', 'host', 'window', 'servic', 'need', 'listen', 'known', 'tcp', 'port', 'rang', 'safe', 'alloc', 'port', 'use', 'within', 'organ', 'port', 'embed', 'config', 'file', 'servic', 'client', 'consum', 'servic'] \n",
            "--------------------\n",
            "\n",
            "\n"
          ],
          "name": "stdout"
        }
      ]
    },
    {
      "cell_type": "markdown",
      "metadata": {
        "id": "KptIqaT59igF"
      },
      "source": [
        "Lemmatization"
      ]
    },
    {
      "cell_type": "code",
      "metadata": {
        "colab": {
          "base_uri": "https://localhost:8080/"
        },
        "id": "7-bsCy1T8u5U",
        "outputId": "c3007b3b-0293-47bb-b580-dba5d81e41e0"
      },
      "source": [
        "# All processing\r\n",
        "texts_cleaned = (texts\r\n",
        "                 # delete code parts\r\n",
        "                 .apply(lambda x: re.sub('<code>(.|\\n)*?</code>', '', x))\r\n",
        "                 # remove HTML tags\r\n",
        "                 .apply(lambda x: re.sub('<[^<]+?>', '', x))\r\n",
        "                 # token\r\n",
        "                 .apply(lambda x: simple_preprocess(x, min_len=3, deacc=False))\r\n",
        "                 # remove stop word\r\n",
        "                 .apply(remove_stopwords)\r\n",
        "                 # lemmatization\r\n",
        "                 .apply(lambda x: lemmatization(x, nlp=nlp))\r\n",
        "                )\r\n",
        "\r\n",
        "random_display(texts_cleaned, sample)"
      ],
      "execution_count": 11,
      "outputs": [
        {
          "output_type": "stream",
          "text": [
            "['convert', 'hex', 'decimal', 'use', 'net', 'need', 'convert', 'hex', 'decimal', 'net', 'find', 'several', 'example', 'try', 'convert', 'net', 'successful', 'example', 'hexadecimal', 'number', 'try', 'convert'] \n",
            "--------------------\n",
            "\n",
            "\n",
            "['assign', 'tcp', 'port', 'house', 'application', 'use', 'write', 'wcf', 'service', 'host', 'windows', 'service', 'need', 'listen', 'know', 'tcp', 'port', 'range', 'allocate', 'port', 'use', 'within', 'organization', 'port', 'embed', 'config', 'file', 'service', 'client', 'consume', 'service'] \n",
            "--------------------\n",
            "\n",
            "\n"
          ],
          "name": "stdout"
        }
      ]
    },
    {
      "cell_type": "markdown",
      "metadata": {
        "id": "KBuG-q7IdxKr"
      },
      "source": [
        "In our selected examples, we observe a much smaller number of remaining words, compared to the raw documents.\r\n",
        "\r\n",
        "Now is the time to normalize our text, namely to put it in a format in which our model will be able to understand it. To do this, we will first create a dictionary which will assign a unique identifier to each word present in all the documents. We also display the number of words present in this dictionary"
      ]
    },
    {
      "cell_type": "code",
      "metadata": {
        "colab": {
          "base_uri": "https://localhost:8080/"
        },
        "id": "IXT86pG3d5gU",
        "outputId": "b6f8f2e4-8535-46aa-801a-b8106fec27fb"
      },
      "source": [
        "dictionary = Dictionary(texts_cleaned)\r\n",
        "print(\"Taille du dictionnaire: \",len(dictionary))"
      ],
      "execution_count": null,
      "outputs": [
        {
          "output_type": "stream",
          "text": [
            "Taille du dictionnaire:  62400\n"
          ],
          "name": "stdout"
        }
      ]
    },
    {
      "cell_type": "markdown",
      "metadata": {
        "id": "CTReLm0nd8vW"
      },
      "source": [
        "In order to make sure that these words can help us at least to find interesting patterns in our data at the time of modeling, we remove from the dictionary the words which do not appear in at least 50 different documents."
      ]
    },
    {
      "cell_type": "code",
      "metadata": {
        "colab": {
          "base_uri": "https://localhost:8080/"
        },
        "id": "AU98PSNed72q",
        "outputId": "21b1c6f5-23df-4ba1-d387-5e714cd0d83e"
      },
      "source": [
        "dictionary.filter_extremes(no_below=50)\r\n",
        "print(\"Taille du dictionnaire: \", len(dictionary))"
      ],
      "execution_count": null,
      "outputs": [
        {
          "output_type": "stream",
          "text": [
            "Taille du dictionnaire:  3506\n"
          ],
          "name": "stdout"
        }
      ]
    },
    {
      "cell_type": "markdown",
      "metadata": {
        "id": "rY8VTwMyeAX6"
      },
      "source": [
        "With this filtering, we have removed more than 80% of the words in the dictionary, which could have been a source of noise once they became descriptors. Also, in order not to have too common words (like stopwords), let's take a look at the most common items"
      ]
    },
    {
      "cell_type": "code",
      "metadata": {
        "colab": {
          "base_uri": "https://localhost:8080/",
          "height": 460
        },
        "id": "e74EIDlbqTe8",
        "outputId": "c1da1f07-14f0-4303-d048-49e6b276721e"
      },
      "source": [
        "words_sorted = sorted(dictionary.dfs.items(), key=lambda x: x[1], reverse=True)\r\n",
        "id2token = {value: key for key, value in dictionary.token2id.items()}\r\n",
        "\r\n",
        "list_count = [count for e, (i, count) in enumerate(words_sorted[:1000])]\r\n",
        "fig = plt.figure(1, figsize=(10, 7))\r\n",
        "sn.lineplot(x = range(0, 1000), y = list_count)\r\n",
        "plt.xticks(rotation=90)\r\n",
        "plt.title('Distribution : text')\r\n",
        "plt.show()"
      ],
      "execution_count": null,
      "outputs": [
        {
          "output_type": "display_data",
          "data": {
            "image/png": "[encoded data removed]",
            "text/plain": [
              "<Figure size 720x504 with 1 Axes>"
            ]
          },
          "metadata": {
            "tags": [],
            "needs_background": "light"
          }
        }
      ]
    },
    {
      "cell_type": "code",
      "metadata": {
        "colab": {
          "base_uri": "https://localhost:8080/"
        },
        "id": "lbrxU4L5eC9y",
        "outputId": "84a2a8ae-497e-4832-aee3-cdcbb462a5ac"
      },
      "source": [
        "print(\"Mots les plus fréquents du dictionnaire:\")\r\n",
        "for e, (i, count) in enumerate(words_sorted[:100]):\r\n",
        "    print(f\"{e+1:2} {id2token[i]:15} {count:5}\")"
      ],
      "execution_count": null,
      "outputs": [
        {
          "output_type": "stream",
          "text": [
            "Mots les plus fréquents du dictionnaire:\n",
            " 1 get             31488\n",
            " 2 like            26885\n",
            " 3 try             26472\n",
            " 4 want            25482\n",
            " 5 code            24441\n",
            " 6 work            24406\n",
            " 7 way             23965\n",
            " 8 would           22237\n",
            " 9 file            18380\n",
            "10 find            17682\n",
            "11 one             17660\n",
            "12 know            17561\n",
            "13 need            16064\n",
            "14 follow          15568\n",
            "15 error           14754\n",
            "16 make            14669\n",
            "17 example         13907\n",
            "18 create          13809\n",
            "19 run             13379\n",
            "20 look            12828\n",
            "21 problem         12042\n",
            "22 see             11855\n",
            "23 seem            11728\n",
            "24 set             11288\n",
            "25 question        11102\n",
            "26 add             10948\n",
            "27 good            10887\n",
            "28 value           10517\n",
            "29 time            10402\n",
            "30 method          10381\n",
            "31 new             10251\n",
            "32 could           10224\n",
            "33 change          10203\n",
            "34 thank           10168\n",
            "35 application      9908\n",
            "36 call             9596\n",
            "37 function         9317\n",
            "38 give             9134\n",
            "39 user             8957\n",
            "40 write            8951\n",
            "41 class            8916\n",
            "42 possible         8914\n",
            "43 help             8716\n",
            "44 server           8445\n",
            "45 object           8163\n",
            "46 without          7990\n",
            "47 net              7844\n",
            "48 project          7810\n",
            "49 say              7808\n",
            "50 two              7782\n",
            "51 datum            7697\n",
            "52 think            7621\n",
            "53 line             7537\n",
            "54 type             7484\n",
            "55 java             7345\n",
            "56 edit             7282\n",
            "57 return           7224\n",
            "58 solution         7202\n",
            "59 list             6989\n",
            "60 app              6985\n",
            "61 simple           6913\n",
            "62 show             6893\n",
            "63 string           6815\n",
            "64 name             6805\n",
            "65 able             6780\n",
            "66 read             6733\n",
            "67 thing            6651\n",
            "68 update           6641\n",
            "69 python           6636\n",
            "70 start            6628\n",
            "71 different        6508\n",
            "72 page             6484\n",
            "73 command          6470\n",
            "74 idea             6417\n",
            "75 may              6083\n",
            "76 result           6009\n",
            "77 case             5968\n",
            "78 check            5852\n",
            "79 web              5828\n",
            "80 version          5824\n",
            "81 html             5817\n",
            "82 build            5810\n",
            "83 answer           5809\n",
            "84 number           5769\n",
            "85 window           5744\n",
            "86 not              5540\n",
            "87 test             5510\n",
            "88 first            5509\n",
            "89 http             5435\n",
            "90 take             5412\n",
            "91 issue            5320\n",
            "92 table            5263\n",
            "93 text             5193\n",
            "94 database         5095\n",
            "95 go               5086\n",
            "96 understand       5028\n",
            "97 access           5013\n",
            "98 javascript       5007\n",
            "99 base             4961\n",
            "100 variable         4923\n"
          ],
          "name": "stdout"
        }
      ]
    },
    {
      "cell_type": "markdown",
      "metadata": {
        "id": "L1K87_jZeFs6"
      },
      "source": [
        "We decide to delete the 77 most frequent words + 13 others bad words.\r\n"
      ]
    },
    {
      "cell_type": "code",
      "metadata": {
        "id": "Rp3XJ4mheIhT"
      },
      "source": [
        "to_delete = [id2token[i] for e, (i, count) in enumerate(words_sorted[:70])]\r\n",
        "\r\n",
        "list_remove = ['java', 'python', 'list', 'net',\r\n",
        "               'class', 'application']\r\n",
        "\r\n",
        "for word in list_remove:\r\n",
        "  to_delete.remove(word) \r\n",
        "\r\n",
        "bad_ids = [dictionary.token2id[token] for token in to_delete]\r\n",
        "\r\n",
        "dictionary.filter_tokens(bad_ids=bad_ids)"
      ],
      "execution_count": null,
      "outputs": []
    },
    {
      "cell_type": "markdown",
      "metadata": {
        "id": "3VAVSzuYeLRr"
      },
      "source": [
        "And finally, to conclude our pre-processing part, we create our bag of words. This representation makes it possible to count the number of occurrences of each word in the dictionary for each document. The resulting dataframe will serve as input data to our model"
      ]
    },
    {
      "cell_type": "code",
      "metadata": {
        "colab": {
          "base_uri": "https://localhost:8080/"
        },
        "id": "7pD2cYBbeOqL",
        "outputId": "f278bc94-6be5-47e9-fb91-b9ca39c4c912"
      },
      "source": [
        "corpus = texts_cleaned.apply(dictionary.doc2bow)\r\n",
        "random_display(corpus, sample)"
      ],
      "execution_count": null,
      "outputs": [
        {
          "output_type": "stream",
          "text": [
            "[(10, 2), (25, 1), (65, 1), (124, 1), (196, 2), (316, 1), (420, 1), (505, 2), (509, 1), (547, 3), (600, 1), (792, 1), (918, 1), (1061, 4), (1077, 1), (1367, 1), (1804, 1), (1856, 3)] \n",
            "--------------------\n",
            "\n",
            "\n",
            "[(46, 1), (77, 1), (190, 1), (193, 1), (204, 1), (239, 1), (295, 5), (300, 5), (322, 1), (346, 2), (399, 1), (417, 2), (442, 1), (532, 1), (538, 1), (607, 2), (625, 2), (635, 1), (663, 2), (666, 2), (700, 1), (799, 1), (827, 1), (1061, 1), (1196, 1), (1281, 1), (1536, 1), (1776, 1), (1786, 2), (1993, 2), (2082, 1), (2152, 1), (2217, 1), (2279, 2), (2565, 1), (3218, 1)] \n",
            "--------------------\n",
            "\n",
            "\n"
          ],
          "name": "stdout"
        }
      ]
    },
    {
      "cell_type": "markdown",
      "metadata": {
        "id": "ITcCtLXPe20b"
      },
      "source": [
        "I save my objects"
      ]
    },
    {
      "cell_type": "code",
      "metadata": {
        "colab": {
          "base_uri": "https://localhost:8080/"
        },
        "id": "iL2-dmd9e3EK",
        "outputId": "99f10df8-c0fd-4720-aa32-bae0f90aeaa9"
      },
      "source": [
        "joblib.dump(corpus, 'corpus.sav')\r\n",
        "joblib.dump(dictionary, 'dictionary.sav')\r\n",
        "joblib.dump(df, 'df.sav')\r\n",
        "joblib.dump(texts_cleaned, 'texts_cleaned.sav')"
      ],
      "execution_count": null,
      "outputs": [
        {
          "output_type": "execute_result",
          "data": {
            "text/plain": [
              "['texts_cleaned.sav']"
            ]
          },
          "metadata": {
            "tags": []
          },
          "execution_count": 52
        }
      ]
    }
  ]
}