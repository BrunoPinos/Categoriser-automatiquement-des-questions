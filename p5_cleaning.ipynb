{
  "nbformat": 4,
  "nbformat_minor": 0,
  "metadata": {
    "colab": {
      "name": "p5_cleaning.ipynb",
      "provenance": [],
      "collapsed_sections": [],
      "toc_visible": true,
      "include_colab_link": true
    },
    "kernelspec": {
      "name": "python3",
      "display_name": "Python 3"
    },
    "accelerator": "TPU"
  },
  "cells": [
    {
      "cell_type": "markdown",
      "metadata": {
        "id": "view-in-github",
        "colab_type": "text"
      },
      "source": [
        "<a href=\"https://colab.research.google.com/github/BrunoPinos/Categoriser-automatiquement-des-questions/blob/add_API/p5_cleaning.ipynb\" target=\"_parent\"><img src=\"https://colab.research.google.com/assets/colab-badge.svg\" alt=\"Open In Colab\"/></a>"
      ]
    },
    {
      "cell_type": "markdown",
      "metadata": {
        "id": "SJbzcnCdRfw0"
      },
      "source": [
        "# Library"
      ]
    },
    {
      "cell_type": "code",
      "metadata": {
        "id": "A_kvzvuEQj9J",
        "colab": {
          "base_uri": "https://localhost:8080/"
        },
        "outputId": "eedc97ae-455e-4733-ab1d-565d4d8158eb"
      },
      "source": [
        "# data analysis and wrangling\r\n",
        "import matplotlib.pyplot as plt\r\n",
        "import seaborn as sn\r\n",
        "import pandas as pd\r\n",
        "import numpy as np\r\n",
        "\r\n",
        "# text\r\n",
        "import re\r\n",
        "import spacy\r\n",
        "import nltk\r\n",
        "nltk.download('stopwords')\r\n",
        "from nltk.corpus import stopwords\r\n",
        "from gensim.corpora import Dictionary\r\n",
        "from gensim.utils import simple_preprocess\r\n",
        "from IPython.display import display, HTML\r\n",
        "\r\n",
        "# Save objects\r\n",
        "import joblib\r\n",
        "\r\n",
        "# Set working directory\r\n",
        "import os\r\n",
        "os.chdir('/content/drive/MyDrive/Colab Notebooks/P5')"
      ],
      "execution_count": 21,
      "outputs": [
        {
          "output_type": "stream",
          "text": [
            "[nltk_data] Downloading package stopwords to /root/nltk_data...\n",
            "[nltk_data]   Package stopwords is already up-to-date!\n"
          ],
          "name": "stdout"
        }
      ]
    },
    {
      "cell_type": "markdown",
      "metadata": {
        "id": "8KqW2pIRRemJ"
      },
      "source": [
        "# Import"
      ]
    },
    {
      "cell_type": "markdown",
      "metadata": {
        "id": "9HLzWbiwzYHu"
      },
      "source": [
        "**SQL**  \r\n",
        "I get 50,000 posts for every 10,000,000, the posts retrieved have a score> 10 and are questions"
      ]
    },
    {
      "cell_type": "markdown",
      "metadata": {
        "id": "xVGwMu32zWZW"
      },
      "source": [
        "for n in range(1, 7):  \r\n",
        "SELECT Id, Body, Title, Tags  \r\n",
        "FROM Posts  \r\n",
        "WHERE  \r\n",
        "(Score >= 10) AND  \r\n",
        "(PostTypeId = 1) AND  \r\n",
        "(AcceptedAnswerId > 0) AND  \r\n",
        "(ViewCount > 50000) AND  \r\n",
        "(FavoriteCount > 3) AND  \r\n",
        "(Id < n * 10000000) AND  \r\n",
        "(Id >= (n - 1) * 10000000)"
      ]
    },
    {
      "cell_type": "markdown",
      "metadata": {
        "id": "nXm313YSQrgr"
      },
      "source": [
        "**Read**"
      ]
    },
    {
      "cell_type": "code",
      "metadata": {
        "colab": {
          "base_uri": "https://localhost:8080/",
          "height": 420
        },
        "id": "PibYcq5uRK4U",
        "outputId": "4cfca2d6-558a-440b-8f96-869735744aaa"
      },
      "source": [
        "n_files = 6\r\n",
        "list_files = [pd.read_csv('./Data/QueryResults (' + str(n+1) + ').csv',\r\n",
        "                          index_col='Id') for n in range(n_files)]\r\n",
        "\r\n",
        "df = pd.concat(list_files, axis=0)\r\n",
        "df"
      ],
      "execution_count": 22,
      "outputs": [
        {
          "output_type": "execute_result",
          "data": {
            "text/html": [
              "<div>\n",
              "<style scoped>\n",
              "    .dataframe tbody tr th:only-of-type {\n",
              "        vertical-align: middle;\n",
              "    }\n",
              "\n",
              "    .dataframe tbody tr th {\n",
              "        vertical-align: top;\n",
              "    }\n",
              "\n",
              "    .dataframe thead th {\n",
              "        text-align: right;\n",
              "    }\n",
              "</style>\n",
              "<table border=\"1\" class=\"dataframe\">\n",
              "  <thead>\n",
              "    <tr style=\"text-align: right;\">\n",
              "      <th></th>\n",
              "      <th>Body</th>\n",
              "      <th>Title</th>\n",
              "      <th>Tags</th>\n",
              "    </tr>\n",
              "    <tr>\n",
              "      <th>Id</th>\n",
              "      <th></th>\n",
              "      <th></th>\n",
              "      <th></th>\n",
              "    </tr>\n",
              "  </thead>\n",
              "  <tbody>\n",
              "    <tr>\n",
              "      <th>10000005</th>\n",
              "      <td>&lt;blockquote&gt;\\n&lt;p&gt;&lt;strong&gt;Possible Duplicate:&lt;/...</td>\n",
              "      <td>PHP Sort array by field?</td>\n",
              "      <td>&lt;php&gt;&lt;arrays&gt;&lt;sorting&gt;</td>\n",
              "    </tr>\n",
              "    <tr>\n",
              "      <th>10000083</th>\n",
              "      <td>&lt;p&gt;I want to make an eventHandler that passes ...</td>\n",
              "      <td>Javascript event handler with parameters</td>\n",
              "      <td>&lt;javascript&gt;&lt;events&gt;&lt;event-handling&gt;&lt;handler&gt;</td>\n",
              "    </tr>\n",
              "    <tr>\n",
              "      <th>10000335</th>\n",
              "      <td>&lt;p&gt;&lt;strong&gt;Short version of question:&lt;/strong&gt;...</td>\n",
              "      <td>How to use debug version of libc</td>\n",
              "      <td>&lt;linux&gt;&lt;gdb&gt;&lt;libc&gt;&lt;ldd&gt;</td>\n",
              "    </tr>\n",
              "    <tr>\n",
              "      <th>10003270</th>\n",
              "      <td>&lt;p&gt;I have declared a struct, and I try to pass...</td>\n",
              "      <td>GCC: array type has incomplete element type</td>\n",
              "      <td>&lt;c&gt;&lt;arrays&gt;&lt;gcc&gt;&lt;struct&gt;</td>\n",
              "    </tr>\n",
              "    <tr>\n",
              "      <th>10003562</th>\n",
              "      <td>&lt;p&gt;I have a view on a storyboard the has a but...</td>\n",
              "      <td>How to segue back to a UIViewController that's...</td>\n",
              "      <td>&lt;objective-c&gt;&lt;ios&gt;&lt;storyboard&gt;&lt;segue&gt;</td>\n",
              "    </tr>\n",
              "    <tr>\n",
              "      <th>...</th>\n",
              "      <td>...</td>\n",
              "      <td>...</td>\n",
              "      <td>...</td>\n",
              "    </tr>\n",
              "    <tr>\n",
              "      <th>1213074</th>\n",
              "      <td>&lt;p&gt;I'm trying to drag data from the Winforms p...</td>\n",
              "      <td>WinForms Interop, Drag &amp; Drop from WinForms -&gt;...</td>\n",
              "      <td>&lt;wpf&gt;&lt;winforms&gt;&lt;interop&gt;&lt;drag-and-drop&gt;</td>\n",
              "    </tr>\n",
              "    <tr>\n",
              "      <th>1213127</th>\n",
              "      <td>&lt;p&gt;Is there a way for a Java program to detect...</td>\n",
              "      <td>Detect OS Sleep and Wake Up events in Java</td>\n",
              "      <td>&lt;java&gt;&lt;mysql&gt;&lt;database-connection&gt;&lt;sleep&gt;</td>\n",
              "    </tr>\n",
              "    <tr>\n",
              "      <th>1213137</th>\n",
              "      <td>&lt;p&gt;I know I can change the UITableView propert...</td>\n",
              "      <td>Is there a way to remove the separator line fr...</td>\n",
              "      <td>&lt;iphone&gt;&lt;uitableview&gt;</td>\n",
              "    </tr>\n",
              "    <tr>\n",
              "      <th>1213144</th>\n",
              "      <td>&lt;p&gt;I am writing a wpf destop application, and ...</td>\n",
              "      <td>Data paging in SQL Server CE (Compact Edition)</td>\n",
              "      <td>&lt;sql-server-ce&gt;&lt;data-paging&gt;</td>\n",
              "    </tr>\n",
              "    <tr>\n",
              "      <th>1213217</th>\n",
              "      <td>&lt;p&gt;I'm currently in a project which develops u...</td>\n",
              "      <td>How can I manage Perl module dependencies?</td>\n",
              "      <td>&lt;perl&gt;&lt;dependencies&gt;&lt;module&gt;&lt;legacy&gt;</td>\n",
              "    </tr>\n",
              "  </tbody>\n",
              "</table>\n",
              "<p>101366 rows × 3 columns</p>\n",
              "</div>"
            ],
            "text/plain": [
              "                                                       Body  ...                                           Tags\n",
              "Id                                                           ...                                               \n",
              "10000005  <blockquote>\\n<p><strong>Possible Duplicate:</...  ...                         <php><arrays><sorting>\n",
              "10000083  <p>I want to make an eventHandler that passes ...  ...  <javascript><events><event-handling><handler>\n",
              "10000335  <p><strong>Short version of question:</strong>...  ...                        <linux><gdb><libc><ldd>\n",
              "10003270  <p>I have declared a struct, and I try to pass...  ...                       <c><arrays><gcc><struct>\n",
              "10003562  <p>I have a view on a storyboard the has a but...  ...          <objective-c><ios><storyboard><segue>\n",
              "...                                                     ...  ...                                            ...\n",
              "1213074   <p>I'm trying to drag data from the Winforms p...  ...        <wpf><winforms><interop><drag-and-drop>\n",
              "1213127   <p>Is there a way for a Java program to detect...  ...      <java><mysql><database-connection><sleep>\n",
              "1213137   <p>I know I can change the UITableView propert...  ...                          <iphone><uitableview>\n",
              "1213144   <p>I am writing a wpf destop application, and ...  ...                   <sql-server-ce><data-paging>\n",
              "1213217   <p>I'm currently in a project which develops u...  ...           <perl><dependencies><module><legacy>\n",
              "\n",
              "[101366 rows x 3 columns]"
            ]
          },
          "metadata": {
            "tags": []
          },
          "execution_count": 22
        }
      ]
    },
    {
      "cell_type": "markdown",
      "metadata": {
        "id": "FJ2Z_Eug3oJx"
      },
      "source": [
        "# Pretreatment\r\n",
        "\r\n",
        "I create text with title + body.  \r\n",
        "I follow transformations on 2 question.  "
      ]
    },
    {
      "cell_type": "code",
      "metadata": {
        "id": "3LbZ_RHh7tgF"
      },
      "source": [
        "sample = np.random.choice(len(df), 2)\r\n",
        "\r\n",
        "def random_display(docs, sample):\r\n",
        "    for s in sample:\r\n",
        "        print(docs.iloc[s], '\\n'+'-'*20+'\\n'*2)"
      ],
      "execution_count": 23,
      "outputs": []
    },
    {
      "cell_type": "code",
      "metadata": {
        "colab": {
          "base_uri": "https://localhost:8080/"
        },
        "id": "QmvHGEiL7vn0",
        "outputId": "3f73c4d5-0807-416b-fe59-f63608c3df8a"
      },
      "source": [
        "texts = (df.Title + ' ' +df.Body)\r\n",
        "\r\n",
        "\r\n",
        "random_display(texts, sample)"
      ],
      "execution_count": 24,
      "outputs": [
        {
          "output_type": "stream",
          "text": [
            "Scheduling Python Script to run every hour accurately <p>Before I ask, <strong>Cron Jobs and Task Scheduler</strong> will be my last options, this script will be used across Windows and Linux and I'd prefer to have a coded out method of doing this than leaving this to the end user to complete.</p>\n",
            "<p>Is there a library for Python that I can use to schedule tasks? I will need to run a function once every hour, however, over time if I run a script once every hour and use .sleep, &quot;once every hour&quot; will run at a different part of the hour from the previous day due to the delay inherent to executing/running the script and/or function.</p>\n",
            "<p>What is the <strong>best</strong> way to schedule a function to run at a specific time of day (more than once) <em>without</em> using a Cron Job or scheduling it with Task Scheduler?</p>\n",
            "<p><em>Or if this is not possible, I would like your input as well.</em></p>\n",
            "<h2><strong>AP Scheduler fit my needs exactly.</strong></h2>\n",
            "<h3>Version &lt; 3.0</h3>\n",
            "<pre><code>import datetime\n",
            "import time\n",
            "from apscheduler.scheduler import Scheduler\n",
            "\n",
            "# Start the scheduler\n",
            "sched = Scheduler()\n",
            "sched.daemonic = False\n",
            "sched.start()\n",
            "\n",
            "def job_function():\n",
            "    print(&quot;Hello World&quot;)\n",
            "    print(datetime.datetime.now())\n",
            "    time.sleep(20)\n",
            "\n",
            "# Schedules job_function to be run once each minute\n",
            "sched.add_cron_job(job_function,  minute='0-59')\n",
            "</code></pre>\n",
            "<p>out:</p>\n",
            "<pre><code>&gt;Hello World\n",
            "&gt;2014-03-28 09:44:00.016.492\n",
            "&gt;Hello World\n",
            "&gt;2014-03-28 09:45:00.0.14110\n",
            "</code></pre>\n",
            "<h3>Version &gt; 3.0</h3>\n",
            "<p>(From Animesh Pandey's answer below)</p>\n",
            "<pre><code>from apscheduler.schedulers.blocking import BlockingScheduler\n",
            "\n",
            "sched = BlockingScheduler()\n",
            "\n",
            "@sched.scheduled_job('interval', seconds=10)\n",
            "def timed_job():\n",
            "    print('This job is run every 10 seconds.')\n",
            "\n",
            "@sched.scheduled_job('cron', day_of_week='mon-fri', hour=10)\n",
            "def scheduled_job():\n",
            "    print('This job is run every weekday at 10am.')\n",
            "\n",
            "sched.configure(options_from_ini_file)\n",
            "sched.start()\n",
            "</code></pre>\n",
            " \n",
            "--------------------\n",
            "\n",
            "\n",
            "Reading from Excel File using ClosedXML <p>My Excel file is not in tabular data. I am trying to read from an excel file.\n",
            "I have sections within my excel file that are tabular.</p>\n",
            "\n",
            "<p>I need to loop through rows 3 to 20 which are tabular and read the data.</p>\n",
            "\n",
            "<p>Here is party of my code:</p>\n",
            "\n",
            "<pre><code>     string fileName = \"C:\\\\Folder1\\\\Prev.xlsx\";\n",
            "     var workbook = new XLWorkbook(fileName);\n",
            "     var ws1 = workbook.Worksheet(1); \n",
            "</code></pre>\n",
            "\n",
            "<p>How do I loop through rows 3 to 20 and read columns 3,4, 6, 7, 8? \n",
            "Also if a row is empty, how do I determine that so I can skip over it without reading that each column has a value for a given row.</p>\n",
            " \n",
            "--------------------\n",
            "\n",
            "\n"
          ],
          "name": "stdout"
        }
      ]
    },
    {
      "cell_type": "markdown",
      "metadata": {
        "id": "TUZvbSt78Frj"
      },
      "source": [
        "The first part of our job is to clean up the text\r\n",
        "\r\n",
        "1.   Remove superfluous parts: code parts, HTML tags, punctuation... \r\n",
        "2.   Create tokens: i.e. separate their text for each document into a list of  words\r\n",
        "3.   Remove stopwords: words considered too common to be interesting in our analysis\r\n",
        "4.   Lemmatize: transform all the words into a basic form whatever the form in which it appears in the document (plural, conjugated verb, feminine form ...)"
      ]
    },
    {
      "cell_type": "code",
      "metadata": {
        "id": "DK82FzlVnnml"
      },
      "source": [
        "# Stemming function\r\n",
        "\r\n",
        "ps = nltk.stem.SnowballStemmer('english')\r\n",
        "\r\n",
        "def stemming(doc):\r\n",
        "    return [ps.stem(word) for word in doc]\r\n",
        "\r\n",
        "# Lemmatization function\r\n",
        "nlp = spacy.load('en', disable=['parser', 'ner'])\r\n",
        "\r\n",
        "def lemmatization(doc, nlp, banned_postags=['PUNCT', 'DET', 'PRON', 'CONJ',\r\n",
        "                                            'ADV', 'INTJ']):\r\n",
        "    doc = nlp(doc)\r\n",
        "    return [token.lemma_ for token in doc if token.pos_ not in banned_postags]\r\n",
        "    \r\n",
        "\r\n",
        "# Remove stopwords\r\n",
        "stop_words = stopwords.words('english')\r\n",
        "\r\n",
        "# stop_words.extend([])\r\n",
        "def remove_stopwords(doc):\r\n",
        "    return \" \".join([word for word in doc if word not in stop_words])  "
      ],
      "execution_count": 25,
      "outputs": []
    },
    {
      "cell_type": "markdown",
      "metadata": {
        "id": "7ojScmbi9ZFW"
      },
      "source": [
        "I try stemming"
      ]
    },
    {
      "cell_type": "code",
      "metadata": {
        "colab": {
          "base_uri": "https://localhost:8080/"
        },
        "id": "4UnRqnCr8OKo",
        "outputId": "5ac9f9f1-b4a8-48dc-9779-20c1f88a8960"
      },
      "source": [
        "# stop_words.extend([]) for stem\r\n",
        "def remove_stopwords_0(doc):\r\n",
        "    return [word for word in doc if word not in stop_words]\r\n",
        "\r\n",
        "                      \r\n",
        "# All processing\r\n",
        "texts_cleaned_stem = (texts\r\n",
        "                      # delete code parts\r\n",
        "                      .apply(lambda x: re.sub('<code>(.|\\n)*?</code>', '', x))\r\n",
        "                      # remove HTML tags\r\n",
        "                      .apply(lambda x: re.sub('<[^<]+?>', '', x))\r\n",
        "                      # token\r\n",
        "                      .apply(lambda x: simple_preprocess(x, min_len=2,\r\n",
        "                                                         deacc=False))\r\n",
        "                      # remove stop word\r\n",
        "                      .apply(remove_stopwords_0)\r\n",
        "                      # stem\r\n",
        "                      .apply(lambda x: stemming(x))\r\n",
        "                     )\r\n",
        "\r\n",
        "random_display(texts_cleaned_stem, sample)"
      ],
      "execution_count": 26,
      "outputs": [
        {
          "output_type": "stream",
          "text": [
            "['schedul', 'python', 'script', 'run', 'everi', 'hour', 'accur', 'ask', 'cron', 'job', 'task', 'schedul', 'last', 'option', 'script', 'use', 'across', 'window', 'linux', 'prefer', 'code', 'method', 'leav', 'end', 'user', 'complet', 'librari', 'python', 'use', 'schedul', 'task', 'need', 'run', 'function', 'everi', 'hour', 'howev', 'time', 'run', 'script', 'everi', 'hour', 'use', 'sleep', 'quot', 'everi', 'hour', 'quot', 'run', 'differ', 'part', 'hour', 'previous', 'day', 'due', 'delay', 'inher', 'execut', 'run', 'script', 'function', 'best', 'way', 'schedul', 'function', 'run', 'specif', 'time', 'day', 'without', 'use', 'cron', 'job', 'schedul', 'task', 'schedul', 'possibl', 'would', 'like', 'input', 'well', 'ap', 'schedul', 'fit', 'need', 'exact', 'version', 'lt', 'version', 'gt', 'animesh', 'pandey', 'answer'] \n",
            "--------------------\n",
            "\n",
            "\n",
            "['read', 'excel', 'file', 'use', 'closedxml', 'excel', 'file', 'tabular', 'data', 'tri', 'read', 'excel', 'file', 'section', 'within', 'excel', 'file', 'tabular', 'need', 'loop', 'row', 'tabular', 'read', 'data', 'parti', 'code', 'loop', 'row', 'read', 'column', 'also', 'row', 'empti', 'determin', 'skip', 'without', 'read', 'column', 'valu', 'given', 'row'] \n",
            "--------------------\n",
            "\n",
            "\n"
          ],
          "name": "stdout"
        }
      ]
    },
    {
      "cell_type": "markdown",
      "metadata": {
        "id": "KptIqaT59igF"
      },
      "source": [
        "Lemmatization"
      ]
    },
    {
      "cell_type": "code",
      "metadata": {
        "colab": {
          "base_uri": "https://localhost:8080/"
        },
        "id": "7-bsCy1T8u5U",
        "outputId": "c90637d1-f36e-497c-efc9-fcb47e7002e9"
      },
      "source": [
        "# All processing\r\n",
        "texts_cleaned = (texts\r\n",
        "                 # delete code parts\r\n",
        "                 .apply(lambda x: re.sub('<code>(.|\\n)*?</code>', '', x))\r\n",
        "                 # remove HTML tags\r\n",
        "                 .apply(lambda x: re.sub('<[^<]+?>', '', x))\r\n",
        "                 # preprocess\r\n",
        "                 .apply(lambda x: simple_preprocess(x, min_len=1, deacc=False))\r\n",
        "                 # remove stop word\r\n",
        "                 .apply(remove_stopwords)\r\n",
        "                 # lemmatization\r\n",
        "                 .apply(lambda x: lemmatization(x, nlp=nlp))\r\n",
        "                )\r\n",
        "\r\n",
        "random_display(texts_cleaned, sample)"
      ],
      "execution_count": 27,
      "outputs": [
        {
          "output_type": "stream",
          "text": [
            "['schedule', 'python', 'script', 'run', 'hour', 'ask', 'cron', 'jobs', 'task', 'scheduler', 'last', 'option', 'script', 'use', 'across', 'windows', 'linux', 'prefer', 'code', 'method', 'leave', 'end', 'user', 'complete', 'library', 'python', 'use', 'schedule', 'task', 'need', 'run', 'function', 'hour', 'time', 'run', 'script', 'hour', 'use', 'sleep', 'quot', 'hour', 'quot', 'run', 'different', 'part', 'hour', 'previous', 'day', 'due', 'delay', 'inherent', 'execute', 'running', 'script', 'function', 'good', 'way', 'schedule', 'function', 'run', 'specific', 'time', 'day', 'without', 'use', 'cron', 'job', 'scheduling', 'task', 'scheduler', 'possible', 'would', 'like', 'input', 'ap', 'scheduler', 'fit', 'need', 'version', 'lt', 'version', 'gt', 'animesh', 'pandey', 'answer'] \n",
            "--------------------\n",
            "\n",
            "\n",
            "['read', 'excel', 'file', 'use', 'closedxml', 'excel', 'file', 'tabular', 'datum', 'try', 'read', 'excel', 'file', 'section', 'within', 'excel', 'file', 'tabular', 'need', 'loop', 'row', 'tabular', 'read', 'data', 'party', 'code', 'loop', 'row', 'read', 'column', 'row', 'empty', 'determine', 'skip', 'without', 'read', 'column', 'value', 'give', 'row'] \n",
            "--------------------\n",
            "\n",
            "\n"
          ],
          "name": "stdout"
        }
      ]
    },
    {
      "cell_type": "markdown",
      "metadata": {
        "id": "KBuG-q7IdxKr"
      },
      "source": [
        "In our selected examples, we observe a much smaller number of remaining words, compared to the raw documents.\r\n",
        "\r\n",
        "Now is the time to normalize our text, namely to put it in a format in which our model will be able to understand it. To do this, we will first create a dictionary which will assign a unique identifier to each word present in all the documents. We also display the number of words present in this dictionary"
      ]
    },
    {
      "cell_type": "code",
      "metadata": {
        "colab": {
          "base_uri": "https://localhost:8080/"
        },
        "id": "IXT86pG3d5gU",
        "outputId": "c48b3395-cc0e-4ae3-af62-83e47f9a2509"
      },
      "source": [
        "dictionary = Dictionary(texts_cleaned)\r\n",
        "print(\"Taille du dictionnaire: \",len(dictionary))"
      ],
      "execution_count": 28,
      "outputs": [
        {
          "output_type": "stream",
          "text": [
            "Taille du dictionnaire:  63093\n"
          ],
          "name": "stdout"
        }
      ]
    },
    {
      "cell_type": "markdown",
      "metadata": {
        "id": "CTReLm0nd8vW"
      },
      "source": [
        "In order to make sure that these words can help us at least to find interesting patterns in our data at the time of modeling, we remove from the dictionary the words which do not appear in at least 50 different documents."
      ]
    },
    {
      "cell_type": "code",
      "metadata": {
        "colab": {
          "base_uri": "https://localhost:8080/"
        },
        "id": "AU98PSNed72q",
        "outputId": "78083861-96ec-4bec-b914-9b0f997801a9"
      },
      "source": [
        "dictionary.filter_extremes(no_below=50)\r\n",
        "print(\"Taille du dictionnaire: \", len(dictionary))"
      ],
      "execution_count": 29,
      "outputs": [
        {
          "output_type": "stream",
          "text": [
            "Taille du dictionnaire:  3627\n"
          ],
          "name": "stdout"
        }
      ]
    },
    {
      "cell_type": "markdown",
      "metadata": {
        "id": "rY8VTwMyeAX6"
      },
      "source": [
        "With this filtering, we have removed more than 90% of the words in the dictionary, which could have been a source of noise once they became descriptors. Also, in order not to have too common words (like stopwords), let's take a look at the most common items"
      ]
    },
    {
      "cell_type": "code",
      "metadata": {
        "colab": {
          "base_uri": "https://localhost:8080/",
          "height": 460
        },
        "id": "e74EIDlbqTe8",
        "outputId": "5bdf05ae-2060-4bbf-b708-c87acec63714"
      },
      "source": [
        "words_sorted = sorted(dictionary.dfs.items(), key=lambda x: x[1], reverse=True)\r\n",
        "id2token = {value: key for key, value in dictionary.token2id.items()}\r\n",
        "\r\n",
        "list_count = [count for e, (i, count) in enumerate(words_sorted[:1000])]\r\n",
        "fig = plt.figure(1, figsize=(10, 7))\r\n",
        "sn.lineplot(x = range(0, 1000), y = list_count)\r\n",
        "plt.xticks(rotation=90)\r\n",
        "plt.title('Distribution : word')\r\n",
        "plt.show()"
      ],
      "execution_count": 30,
      "outputs": [
        {
          "output_type": "display_data",
          "data": {
            "image/png": "[encoded data removed]",
            "text/plain": [
              "<Figure size 720x504 with 1 Axes>"
            ]
          },
          "metadata": {
            "tags": [],
            "needs_background": "light"
          }
        }
      ]
    },
    {
      "cell_type": "code",
      "metadata": {
        "colab": {
          "base_uri": "https://localhost:8080/"
        },
        "id": "lbrxU4L5eC9y",
        "outputId": "c203fc56-35a7-4ee7-a1e4-671c7b4ae755"
      },
      "source": [
        "print(\"Mots les plus fréquents du dictionnaire:\")\r\n",
        "for e, (i, count) in enumerate(words_sorted[:100]):\r\n",
        "    print(f\"{e+1:2} {id2token[i]:15} {count:5}\")"
      ],
      "execution_count": 31,
      "outputs": [
        {
          "output_type": "stream",
          "text": [
            "Mots les plus fréquents du dictionnaire:\n",
            " 1 get             31491\n",
            " 2 like            26756\n",
            " 3 try             26455\n",
            " 4 want            25482\n",
            " 5 code            24441\n",
            " 6 work            24401\n",
            " 7 way             23972\n",
            " 8 would           23858\n",
            " 9 file            18376\n",
            "10 find            17677\n",
            "11 one             17638\n",
            "12 know            17558\n",
            "13 need            16040\n",
            "14 follow          15565\n",
            "15 error           14754\n",
            "16 make            14672\n",
            "17 example         13903\n",
            "18 create          13809\n",
            "19 run             13368\n",
            "20 look            12821\n",
            "21 problem         12042\n",
            "22 c               12022\n",
            "23 see             11837\n",
            "24 seem            11728\n",
            "25 set             11294\n",
            "26 question        11102\n",
            "27 add             10948\n",
            "28 good            10885\n",
            "29 value           10516\n",
            "30 time            10393\n",
            "31 method          10376\n",
            "32 new             10251\n",
            "33 could           10224\n",
            "34 change          10203\n",
            "35 thank           10171\n",
            "36 application      9905\n",
            "37 call             9596\n",
            "38 function         9313\n",
            "39 give             9133\n",
            "40 user             8964\n",
            "41 write            8956\n",
            "42 go               8954\n",
            "43 class            8914\n",
            "44 possible         8911\n",
            "45 help             8716\n",
            "46 server           8441\n",
            "47 object           8164\n",
            "48 without          7990\n",
            "49 net              7844\n",
            "50 project          7811\n",
            "51 say              7806\n",
            "52 two              7782\n",
            "53 datum            7649\n",
            "54 think            7613\n",
            "55 line             7537\n",
            "56 type             7482\n",
            "57 java             7345\n",
            "58 edit             7278\n",
            "59 return           7222\n",
            "60 solution         7202\n",
            "61 list             6987\n",
            "62 app              6987\n",
            "63 simple           6917\n",
            "64 show             6893\n",
            "65 string           6805\n",
            "66 name             6803\n",
            "67 able             6781\n",
            "68 read             6731\n",
            "69 thing            6651\n",
            "70 update           6639\n",
            "71 python           6636\n",
            "72 start            6626\n",
            "73 different        6508\n",
            "74 page             6483\n",
            "75 command          6470\n",
            "76 idea             6415\n",
            "77 may              6083\n",
            "78 result           6008\n",
            "79 case             5967\n",
            "80 check            5850\n",
            "81 web              5828\n",
            "82 version          5818\n",
            "83 html             5818\n",
            "84 answer           5809\n",
            "85 build            5805\n",
            "86 number           5767\n",
            "87 not              5540\n",
            "88 window           5518\n",
            "89 e                5506\n",
            "90 test             5505\n",
            "91 first            5501\n",
            "92 http             5433\n",
            "93 take             5412\n",
            "94 issue            5318\n",
            "95 table            5262\n",
            "96 text             5193\n",
            "97 database         5094\n",
            "98 understand       5023\n",
            "99 access           5016\n",
            "100 javascript       5007\n"
          ],
          "name": "stdout"
        }
      ]
    },
    {
      "cell_type": "markdown",
      "metadata": {
        "id": "L1K87_jZeFs6"
      },
      "source": [
        "We decide to delete the 70 most frequent words - 8 good words.\r\n"
      ]
    },
    {
      "cell_type": "code",
      "metadata": {
        "id": "Rp3XJ4mheIhT"
      },
      "source": [
        "to_delete = [id2token[i] for e, (i, count) in enumerate(words_sorted[:70])]\r\n",
        "\r\n",
        "list_remove = ['java', 'list', 'net', 'app', 'c', 'server',\r\n",
        "               'class', 'application']\r\n",
        "\r\n",
        "for word in list_remove:\r\n",
        "  to_delete.remove(word) \r\n",
        "\r\n",
        "bad_ids = [dictionary.token2id[token] for token in to_delete]\r\n",
        "\r\n",
        "dictionary.filter_tokens(bad_ids=bad_ids)"
      ],
      "execution_count": 32,
      "outputs": []
    },
    {
      "cell_type": "markdown",
      "metadata": {
        "id": "3VAVSzuYeLRr"
      },
      "source": [
        "And finally, to conclude our pre-processing part, we create our bag of words. This representation makes it possible to count the number of occurrences of each word in the dictionary for each document. The resulting dataframe will serve as input data to our model"
      ]
    },
    {
      "cell_type": "code",
      "metadata": {
        "colab": {
          "base_uri": "https://localhost:8080/"
        },
        "id": "7pD2cYBbeOqL",
        "outputId": "eb6d4d23-6dda-4322-be97-94fcbf25d36e"
      },
      "source": [
        "corpus = texts_cleaned.apply(dictionary.doc2bow)\r\n",
        "random_display(corpus, sample)"
      ],
      "execution_count": 33,
      "outputs": [
        {
          "output_type": "stream",
          "text": [
            "[(40, 1), (54, 2), (73, 1), (77, 1), (118, 1), (127, 1), (138, 1), (175, 1), (230, 1), (235, 1), (271, 1), (314, 1), (381, 1), (503, 2), (541, 1), (551, 3), (555, 1), (567, 4), (611, 1), (691, 1), (695, 1), (731, 2), (750, 1), (759, 2), (800, 1), (1052, 1), (1194, 1), (1331, 5), (1368, 1), (1596, 1), (1665, 2), (1667, 3), (2120, 1), (2161, 3), (2295, 1), (2447, 1)] \n",
            "--------------------\n",
            "\n",
            "\n",
            "[(27, 1), (72, 1), (206, 2), (329, 4), (451, 1), (509, 2), (654, 4), (1010, 1), (1070, 1), (1123, 1), (1573, 1)] \n",
            "--------------------\n",
            "\n",
            "\n"
          ],
          "name": "stdout"
        }
      ]
    },
    {
      "cell_type": "markdown",
      "metadata": {
        "id": "ITcCtLXPe20b"
      },
      "source": [
        "I save my objects"
      ]
    },
    {
      "cell_type": "code",
      "metadata": {
        "colab": {
          "base_uri": "https://localhost:8080/"
        },
        "id": "iL2-dmd9e3EK",
        "outputId": "e4963883-0205-413c-cc84-facb502a42cc"
      },
      "source": [
        "joblib.dump(corpus, 'corpus.sav')\r\n",
        "joblib.dump(dictionary, 'dictionary.sav')\r\n",
        "joblib.dump(df, 'df.sav')\r\n",
        "joblib.dump(texts_cleaned, 'texts_cleaned.sav')"
      ],
      "execution_count": 34,
      "outputs": [
        {
          "output_type": "execute_result",
          "data": {
            "text/plain": [
              "['texts_cleaned.sav']"
            ]
          },
          "metadata": {
            "tags": []
          },
          "execution_count": 34
        }
      ]
    }
  ]
}