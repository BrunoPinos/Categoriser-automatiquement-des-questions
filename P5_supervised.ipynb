{
  "nbformat": 4,
  "nbformat_minor": 0,
  "metadata": {
    "accelerator": "TPU",
    "colab": {
      "name": "P5_supervised.ipynb",
      "provenance": [],
      "collapsed_sections": [],
      "mount_file_id": "1aFMHePveGqtJPSdCCsodCZ8QXjhIRi7S",
      "authorship_tag": "ABX9TyMt2B7WHrRqfSjd88NiBbGH",
      "include_colab_link": true
    },
    "kernelspec": {
      "display_name": "Python 3",
      "name": "python3"
    }
  },
  "cells": [
    {
      "cell_type": "markdown",
      "metadata": {
        "id": "view-in-github",
        "colab_type": "text"
      },
      "source": [
        "<a href=\"https://colab.research.google.com/github/BrunoPinos/Categoriser-automatiquement-des-questions/blob/dev/P5_supervised.ipynb\" target=\"_parent\"><img src=\"https://colab.research.google.com/assets/colab-badge.svg\" alt=\"Open In Colab\"/></a>"
      ]
    },
    {
      "cell_type": "code",
      "metadata": {
        "id": "fpYQdfaDC-Zn"
      },
      "source": [
        "# data analysis and wrangling\r\n",
        "import pandas as pd\r\n",
        "from scipy import stats\r\n",
        "\r\n",
        "# visualization\r\n",
        "import matplotlib.pyplot as plt\r\n",
        "import seaborn as sn\r\n",
        "import numpy as np\r\n",
        "\r\n",
        "# text\r\n",
        "from gensim.models import LdaMulticore\r\n",
        "from gensim.models import Phrases, CoherenceModel\r\n",
        "from gensim.matutils import corpus2csc\r\n",
        "from IPython.display import display, HTML\r\n",
        "\r\n",
        "# Save objects\r\n",
        "import joblib\r\n",
        "\r\n",
        "# Machine learning\r\n",
        "from sklearn.model_selection import train_test_split, GridSearchCV\r\n",
        "from sklearn.feature_extraction.text import TfidfTransformer\r\n",
        "from sklearn.preprocessing import MultiLabelBinarizer\r\n",
        "from sklearn.pipeline import Pipeline\r\n",
        "from sklearn.ensemble import RandomForestClassifier\r\n",
        "from sklearn.ensemble import GradientBoostingClassifier\r\n",
        "from sklearn.multiclass import OneVsRestClassifier\r\n",
        "from sklearn.naive_bayes import MultinomialNB\r\n",
        "from sklearn.svm import LinearSVC\r\n",
        "from sklearn.multioutput import MultiOutputClassifier\r\n",
        "from sklearn.neural_network import MLPClassifier\r\n",
        "\r\n",
        "# Set working directory\r\n",
        "import time\r\n",
        "import os\r\n",
        "os.chdir('/content/drive/MyDrive/Colab Notebooks/P5')\r\n",
        "\r\n",
        "# Data table display for Pandas dataframes\r\n",
        "from google.colab import data_table\r\n",
        "%load_ext google.colab.data_table"
      ],
      "execution_count": null,
      "outputs": []
    },
    {
      "cell_type": "markdown",
      "metadata": {
        "id": "Rv2rw5qLED1Z"
      },
      "source": [
        "Import"
      ]
    },
    {
      "cell_type": "code",
      "metadata": {
        "id": "LUH3ZMqAENlH"
      },
      "source": [
        "df = joblib.load('df.sav')\r\n",
        "texts_cleaned = joblib.load('texts_cleaned.sav')\r\n",
        "dictionary = joblib.load('dictionary.sav')"
      ],
      "execution_count": null,
      "outputs": []
    },
    {
      "cell_type": "markdown",
      "metadata": {
        "id": "phyfrpRVjMY6"
      },
      "source": [
        "Create the main dataframe with Tags and Text (cleaned) features"
      ]
    },
    {
      "cell_type": "code",
      "metadata": {
        "id": "HU3AK--7islj"
      },
      "source": [
        "df['Text'] = texts_cleaned\r\n",
        "\r\n",
        "df.drop(['Body', 'Title'], axis=1, inplace=True)"
      ],
      "execution_count": null,
      "outputs": []
    },
    {
      "cell_type": "markdown",
      "metadata": {
        "id": "Q7-4UOb4js7q"
      },
      "source": [
        "Split Tag"
      ]
    },
    {
      "cell_type": "code",
      "metadata": {
        "colab": {
          "base_uri": "https://localhost:8080/"
        },
        "id": "AEBglHDqj6PJ",
        "outputId": "248b02c2-399c-4ec9-b931-e3596ce9062d"
      },
      "source": [
        "list_tags = df.Tags.apply(lambda tags: tags[1:-1].split('><'))\r\n",
        "list_tags"
      ],
      "execution_count": null,
      "outputs": [
        {
          "output_type": "execute_result",
          "data": {
            "text/plain": [
              "Id\n",
              "10000005                           [php, arrays, sorting]\n",
              "10000083    [javascript, events, event-handling, handler]\n",
              "10000335                          [linux, gdb, libc, ldd]\n",
              "10003270                         [c, arrays, gcc, struct]\n",
              "10003562            [objective-c, ios, storyboard, segue]\n",
              "                                ...                      \n",
              "1213074           [wpf, winforms, interop, drag-and-drop]\n",
              "1213127         [java, mysql, database-connection, sleep]\n",
              "1213137                             [iphone, uitableview]\n",
              "1213144                      [sql-server-ce, data-paging]\n",
              "1213217              [perl, dependencies, module, legacy]\n",
              "Name: Tags, Length: 101366, dtype: object"
            ]
          },
          "metadata": {
            "tags": []
          },
          "execution_count": 4
        }
      ]
    },
    {
      "cell_type": "code",
      "metadata": {
        "colab": {
          "base_uri": "https://localhost:8080/"
        },
        "id": "dpAAUObBm0TR",
        "outputId": "1ce89f0f-a09f-4645-a7df-32e83d277e5e"
      },
      "source": [
        "list_tags_total = list()\r\n",
        "\r\n",
        "for row in list_tags:\r\n",
        "  for word in row:\r\n",
        "    list_tags_total.append(word)\r\n",
        "\r\n",
        "list_tags_total = pd.Series(list_tags_total)\r\n",
        "print(f'There are {list_tags_total.nunique()} Tags')"
      ],
      "execution_count": null,
      "outputs": [
        {
          "output_type": "stream",
          "text": [
            "There are 14413 Tags\n"
          ],
          "name": "stdout"
        }
      ]
    },
    {
      "cell_type": "code",
      "metadata": {
        "colab": {
          "base_uri": "https://localhost:8080/",
          "height": 460
        },
        "id": "b5wPAMA1rere",
        "outputId": "5704c411-ccae-4a6b-d2f4-8d3b4eb9f354"
      },
      "source": [
        "data_count = list_tags_total.value_counts()\r\n",
        "fig = plt.figure(1, figsize=(10, 7))\r\n",
        "sn.lineplot(x = range(0, 1000), y = data_count[0:1000])\r\n",
        "plt.xticks(rotation=90)\r\n",
        "plt.title('Distribution : text')\r\n",
        "plt.show()"
      ],
      "execution_count": null,
      "outputs": [
        {
          "output_type": "display_data",
          "data": {
            "image/png": "[encoded data removed]",
            "text/plain": [
              "<Figure size 720x504 with 1 Axes>"
            ]
          },
          "metadata": {
            "tags": [],
            "needs_background": "light"
          }
        }
      ]
    },
    {
      "cell_type": "code",
      "metadata": {
        "colab": {
          "base_uri": "https://localhost:8080/",
          "height": 628
        },
        "id": "n8dnicipnLPI",
        "outputId": "cd965af3-9f6e-4fc8-c6fb-5aec6e2fe057"
      },
      "source": [
        "fig = plt.figure(1, figsize=(20, 10))\r\n",
        "sn.barplot(x = data_count[0:50].values, y = data_count[0:50].index)\r\n",
        "plt.xticks(rotation=90)\r\n",
        "plt.title('Distribution des Tags')\r\n",
        "plt.show()"
      ],
      "execution_count": null,
      "outputs": [
        {
          "output_type": "display_data",
          "data": {
            "image/png": "[encoded data removed]",
            "text/plain": [
              "<Figure size 1440x720 with 1 Axes>"
            ]
          },
          "metadata": {
            "tags": [],
            "needs_background": "light"
          }
        }
      ]
    },
    {
      "cell_type": "code",
      "metadata": {
        "colab": {
          "base_uri": "https://localhost:8080/"
        },
        "id": "dMo_hKKFxaFb",
        "outputId": "cefdd992-19c0-4a4f-9209-d7ea2f20822d"
      },
      "source": [
        "list_tags"
      ],
      "execution_count": null,
      "outputs": [
        {
          "output_type": "execute_result",
          "data": {
            "text/plain": [
              "Id\n",
              "10000005                           [php, arrays, sorting]\n",
              "10000083    [javascript, events, event-handling, handler]\n",
              "10000335                          [linux, gdb, libc, ldd]\n",
              "10003270                         [c, arrays, gcc, struct]\n",
              "10003562            [objective-c, ios, storyboard, segue]\n",
              "                                ...                      \n",
              "1213074           [wpf, winforms, interop, drag-and-drop]\n",
              "1213127         [java, mysql, database-connection, sleep]\n",
              "1213137                             [iphone, uitableview]\n",
              "1213144                      [sql-server-ce, data-paging]\n",
              "1213217              [perl, dependencies, module, legacy]\n",
              "Name: Tags, Length: 101366, dtype: object"
            ]
          },
          "metadata": {
            "tags": []
          },
          "execution_count": 8
        }
      ]
    },
    {
      "cell_type": "code",
      "metadata": {
        "id": "IS6xIjkasJu_"
      },
      "source": [
        "n = 10\r\n",
        "i = 0\r\n",
        "good_tags = data_count[0:n].index\r\n",
        "list_tag_n = list()\r\n",
        "\r\n",
        "for row in list_tags:\r\n",
        "  list_tag_n.append(list())\r\n",
        "  for word in row:\r\n",
        "    if word in good_tags:\r\n",
        "      list_tag_n[i].append(word)\r\n",
        "  i += 1"
      ],
      "execution_count": null,
      "outputs": []
    },
    {
      "cell_type": "code",
      "metadata": {
        "id": "OC_bUS0-tebt"
      },
      "source": [
        "df['Tags'] = list_tag_n\r\n",
        "df = df.loc[df['Tags'].apply(len) > 0]"
      ],
      "execution_count": null,
      "outputs": []
    },
    {
      "cell_type": "code",
      "metadata": {
        "colab": {
          "base_uri": "https://localhost:8080/",
          "height": 420
        },
        "id": "71v3aHamCVOq",
        "outputId": "d492dbea-371c-4b41-ae36-118e3d5bce68"
      },
      "source": [
        "df"
      ],
      "execution_count": null,
      "outputs": [
        {
          "output_type": "execute_result",
          "data": {
            "text/html": [
              "<div>\n",
              "<style scoped>\n",
              "    .dataframe tbody tr th:only-of-type {\n",
              "        vertical-align: middle;\n",
              "    }\n",
              "\n",
              "    .dataframe tbody tr th {\n",
              "        vertical-align: top;\n",
              "    }\n",
              "\n",
              "    .dataframe thead th {\n",
              "        text-align: right;\n",
              "    }\n",
              "</style>\n",
              "<table border=\"1\" class=\"dataframe\">\n",
              "  <thead>\n",
              "    <tr style=\"text-align: right;\">\n",
              "      <th></th>\n",
              "      <th>Tags</th>\n",
              "      <th>Text</th>\n",
              "    </tr>\n",
              "    <tr>\n",
              "      <th>Id</th>\n",
              "      <th></th>\n",
              "      <th></th>\n",
              "    </tr>\n",
              "  </thead>\n",
              "  <tbody>\n",
              "    <tr>\n",
              "      <th>10000005</th>\n",
              "      <td>[php]</td>\n",
              "      <td>[php, sort, array, field, possible, duplicate,...</td>\n",
              "    </tr>\n",
              "    <tr>\n",
              "      <th>10000083</th>\n",
              "      <td>[javascript]</td>\n",
              "      <td>[javascript, event, handler, parameter, want, ...</td>\n",
              "    </tr>\n",
              "    <tr>\n",
              "      <th>10003683</th>\n",
              "      <td>[javascript]</td>\n",
              "      <td>[extract, number, string, javascript, string, ...</td>\n",
              "    </tr>\n",
              "    <tr>\n",
              "      <th>10006459</th>\n",
              "      <td>[javascript]</td>\n",
              "      <td>[regular, expression, address, validation, wan...</td>\n",
              "    </tr>\n",
              "    <tr>\n",
              "      <th>10006529</th>\n",
              "      <td>[javascript]</td>\n",
              "      <td>[change, color, highchart, use, highchart, mak...</td>\n",
              "    </tr>\n",
              "    <tr>\n",
              "      <th>...</th>\n",
              "      <td>...</td>\n",
              "      <td>...</td>\n",
              "    </tr>\n",
              "    <tr>\n",
              "      <th>1212838</th>\n",
              "      <td>[c#]</td>\n",
              "      <td>[send, mails, image, inline, use, smtpclient, ...</td>\n",
              "    </tr>\n",
              "    <tr>\n",
              "      <th>1212882</th>\n",
              "      <td>[java]</td>\n",
              "      <td>[convert, byte, array, image, java, without, k...</td>\n",
              "    </tr>\n",
              "    <tr>\n",
              "      <th>1212914</th>\n",
              "      <td>[c#]</td>\n",
              "      <td>[enable, scroll, microsoft, chart, control, wi...</td>\n",
              "    </tr>\n",
              "    <tr>\n",
              "      <th>1212978</th>\n",
              "      <td>[c++]</td>\n",
              "      <td>[throw, expression, type, pick, one, brief, fo...</td>\n",
              "    </tr>\n",
              "    <tr>\n",
              "      <th>1213127</th>\n",
              "      <td>[java]</td>\n",
              "      <td>[detect, sleep, wake, event, java, way, java, ...</td>\n",
              "    </tr>\n",
              "  </tbody>\n",
              "</table>\n",
              "<p>53721 rows × 2 columns</p>\n",
              "</div>"
            ],
            "text/plain": [
              "                  Tags                                               Text\n",
              "Id                                                                       \n",
              "10000005         [php]  [php, sort, array, field, possible, duplicate,...\n",
              "10000083  [javascript]  [javascript, event, handler, parameter, want, ...\n",
              "10003683  [javascript]  [extract, number, string, javascript, string, ...\n",
              "10006459  [javascript]  [regular, expression, address, validation, wan...\n",
              "10006529  [javascript]  [change, color, highchart, use, highchart, mak...\n",
              "...                ...                                                ...\n",
              "1212838           [c#]  [send, mails, image, inline, use, smtpclient, ...\n",
              "1212882         [java]  [convert, byte, array, image, java, without, k...\n",
              "1212914           [c#]  [enable, scroll, microsoft, chart, control, wi...\n",
              "1212978          [c++]  [throw, expression, type, pick, one, brief, fo...\n",
              "1213127         [java]  [detect, sleep, wake, event, java, way, java, ...\n",
              "\n",
              "[53721 rows x 2 columns]"
            ]
          },
          "metadata": {
            "tags": []
          },
          "execution_count": 11
        }
      ]
    },
    {
      "cell_type": "code",
      "metadata": {
        "id": "xPQBAwj9BD5S"
      },
      "source": [
        "# I binarize tags\r\n",
        "binarizer = MultiLabelBinarizer()\r\n",
        "y = binarizer.fit_transform(df['Tags'])\r\n",
        "\r\n",
        "# I transform the text with dictionary\r\n",
        "X = df['Text'].apply(dictionary.doc2bow)\r\n",
        "X = corpus2csc(X, num_terms=len(dictionary)).transpose()"
      ],
      "execution_count": null,
      "outputs": []
    },
    {
      "cell_type": "code",
      "metadata": {
        "id": "vU8PLbKrozvc"
      },
      "source": [
        "X_train, X_test, y_train, y_test = \\\r\n",
        "                        train_test_split(X,\r\n",
        "                                         y,\r\n",
        "                                         test_size=0.20,\r\n",
        "                                         shuffle=True,\r\n",
        "                                         random_state=0)"
      ],
      "execution_count": null,
      "outputs": []
    },
    {
      "cell_type": "markdown",
      "metadata": {
        "id": "pMgJlsnU_ZJ9"
      },
      "source": [
        "Naive bayesien"
      ]
    },
    {
      "cell_type": "code",
      "metadata": {
        "colab": {
          "base_uri": "https://localhost:8080/"
        },
        "id": "0V5rqvVn_IHp",
        "outputId": "8656a444-1c40-4eb1-d4c4-a4a4dbe09181"
      },
      "source": [
        "estimator_nb = Pipeline([('tfidf', TfidfTransformer()), \r\n",
        "                         ('nb', MultiOutputClassifier(MultinomialNB())),\r\n",
        "                        ])\r\n",
        "\r\n",
        "parameters = {'nb__estimator__alpha': [1.0, 3e-1, 1e-1, 3e-2, 1e-2]}\r\n",
        "\r\n",
        "nb_grid = GridSearchCV(estimator_nb,\r\n",
        "                        param_grid=parameters,\r\n",
        "                        scoring='jaccard_samples',\r\n",
        "                        n_jobs=-1,\r\n",
        "                        verbose=1,\r\n",
        "                        cv=5)\r\n",
        "\r\n",
        "nb_grid.fit(X_train, y_train)"
      ],
      "execution_count": null,
      "outputs": [
        {
          "output_type": "stream",
          "text": [
            "Fitting 5 folds for each of 5 candidates, totalling 25 fits\n"
          ],
          "name": "stdout"
        },
        {
          "output_type": "stream",
          "text": [
            "[Parallel(n_jobs=-1)]: Using backend LokyBackend with 2 concurrent workers.\n",
            "[Parallel(n_jobs=-1)]: Done  25 out of  25 | elapsed:    4.7s finished\n"
          ],
          "name": "stderr"
        },
        {
          "output_type": "execute_result",
          "data": {
            "text/plain": [
              "GridSearchCV(cv=5, error_score=nan,\n",
              "             estimator=Pipeline(memory=None,\n",
              "                                steps=[('tfidf',\n",
              "                                        TfidfTransformer(norm='l2',\n",
              "                                                         smooth_idf=True,\n",
              "                                                         sublinear_tf=False,\n",
              "                                                         use_idf=True)),\n",
              "                                       ('nb',\n",
              "                                        MultiOutputClassifier(estimator=MultinomialNB(alpha=1.0,\n",
              "                                                                                      class_prior=None,\n",
              "                                                                                      fit_prior=True),\n",
              "                                                              n_jobs=None))],\n",
              "                                verbose=False),\n",
              "             iid='deprecated', n_jobs=-1,\n",
              "             param_grid={'nb__estimator__alpha': [1.0, 0.3, 0.1, 0.03, 0.01]},\n",
              "             pre_dispatch='2*n_jobs', refit=True, return_train_score=False,\n",
              "             scoring='jaccard_samples', verbose=1)"
            ]
          },
          "metadata": {
            "tags": []
          },
          "execution_count": 14
        }
      ]
    },
    {
      "cell_type": "code",
      "metadata": {
        "colab": {
          "base_uri": "https://localhost:8080/"
        },
        "id": "0fqDnxap1KoU",
        "outputId": "a7d4a60a-3621-4bb7-f249-cb5c117c60ee"
      },
      "source": [
        "nb_grid.best_params_"
      ],
      "execution_count": null,
      "outputs": [
        {
          "output_type": "execute_result",
          "data": {
            "text/plain": [
              "{'nb__estimator__alpha': 0.03}"
            ]
          },
          "metadata": {
            "tags": []
          },
          "execution_count": 15
        }
      ]
    },
    {
      "cell_type": "code",
      "metadata": {
        "colab": {
          "base_uri": "https://localhost:8080/"
        },
        "id": "aDhaiWbA1NGT",
        "outputId": "67696125-2c20-47b8-ae74-16ab541493e7"
      },
      "source": [
        "nb_grid.best_score_"
      ],
      "execution_count": null,
      "outputs": [
        {
          "output_type": "execute_result",
          "data": {
            "text/plain": [
              "0.4442073088366384"
            ]
          },
          "metadata": {
            "tags": []
          },
          "execution_count": 16
        }
      ]
    },
    {
      "cell_type": "code",
      "metadata": {
        "colab": {
          "base_uri": "https://localhost:8080/"
        },
        "id": "6Eum_u2k1UzD",
        "outputId": "2f7e821f-2e2c-43b4-8521-be8132727a3f"
      },
      "source": [
        "print(\"Score sur test set: \",\r\n",
        "      round(nb_grid.score(X_test, y_test), 3))"
      ],
      "execution_count": null,
      "outputs": [
        {
          "output_type": "stream",
          "text": [
            "Score sur test set:  0.461\n"
          ],
          "name": "stdout"
        }
      ]
    },
    {
      "cell_type": "markdown",
      "metadata": {
        "id": "oNZAbt9v1tzy"
      },
      "source": [
        "SVM"
      ]
    },
    {
      "cell_type": "code",
      "metadata": {
        "id": "2Fl64zrV1u4D",
        "colab": {
          "base_uri": "https://localhost:8080/"
        },
        "outputId": "d839a7a7-0ac4-450e-c544-f728acd8d7bd"
      },
      "source": [
        "estimator_svm = Pipeline([('tfidf', TfidfTransformer()), \r\n",
        "                          ('svm',\r\n",
        "                           MultiOutputClassifier(LinearSVC(max_iter=1000)))\r\n",
        "                          ])\r\n",
        "\r\n",
        "parameters = {'svm__estimator__C': [1, 10, 30]}\r\n",
        "\r\n",
        "svm_grid = GridSearchCV(estimator_svm,\r\n",
        "                        param_grid=parameters,\r\n",
        "                        scoring='jaccard_samples',\r\n",
        "                        n_jobs=-1,\r\n",
        "                        verbose=1,\r\n",
        "                        cv=5)\r\n",
        "\r\n",
        "svm_grid.fit(X_train, y_train)"
      ],
      "execution_count": null,
      "outputs": [
        {
          "output_type": "stream",
          "text": [
            "Fitting 5 folds for each of 3 candidates, totalling 15 fits\n"
          ],
          "name": "stdout"
        },
        {
          "output_type": "stream",
          "text": [
            "[Parallel(n_jobs=-1)]: Using backend LokyBackend with 2 concurrent workers.\n",
            "[Parallel(n_jobs=-1)]: Done  15 out of  15 | elapsed:  1.6min finished\n"
          ],
          "name": "stderr"
        },
        {
          "output_type": "execute_result",
          "data": {
            "text/plain": [
              "GridSearchCV(cv=5, error_score=nan,\n",
              "             estimator=Pipeline(memory=None,\n",
              "                                steps=[('tfidf',\n",
              "                                        TfidfTransformer(norm='l2',\n",
              "                                                         smooth_idf=True,\n",
              "                                                         sublinear_tf=False,\n",
              "                                                         use_idf=True)),\n",
              "                                       ('svm',\n",
              "                                        MultiOutputClassifier(estimator=LinearSVC(C=1.0,\n",
              "                                                                                  class_weight=None,\n",
              "                                                                                  dual=True,\n",
              "                                                                                  fit_intercept=True,\n",
              "                                                                                  intercept_scaling=1,\n",
              "                                                                                  loss='squared_hinge',\n",
              "                                                                                  max_iter=1000,\n",
              "                                                                                  multi_class='ovr',\n",
              "                                                                                  penalty='l2',\n",
              "                                                                                  random_state=None,\n",
              "                                                                                  tol=0.0001,\n",
              "                                                                                  verbose=0),\n",
              "                                                              n_jobs=None))],\n",
              "                                verbose=False),\n",
              "             iid='deprecated', n_jobs=-1,\n",
              "             param_grid={'svm__estimator__C': [1, 10, 30]},\n",
              "             pre_dispatch='2*n_jobs', refit=True, return_train_score=False,\n",
              "             scoring='jaccard_samples', verbose=1)"
            ]
          },
          "metadata": {
            "tags": []
          },
          "execution_count": 18
        }
      ]
    },
    {
      "cell_type": "code",
      "metadata": {
        "id": "G1TK9JEP5yE5",
        "colab": {
          "base_uri": "https://localhost:8080/"
        },
        "outputId": "deb05e43-ba83-44ae-b599-c477d1cd2e7a"
      },
      "source": [
        "svm_grid.best_params_"
      ],
      "execution_count": null,
      "outputs": [
        {
          "output_type": "execute_result",
          "data": {
            "text/plain": [
              "{'svm__estimator__C': 1}"
            ]
          },
          "metadata": {
            "tags": []
          },
          "execution_count": 19
        }
      ]
    },
    {
      "cell_type": "code",
      "metadata": {
        "id": "sLwSP9ZT5yE9",
        "colab": {
          "base_uri": "https://localhost:8080/"
        },
        "outputId": "57e2dffb-9d30-49ff-98d0-aba0cbf64293"
      },
      "source": [
        "svm_grid.best_score_"
      ],
      "execution_count": null,
      "outputs": [
        {
          "output_type": "execute_result",
          "data": {
            "text/plain": [
              "0.6885335673892814"
            ]
          },
          "metadata": {
            "tags": []
          },
          "execution_count": 20
        }
      ]
    },
    {
      "cell_type": "code",
      "metadata": {
        "id": "pxfxkt955yE9",
        "colab": {
          "base_uri": "https://localhost:8080/"
        },
        "outputId": "83dc2d0d-5dcc-45b6-ce3a-5f45bd22c893"
      },
      "source": [
        "print(\"Score sur test set: \",\r\n",
        "      round(svm_grid.score(X_test, y_test), 3))"
      ],
      "execution_count": null,
      "outputs": [
        {
          "output_type": "stream",
          "text": [
            "Score sur test set:  0.701\n"
          ],
          "name": "stdout"
        }
      ]
    },
    {
      "cell_type": "markdown",
      "metadata": {
        "id": "4mR5atA9h9hi"
      },
      "source": [
        "MLPclassifier"
      ]
    },
    {
      "cell_type": "code",
      "metadata": {
        "colab": {
          "background_save": true
        },
        "id": "uVy7pLyOh8vz",
        "outputId": "19ccb5a0-6926-47ad-e3f6-1427b74d6325"
      },
      "source": [
        "estimator_mlp = Pipeline([('tfidf', TfidfTransformer()), \r\n",
        "                          ('mlp', MultiOutputClassifier(MLPClassifier()))])\r\n",
        "\r\n",
        "parameters = {\r\n",
        "    'mlp__estimator__max_iter' : [50], #maximum iteration\r\n",
        "}\r\n",
        "\r\n",
        "mlp_grid = GridSearchCV(estimator_mlp,\r\n",
        "                        param_grid=parameters,\r\n",
        "                        scoring='jaccard_samples',\r\n",
        "                        n_jobs=-1,\r\n",
        "                        verbose=1,\r\n",
        "                        cv=5)\r\n",
        "\r\n",
        "mlp_grid.fit(X_train, y_train)"
      ],
      "execution_count": null,
      "outputs": [
        {
          "output_type": "stream",
          "text": [
            "Fitting 5 folds for each of 1 candidates, totalling 5 fits\n"
          ],
          "name": "stdout"
        },
        {
          "output_type": "stream",
          "text": [
            "[Parallel(n_jobs=-1)]: Using backend LokyBackend with 2 concurrent workers.\n",
            "[Parallel(n_jobs=-1)]: Done   5 out of   5 | elapsed: 62.9min finished\n",
            "/usr/local/lib/python3.6/dist-packages/sklearn/neural_network/_multilayer_perceptron.py:571: ConvergenceWarning: Stochastic Optimizer: Maximum iterations (50) reached and the optimization hasn't converged yet.\n",
            "  % self.max_iter, ConvergenceWarning)\n",
            "/usr/local/lib/python3.6/dist-packages/sklearn/neural_network/_multilayer_perceptron.py:571: ConvergenceWarning: Stochastic Optimizer: Maximum iterations (50) reached and the optimization hasn't converged yet.\n",
            "  % self.max_iter, ConvergenceWarning)\n",
            "/usr/local/lib/python3.6/dist-packages/sklearn/neural_network/_multilayer_perceptron.py:571: ConvergenceWarning: Stochastic Optimizer: Maximum iterations (50) reached and the optimization hasn't converged yet.\n",
            "  % self.max_iter, ConvergenceWarning)\n",
            "/usr/local/lib/python3.6/dist-packages/sklearn/neural_network/_multilayer_perceptron.py:571: ConvergenceWarning: Stochastic Optimizer: Maximum iterations (50) reached and the optimization hasn't converged yet.\n",
            "  % self.max_iter, ConvergenceWarning)\n",
            "/usr/local/lib/python3.6/dist-packages/sklearn/neural_network/_multilayer_perceptron.py:571: ConvergenceWarning: Stochastic Optimizer: Maximum iterations (50) reached and the optimization hasn't converged yet.\n",
            "  % self.max_iter, ConvergenceWarning)\n",
            "/usr/local/lib/python3.6/dist-packages/sklearn/neural_network/_multilayer_perceptron.py:571: ConvergenceWarning: Stochastic Optimizer: Maximum iterations (50) reached and the optimization hasn't converged yet.\n",
            "  % self.max_iter, ConvergenceWarning)\n",
            "/usr/local/lib/python3.6/dist-packages/sklearn/neural_network/_multilayer_perceptron.py:571: ConvergenceWarning: Stochastic Optimizer: Maximum iterations (50) reached and the optimization hasn't converged yet.\n",
            "  % self.max_iter, ConvergenceWarning)\n",
            "/usr/local/lib/python3.6/dist-packages/sklearn/neural_network/_multilayer_perceptron.py:571: ConvergenceWarning: Stochastic Optimizer: Maximum iterations (50) reached and the optimization hasn't converged yet.\n",
            "  % self.max_iter, ConvergenceWarning)\n",
            "/usr/local/lib/python3.6/dist-packages/sklearn/neural_network/_multilayer_perceptron.py:571: ConvergenceWarning: Stochastic Optimizer: Maximum iterations (50) reached and the optimization hasn't converged yet.\n",
            "  % self.max_iter, ConvergenceWarning)\n",
            "/usr/local/lib/python3.6/dist-packages/sklearn/neural_network/_multilayer_perceptron.py:571: ConvergenceWarning: Stochastic Optimizer: Maximum iterations (50) reached and the optimization hasn't converged yet.\n",
            "  % self.max_iter, ConvergenceWarning)\n"
          ],
          "name": "stderr"
        },
        {
          "output_type": "execute_result",
          "data": {
            "text/plain": [
              "GridSearchCV(cv=5, error_score=nan,\n",
              "             estimator=Pipeline(memory=None,\n",
              "                                steps=[('tfidf',\n",
              "                                        TfidfTransformer(norm='l2',\n",
              "                                                         smooth_idf=True,\n",
              "                                                         sublinear_tf=False,\n",
              "                                                         use_idf=True)),\n",
              "                                       ('mlp',\n",
              "                                        MultiOutputClassifier(estimator=MLPClassifier(activation='relu',\n",
              "                                                                                      alpha=0.0001,\n",
              "                                                                                      batch_size='auto',\n",
              "                                                                                      beta_1=0.9,\n",
              "                                                                                      beta_2=0.999,\n",
              "                                                                                      early_stopping=False,\n",
              "                                                                                      epsilon=1e-08,\n",
              "                                                                                      hidden_layer_sizes=(100,),\n",
              "                                                                                      learn...\n",
              "                                                                                      n_iter_no_change=10,\n",
              "                                                                                      nesterovs_momentum=True,\n",
              "                                                                                      power_t=0.5,\n",
              "                                                                                      random_state=None,\n",
              "                                                                                      shuffle=True,\n",
              "                                                                                      solver='adam',\n",
              "                                                                                      tol=0.0001,\n",
              "                                                                                      validation_fraction=0.1,\n",
              "                                                                                      verbose=False,\n",
              "                                                                                      warm_start=False),\n",
              "                                                              n_jobs=None))],\n",
              "                                verbose=False),\n",
              "             iid='deprecated', n_jobs=-1,\n",
              "             param_grid={'mlp__estimator__max_iter': [50]},\n",
              "             pre_dispatch='2*n_jobs', refit=True, return_train_score=False,\n",
              "             scoring='jaccard_samples', verbose=1)"
            ]
          },
          "metadata": {
            "tags": []
          },
          "execution_count": 0
        }
      ]
    },
    {
      "cell_type": "code",
      "metadata": {
        "colab": {
          "background_save": true
        },
        "id": "AYugM6TtlQk3",
        "outputId": "9173abc8-0c36-42bb-b834-1725e66fe64d"
      },
      "source": [
        "mlp_grid.best_params_"
      ],
      "execution_count": null,
      "outputs": [
        {
          "output_type": "execute_result",
          "data": {
            "text/plain": [
              "{'mlp__estimator__max_iter': 50}"
            ]
          },
          "metadata": {
            "tags": []
          },
          "execution_count": 0
        }
      ]
    },
    {
      "cell_type": "code",
      "metadata": {
        "colab": {
          "background_save": true
        },
        "id": "n-Gm3E99lQlC",
        "outputId": "2e051dc5-12ac-47ea-a715-07de72989e52"
      },
      "source": [
        "mlp_grid.best_score_"
      ],
      "execution_count": null,
      "outputs": [
        {
          "output_type": "execute_result",
          "data": {
            "text/plain": [
              "0.6840555608793153"
            ]
          },
          "metadata": {
            "tags": []
          },
          "execution_count": 0
        }
      ]
    },
    {
      "cell_type": "code",
      "metadata": {
        "colab": {
          "background_save": true
        },
        "id": "p0wgtRsElQlD",
        "outputId": "e440f869-9bc3-4045-fe98-5db06ebe14e7"
      },
      "source": [
        "print(\"Score sur test set: \",\r\n",
        "      round(mlp_grid.score(X_test, y_test), 3))"
      ],
      "execution_count": null,
      "outputs": [
        {
          "output_type": "stream",
          "text": [
            "Score meilleur Naive Bayes sur test set:  0.703\n"
          ],
          "name": "stdout"
        }
      ]
    },
    {
      "cell_type": "markdown",
      "metadata": {
        "id": "zjwqUMQ39F4x"
      },
      "source": [
        "Xgboost"
      ]
    },
    {
      "cell_type": "code",
      "metadata": {
        "colab": {
          "background_save": true
        },
        "id": "I70QF8BTcOyE",
        "outputId": "5e72af52-ec4e-4b33-f786-3483cfcb43ed"
      },
      "source": [
        "estimator_nb = Pipeline([('tfidf', TfidfTransformer()), \r\n",
        "                         ('xgb', MultiOutputClassifier(\r\n",
        "                             GradientBoostingClassifier())),\r\n",
        "                        ])\r\n",
        "\r\n",
        "parameters = {\r\n",
        "    'xgb__estimator__n_estimators' : [100], #nombre d'arbres de décision\r\n",
        "    'xgb__estimator__min_samples_leaf' : [2], #nombre de feuilles minimales \r\n",
        "    'xgb__estimator__max_features': ['sqrt'] #nombre de features observées\r\n",
        "}\r\n",
        "\r\n",
        "xgb_grid = GridSearchCV(estimator_nb,\r\n",
        "                        param_grid=parameters,\r\n",
        "                        scoring='jaccard_samples',\r\n",
        "                        n_jobs=-1,\r\n",
        "                        verbose=1,\r\n",
        "                        cv=5)\r\n",
        "\r\n",
        "xgb_grid.fit(X_train, y_train)"
      ],
      "execution_count": null,
      "outputs": [
        {
          "output_type": "stream",
          "text": [
            "Fitting 5 folds for each of 1 candidates, totalling 5 fits\n"
          ],
          "name": "stdout"
        },
        {
          "output_type": "stream",
          "text": [
            "[Parallel(n_jobs=-1)]: Using backend LokyBackend with 2 concurrent workers.\n",
            "[Parallel(n_jobs=-1)]: Done   5 out of   5 | elapsed:  1.5min finished\n"
          ],
          "name": "stderr"
        },
        {
          "output_type": "execute_result",
          "data": {
            "text/plain": [
              "GridSearchCV(cv=5, error_score=nan,\n",
              "             estimator=Pipeline(memory=None,\n",
              "                                steps=[('tfidf',\n",
              "                                        TfidfTransformer(norm='l2',\n",
              "                                                         smooth_idf=True,\n",
              "                                                         sublinear_tf=False,\n",
              "                                                         use_idf=True)),\n",
              "                                       ('xgb',\n",
              "                                        MultiOutputClassifier(estimator=GradientBoostingClassifier(ccp_alpha=0.0,\n",
              "                                                                                                   criterion='friedman_mse',\n",
              "                                                                                                   init=None,\n",
              "                                                                                                   learning_rate=0.1,\n",
              "                                                                                                   loss='deviance',\n",
              "                                                                                                   max_depth=3,\n",
              "                                                                                                   max_features=None,\n",
              "                                                                                                   max_leaf_node...\n",
              "                                                                                                   subsample=1.0,\n",
              "                                                                                                   tol=0.0001,\n",
              "                                                                                                   validation_fraction=0.1,\n",
              "                                                                                                   verbose=0,\n",
              "                                                                                                   warm_start=False),\n",
              "                                                              n_jobs=None))],\n",
              "                                verbose=False),\n",
              "             iid='deprecated', n_jobs=-1,\n",
              "             param_grid={'xgb__estimator__max_features': ['sqrt'],\n",
              "                         'xgb__estimator__min_samples_leaf': [2],\n",
              "                         'xgb__estimator__n_estimators': [100]},\n",
              "             pre_dispatch='2*n_jobs', refit=True, return_train_score=False,\n",
              "             scoring='jaccard_samples', verbose=1)"
            ]
          },
          "metadata": {
            "tags": []
          },
          "execution_count": 0
        }
      ]
    },
    {
      "cell_type": "code",
      "metadata": {
        "colab": {
          "background_save": true
        },
        "id": "5Ao5WGe6R_pc",
        "outputId": "fea1b5a5-b0ed-4bca-e774-4785a43070b7"
      },
      "source": [
        "xgb_grid.best_params_"
      ],
      "execution_count": null,
      "outputs": [
        {
          "output_type": "execute_result",
          "data": {
            "text/plain": [
              "{'xgb__estimator__max_features': 'sqrt',\n",
              " 'xgb__estimator__min_samples_leaf': 2,\n",
              " 'xgb__estimator__n_estimators': 100}"
            ]
          },
          "metadata": {
            "tags": []
          },
          "execution_count": 0
        }
      ]
    },
    {
      "cell_type": "code",
      "metadata": {
        "colab": {
          "background_save": true
        },
        "id": "mNgsx3mwR_pg",
        "outputId": "2fb8f085-2570-4f90-c2a3-0dcb00199a07"
      },
      "source": [
        "xgb_grid.best_score_"
      ],
      "execution_count": null,
      "outputs": [
        {
          "output_type": "execute_result",
          "data": {
            "text/plain": [
              "0.3128335114537086"
            ]
          },
          "metadata": {
            "tags": []
          },
          "execution_count": 0
        }
      ]
    },
    {
      "cell_type": "code",
      "metadata": {
        "colab": {
          "background_save": true
        },
        "id": "ElHXnMS0R_pg",
        "outputId": "4521ce8f-0feb-4785-e2d7-6ea273a75d90"
      },
      "source": [
        "print(\"Score sur test set: \",\r\n",
        "      round(xgb_grid.score(X_test, y_test), 3))"
      ],
      "execution_count": null,
      "outputs": [
        {
          "output_type": "stream",
          "text": [
            "Score meilleur Naive Bayes sur test set:  0.452\n"
          ],
          "name": "stdout"
        }
      ]
    },
    {
      "cell_type": "markdown",
      "metadata": {
        "id": "M2517enO9I6p"
      },
      "source": [
        "RandomForest"
      ]
    },
    {
      "cell_type": "code",
      "metadata": {
        "colab": {
          "base_uri": "https://localhost:8080/"
        },
        "id": "uraJggzk9EZi",
        "outputId": "eb922821-1265-4650-fd68-b35e49c29041"
      },
      "source": [
        "estimator_nb = Pipeline([('tfidf', TfidfTransformer()), \r\n",
        "                         ('rf', RandomForestClassifier()),\r\n",
        "                        ])\r\n",
        "\r\n",
        "parameters = {\r\n",
        "    'rf__n_estimators' : [100], #nombre d'arbres de décision\r\n",
        "    'rf__min_samples_leaf' : [5], #nombre de feuilles minimales \r\n",
        "    'rf__max_features': ['auto', 'sqrt'] #nombre de features observées\r\n",
        "}\r\n",
        "\r\n",
        "rf_grid = GridSearchCV(estimator_nb,\r\n",
        "                        param_grid=parameters,\r\n",
        "                        scoring='jaccard_samples',\r\n",
        "                        n_jobs=-1,\r\n",
        "                        verbose=1,\r\n",
        "                        cv=5)\r\n",
        "\r\n",
        "rf_grid.fit(X_train, y_train)"
      ],
      "execution_count": null,
      "outputs": [
        {
          "output_type": "stream",
          "text": [
            "Fitting 5 folds for each of 2 candidates, totalling 10 fits\n"
          ],
          "name": "stdout"
        },
        {
          "output_type": "stream",
          "text": [
            "[Parallel(n_jobs=-1)]: Using backend LokyBackend with 2 concurrent workers.\n",
            "[Parallel(n_jobs=-1)]: Done  10 out of  10 | elapsed:  4.0min finished\n"
          ],
          "name": "stderr"
        },
        {
          "output_type": "execute_result",
          "data": {
            "text/plain": [
              "GridSearchCV(cv=5, error_score=nan,\n",
              "             estimator=Pipeline(memory=None,\n",
              "                                steps=[('tfidf',\n",
              "                                        TfidfTransformer(norm='l2',\n",
              "                                                         smooth_idf=True,\n",
              "                                                         sublinear_tf=False,\n",
              "                                                         use_idf=True)),\n",
              "                                       ('rf',\n",
              "                                        RandomForestClassifier(bootstrap=True,\n",
              "                                                               ccp_alpha=0.0,\n",
              "                                                               class_weight=None,\n",
              "                                                               criterion='gini',\n",
              "                                                               max_depth=None,\n",
              "                                                               max_features='auto',\n",
              "                                                               max_leaf_nodes=None,\n",
              "                                                               max_samples=None,\n",
              "                                                               min_impurity_decrease=0.0,\n",
              "                                                               m...\n",
              "                                                               min_weight_fraction_leaf=0.0,\n",
              "                                                               n_estimators=100,\n",
              "                                                               n_jobs=None,\n",
              "                                                               oob_score=False,\n",
              "                                                               random_state=None,\n",
              "                                                               verbose=0,\n",
              "                                                               warm_start=False))],\n",
              "                                verbose=False),\n",
              "             iid='deprecated', n_jobs=-1,\n",
              "             param_grid={'rf__max_features': ['auto', 'sqrt'],\n",
              "                         'rf__min_samples_leaf': [5],\n",
              "                         'rf__n_estimators': [100]},\n",
              "             pre_dispatch='2*n_jobs', refit=True, return_train_score=False,\n",
              "             scoring='jaccard_samples', verbose=1)"
            ]
          },
          "metadata": {
            "tags": []
          },
          "execution_count": 32
        }
      ]
    },
    {
      "cell_type": "code",
      "metadata": {
        "colab": {
          "base_uri": "https://localhost:8080/"
        },
        "id": "XBoh5rAhKi1-",
        "outputId": "60802efe-d3a9-4c4a-f05c-63238819f579"
      },
      "source": [
        "rf_grid.best_params_"
      ],
      "execution_count": null,
      "outputs": [
        {
          "output_type": "execute_result",
          "data": {
            "text/plain": [
              "{'rf__max_features': 'auto',\n",
              " 'rf__min_samples_leaf': 5,\n",
              " 'rf__n_estimators': 100}"
            ]
          },
          "metadata": {
            "tags": []
          },
          "execution_count": 33
        }
      ]
    },
    {
      "cell_type": "code",
      "metadata": {
        "colab": {
          "base_uri": "https://localhost:8080/"
        },
        "id": "_M-qnzIVKi2B",
        "outputId": "e92fbba3-d8e2-4909-9997-1b03754f58ce"
      },
      "source": [
        "rf_grid.best_score_"
      ],
      "execution_count": null,
      "outputs": [
        {
          "output_type": "execute_result",
          "data": {
            "text/plain": [
              "0.5828971653504798"
            ]
          },
          "metadata": {
            "tags": []
          },
          "execution_count": 34
        }
      ]
    },
    {
      "cell_type": "code",
      "metadata": {
        "colab": {
          "base_uri": "https://localhost:8080/"
        },
        "id": "UmP5CdQTKi2C",
        "outputId": "34bc969a-986f-45b8-8613-051f0647d11e"
      },
      "source": [
        "print(\"Score sur test set: \",\r\n",
        "      round(rf_grid.score(X_test, y_test), 3))"
      ],
      "execution_count": null,
      "outputs": [
        {
          "output_type": "stream",
          "text": [
            "Score sur test set:  0.603\n"
          ],
          "name": "stdout"
        }
      ]
    }
  ]
}