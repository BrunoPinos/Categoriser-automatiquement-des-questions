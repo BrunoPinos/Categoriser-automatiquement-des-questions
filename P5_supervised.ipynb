{
  "nbformat": 4,
  "nbformat_minor": 0,
  "metadata": {
    "accelerator": "TPU",
    "colab": {
      "name": "P5_supervised.ipynb",
      "provenance": [],
      "collapsed_sections": [],
      "mount_file_id": "https://github.com/BrunoPinos/Categoriser-automatiquement-des-questions/blob/add_classifier/P5_supervised.ipynb",
      "authorship_tag": "ABX9TyO9AwS45cHb/MVjKDDhJM+U",
      "include_colab_link": true
    },
    "kernelspec": {
      "display_name": "Python 3",
      "name": "python3"
    }
  },
  "cells": [
    {
      "cell_type": "markdown",
      "metadata": {
        "id": "view-in-github",
        "colab_type": "text"
      },
      "source": [
        "<a href=\"https://colab.research.google.com/github/BrunoPinos/Categoriser-automatiquement-des-questions/blob/add_classifier/P5_supervised.ipynb\" target=\"_parent\"><img src=\"https://colab.research.google.com/assets/colab-badge.svg\" alt=\"Open In Colab\"/></a>"
      ]
    },
    {
      "cell_type": "code",
      "metadata": {
        "id": "fpYQdfaDC-Zn",
        "colab": {
          "base_uri": "https://localhost:8080/"
        },
        "outputId": "e206a947-4dd5-444e-8750-f6aed372712e"
      },
      "source": [
        "# data analysis and wrangling\r\n",
        "import pandas as pd\r\n",
        "from scipy import stats\r\n",
        "\r\n",
        "# visualization\r\n",
        "import matplotlib.pyplot as plt\r\n",
        "import seaborn as sn\r\n",
        "import numpy as np\r\n",
        "\r\n",
        "# text\r\n",
        "from gensim.models import LdaMulticore\r\n",
        "from gensim.models import Phrases, CoherenceModel\r\n",
        "from gensim.matutils import corpus2csc\r\n",
        "from IPython.display import display, HTML\r\n",
        "\r\n",
        "# Save objects\r\n",
        "import joblib\r\n",
        "\r\n",
        "# Machine learning\r\n",
        "from sklearn.model_selection import train_test_split, GridSearchCV\r\n",
        "from sklearn.feature_extraction.text import TfidfTransformer\r\n",
        "from sklearn.preprocessing import MultiLabelBinarizer\r\n",
        "from sklearn.pipeline import Pipeline\r\n",
        "from sklearn.ensemble import RandomForestClassifier\r\n",
        "from sklearn.ensemble import GradientBoostingClassifier\r\n",
        "from sklearn.multiclass import OneVsRestClassifier\r\n",
        "from sklearn.naive_bayes import MultinomialNB\r\n",
        "from sklearn.svm import LinearSVC\r\n",
        "from sklearn.multioutput import MultiOutputClassifier\r\n",
        "from sklearn.neural_network import MLPClassifier\r\n",
        "from sklearn.multiclass import OneVsRestClassifier\r\n",
        "from sklearn.metrics import jaccard_score\r\n",
        "from sklearn.metrics import f1_score\r\n",
        "\r\n",
        "# Set working directory\r\n",
        "import time\r\n",
        "import os\r\n",
        "os.chdir('/content/drive/MyDrive/Colab Notebooks/P5')\r\n",
        "\r\n",
        "# Data table display for Pandas dataframes\r\n",
        "from google.colab import data_table\r\n",
        "%load_ext google.colab.data_table"
      ],
      "execution_count": 69,
      "outputs": [
        {
          "output_type": "stream",
          "text": [
            "The google.colab.data_table extension is already loaded. To reload it, use:\n",
            "  %reload_ext google.colab.data_table\n"
          ],
          "name": "stdout"
        }
      ]
    },
    {
      "cell_type": "markdown",
      "metadata": {
        "id": "Rv2rw5qLED1Z"
      },
      "source": [
        "Import"
      ]
    },
    {
      "cell_type": "code",
      "metadata": {
        "id": "LUH3ZMqAENlH"
      },
      "source": [
        "df = joblib.load('df.sav')\r\n",
        "texts_cleaned = joblib.load('texts_cleaned.sav')\r\n",
        "dictionary = joblib.load('dictionary.sav')"
      ],
      "execution_count": 70,
      "outputs": []
    },
    {
      "cell_type": "markdown",
      "metadata": {
        "id": "phyfrpRVjMY6"
      },
      "source": [
        "Create the main dataframe with Tags and Text (cleaned) features"
      ]
    },
    {
      "cell_type": "code",
      "metadata": {
        "id": "HU3AK--7islj"
      },
      "source": [
        "df['Text'] = texts_cleaned\r\n",
        "\r\n",
        "df.drop(['Body', 'Title'], axis=1, inplace=True)"
      ],
      "execution_count": 71,
      "outputs": []
    },
    {
      "cell_type": "markdown",
      "metadata": {
        "id": "Q7-4UOb4js7q"
      },
      "source": [
        "Split Tag"
      ]
    },
    {
      "cell_type": "code",
      "metadata": {
        "colab": {
          "base_uri": "https://localhost:8080/"
        },
        "id": "AEBglHDqj6PJ",
        "outputId": "b2a02d4b-e2ed-441b-d196-237d25bb8b27"
      },
      "source": [
        "list_tags = df.Tags.apply(lambda tags: tags[1:-1].split('><'))\r\n",
        "list_tags"
      ],
      "execution_count": 72,
      "outputs": [
        {
          "output_type": "execute_result",
          "data": {
            "text/plain": [
              "Id\n",
              "10000005                           [php, arrays, sorting]\n",
              "10000083    [javascript, events, event-handling, handler]\n",
              "10000335                          [linux, gdb, libc, ldd]\n",
              "10003270                         [c, arrays, gcc, struct]\n",
              "10003562            [objective-c, ios, storyboard, segue]\n",
              "                                ...                      \n",
              "1213074           [wpf, winforms, interop, drag-and-drop]\n",
              "1213127         [java, mysql, database-connection, sleep]\n",
              "1213137                             [iphone, uitableview]\n",
              "1213144                      [sql-server-ce, data-paging]\n",
              "1213217              [perl, dependencies, module, legacy]\n",
              "Name: Tags, Length: 101366, dtype: object"
            ]
          },
          "metadata": {
            "tags": []
          },
          "execution_count": 72
        }
      ]
    },
    {
      "cell_type": "code",
      "metadata": {
        "colab": {
          "base_uri": "https://localhost:8080/"
        },
        "id": "dpAAUObBm0TR",
        "outputId": "3ec0f6a4-99e5-4027-9e4c-9dd3ce33c88e"
      },
      "source": [
        "list_tags_total = list()\r\n",
        "\r\n",
        "for row in list_tags:\r\n",
        "  for word in row:\r\n",
        "    list_tags_total.append(word)\r\n",
        "\r\n",
        "list_tags_total = pd.Series(list_tags_total)\r\n",
        "print(f'There are {list_tags_total.nunique()} Tags')"
      ],
      "execution_count": 73,
      "outputs": [
        {
          "output_type": "stream",
          "text": [
            "There are 14413 Tags\n"
          ],
          "name": "stdout"
        }
      ]
    },
    {
      "cell_type": "code",
      "metadata": {
        "colab": {
          "base_uri": "https://localhost:8080/",
          "height": 460
        },
        "id": "b5wPAMA1rere",
        "outputId": "628814cb-dee2-4187-fcdf-b74c38908e6f"
      },
      "source": [
        "data_count = list_tags_total.value_counts()\r\n",
        "fig = plt.figure(1, figsize=(10, 7))\r\n",
        "sn.lineplot(x = range(0, 1000), y = data_count[0:1000])\r\n",
        "plt.xticks(rotation=90)\r\n",
        "plt.title('Distribution : text')\r\n",
        "plt.show()"
      ],
      "execution_count": 74,
      "outputs": [
        {
          "output_type": "display_data",
          "data": {
            "image/png": "[encoded data removed]",
            "text/plain": [
              "<Figure size 720x504 with 1 Axes>"
            ]
          },
          "metadata": {
            "tags": [],
            "needs_background": "light"
          }
        }
      ]
    },
    {
      "cell_type": "code",
      "metadata": {
        "colab": {
          "base_uri": "https://localhost:8080/",
          "height": 628
        },
        "id": "n8dnicipnLPI",
        "outputId": "aef0fbb8-6b99-4e5e-9cf6-488dc68b8508"
      },
      "source": [
        "fig = plt.figure(1, figsize=(20, 10))\r\n",
        "sn.barplot(x = data_count[0:50].values, y = data_count[0:50].index)\r\n",
        "plt.xticks(rotation=90)\r\n",
        "plt.title('Distribution des Tags')\r\n",
        "plt.show()"
      ],
      "execution_count": 75,
      "outputs": [
        {
          "output_type": "display_data",
          "data": {
            "image/png": "[encoded data removed]",
            "text/plain": [
              "<Figure size 1440x720 with 1 Axes>"
            ]
          },
          "metadata": {
            "tags": [],
            "needs_background": "light"
          }
        }
      ]
    },
    {
      "cell_type": "code",
      "metadata": {
        "colab": {
          "base_uri": "https://localhost:8080/"
        },
        "id": "dMo_hKKFxaFb",
        "outputId": "3b78876a-a8aa-4a9f-fb93-91595a2327fd"
      },
      "source": [
        "list_tags"
      ],
      "execution_count": 76,
      "outputs": [
        {
          "output_type": "execute_result",
          "data": {
            "text/plain": [
              "Id\n",
              "10000005                           [php, arrays, sorting]\n",
              "10000083    [javascript, events, event-handling, handler]\n",
              "10000335                          [linux, gdb, libc, ldd]\n",
              "10003270                         [c, arrays, gcc, struct]\n",
              "10003562            [objective-c, ios, storyboard, segue]\n",
              "                                ...                      \n",
              "1213074           [wpf, winforms, interop, drag-and-drop]\n",
              "1213127         [java, mysql, database-connection, sleep]\n",
              "1213137                             [iphone, uitableview]\n",
              "1213144                      [sql-server-ce, data-paging]\n",
              "1213217              [perl, dependencies, module, legacy]\n",
              "Name: Tags, Length: 101366, dtype: object"
            ]
          },
          "metadata": {
            "tags": []
          },
          "execution_count": 76
        }
      ]
    },
    {
      "cell_type": "code",
      "metadata": {
        "id": "IS6xIjkasJu_"
      },
      "source": [
        "n = 10\r\n",
        "i = 0\r\n",
        "good_tags = data_count[0:n].index\r\n",
        "list_tag_n = list()\r\n",
        "\r\n",
        "for row in list_tags:\r\n",
        "  list_tag_n.append(list())\r\n",
        "  for word in row:\r\n",
        "    if word in good_tags:\r\n",
        "      list_tag_n[i].append(word)\r\n",
        "  i += 1"
      ],
      "execution_count": 77,
      "outputs": []
    },
    {
      "cell_type": "code",
      "metadata": {
        "id": "OC_bUS0-tebt"
      },
      "source": [
        "df['Tags'] = list_tag_n\r\n",
        "df = df.loc[df['Tags'].apply(len) > 0]"
      ],
      "execution_count": 78,
      "outputs": []
    },
    {
      "cell_type": "code",
      "metadata": {
        "colab": {
          "base_uri": "https://localhost:8080/",
          "height": 420
        },
        "id": "71v3aHamCVOq",
        "outputId": "fa7bddac-972d-41bf-bad0-cfbe9fa41383"
      },
      "source": [
        "df"
      ],
      "execution_count": 79,
      "outputs": [
        {
          "output_type": "execute_result",
          "data": {
            "text/html": [
              "<div>\n",
              "<style scoped>\n",
              "    .dataframe tbody tr th:only-of-type {\n",
              "        vertical-align: middle;\n",
              "    }\n",
              "\n",
              "    .dataframe tbody tr th {\n",
              "        vertical-align: top;\n",
              "    }\n",
              "\n",
              "    .dataframe thead th {\n",
              "        text-align: right;\n",
              "    }\n",
              "</style>\n",
              "<table border=\"1\" class=\"dataframe\">\n",
              "  <thead>\n",
              "    <tr style=\"text-align: right;\">\n",
              "      <th></th>\n",
              "      <th>Tags</th>\n",
              "      <th>Text</th>\n",
              "    </tr>\n",
              "    <tr>\n",
              "      <th>Id</th>\n",
              "      <th></th>\n",
              "      <th></th>\n",
              "    </tr>\n",
              "  </thead>\n",
              "  <tbody>\n",
              "    <tr>\n",
              "      <th>10000005</th>\n",
              "      <td>[php]</td>\n",
              "      <td>[php, sort, array, field, possible, duplicate,...</td>\n",
              "    </tr>\n",
              "    <tr>\n",
              "      <th>10000083</th>\n",
              "      <td>[javascript]</td>\n",
              "      <td>[javascript, event, handler, parameter, want, ...</td>\n",
              "    </tr>\n",
              "    <tr>\n",
              "      <th>10003683</th>\n",
              "      <td>[javascript]</td>\n",
              "      <td>[extract, number, string, javascript, string, ...</td>\n",
              "    </tr>\n",
              "    <tr>\n",
              "      <th>10006459</th>\n",
              "      <td>[javascript]</td>\n",
              "      <td>[regular, expression, address, validation, wan...</td>\n",
              "    </tr>\n",
              "    <tr>\n",
              "      <th>10006529</th>\n",
              "      <td>[javascript]</td>\n",
              "      <td>[change, color, highchart, use, highchart, mak...</td>\n",
              "    </tr>\n",
              "    <tr>\n",
              "      <th>...</th>\n",
              "      <td>...</td>\n",
              "      <td>...</td>\n",
              "    </tr>\n",
              "    <tr>\n",
              "      <th>1212838</th>\n",
              "      <td>[c#]</td>\n",
              "      <td>[send, mails, image, inline, use, smtpclient, ...</td>\n",
              "    </tr>\n",
              "    <tr>\n",
              "      <th>1212882</th>\n",
              "      <td>[java]</td>\n",
              "      <td>[convert, byte, array, image, java, without, k...</td>\n",
              "    </tr>\n",
              "    <tr>\n",
              "      <th>1212914</th>\n",
              "      <td>[c#]</td>\n",
              "      <td>[enable, scroll, microsoft, chart, control, wi...</td>\n",
              "    </tr>\n",
              "    <tr>\n",
              "      <th>1212978</th>\n",
              "      <td>[c++]</td>\n",
              "      <td>[throw, expression, type, pick, one, brief, fo...</td>\n",
              "    </tr>\n",
              "    <tr>\n",
              "      <th>1213127</th>\n",
              "      <td>[java]</td>\n",
              "      <td>[detect, sleep, wake, event, java, way, java, ...</td>\n",
              "    </tr>\n",
              "  </tbody>\n",
              "</table>\n",
              "<p>53721 rows × 2 columns</p>\n",
              "</div>"
            ],
            "text/plain": [
              "                  Tags                                               Text\n",
              "Id                                                                       \n",
              "10000005         [php]  [php, sort, array, field, possible, duplicate,...\n",
              "10000083  [javascript]  [javascript, event, handler, parameter, want, ...\n",
              "10003683  [javascript]  [extract, number, string, javascript, string, ...\n",
              "10006459  [javascript]  [regular, expression, address, validation, wan...\n",
              "10006529  [javascript]  [change, color, highchart, use, highchart, mak...\n",
              "...                ...                                                ...\n",
              "1212838           [c#]  [send, mails, image, inline, use, smtpclient, ...\n",
              "1212882         [java]  [convert, byte, array, image, java, without, k...\n",
              "1212914           [c#]  [enable, scroll, microsoft, chart, control, wi...\n",
              "1212978          [c++]  [throw, expression, type, pick, one, brief, fo...\n",
              "1213127         [java]  [detect, sleep, wake, event, java, way, java, ...\n",
              "\n",
              "[53721 rows x 2 columns]"
            ]
          },
          "metadata": {
            "tags": []
          },
          "execution_count": 79
        }
      ]
    },
    {
      "cell_type": "code",
      "metadata": {
        "id": "xPQBAwj9BD5S"
      },
      "source": [
        "# I binarize tags\r\n",
        "binarizer = MultiLabelBinarizer()\r\n",
        "y = binarizer.fit_transform(df['Tags'])\r\n",
        "\r\n",
        "# I transform the text with dictionary\r\n",
        "X = df['Text'].apply(dictionary.doc2bow)\r\n",
        "X = corpus2csc(X, num_terms=len(dictionary)).transpose()"
      ],
      "execution_count": 80,
      "outputs": []
    },
    {
      "cell_type": "code",
      "metadata": {
        "id": "vU8PLbKrozvc"
      },
      "source": [
        "X_train, X_test, y_train, y_test = \\\r\n",
        "                        train_test_split(X,\r\n",
        "                                         y,\r\n",
        "                                         test_size=0.20,\r\n",
        "                                         shuffle=True,\r\n",
        "                                         random_state=0)"
      ],
      "execution_count": 81,
      "outputs": []
    },
    {
      "cell_type": "markdown",
      "metadata": {
        "id": "pMgJlsnU_ZJ9"
      },
      "source": [
        "**Naive bayesien**"
      ]
    },
    {
      "cell_type": "code",
      "metadata": {
        "colab": {
          "base_uri": "https://localhost:8080/"
        },
        "id": "0V5rqvVn_IHp",
        "outputId": "7121fb8c-274e-4c99-b72e-3e968910b4b5"
      },
      "source": [
        "estimator_nb = Pipeline([('tfidf', TfidfTransformer()), \r\n",
        "                         ('nb', OneVsRestClassifier(MultinomialNB()))\r\n",
        "                        ])\r\n",
        "\r\n",
        "parameters = {'nb__estimator__alpha': [1.0, 3e-1, 1e-1, 3e-2, 1e-2]}\r\n",
        "\r\n",
        "nb_grid = GridSearchCV(estimator_nb,\r\n",
        "                        param_grid=parameters,\r\n",
        "                        scoring='jaccard_samples',\r\n",
        "                        n_jobs=-1,\r\n",
        "                        verbose=1,\r\n",
        "                        cv=5)\r\n",
        "\r\n",
        "nb_grid.fit(X_train, y_train)"
      ],
      "execution_count": 82,
      "outputs": [
        {
          "output_type": "stream",
          "text": [
            "Fitting 5 folds for each of 5 candidates, totalling 25 fits\n"
          ],
          "name": "stdout"
        },
        {
          "output_type": "stream",
          "text": [
            "[Parallel(n_jobs=-1)]: Using backend LokyBackend with 2 concurrent workers.\n",
            "[Parallel(n_jobs=-1)]: Done  25 out of  25 | elapsed:    5.9s finished\n"
          ],
          "name": "stderr"
        },
        {
          "output_type": "execute_result",
          "data": {
            "text/plain": [
              "GridSearchCV(cv=5, error_score=nan,\n",
              "             estimator=Pipeline(memory=None,\n",
              "                                steps=[('tfidf',\n",
              "                                        TfidfTransformer(norm='l2',\n",
              "                                                         smooth_idf=True,\n",
              "                                                         sublinear_tf=False,\n",
              "                                                         use_idf=True)),\n",
              "                                       ('nb',\n",
              "                                        OneVsRestClassifier(estimator=MultinomialNB(alpha=1.0,\n",
              "                                                                                    class_prior=None,\n",
              "                                                                                    fit_prior=True),\n",
              "                                                            n_jobs=None))],\n",
              "                                verbose=False),\n",
              "             iid='deprecated', n_jobs=-1,\n",
              "             param_grid={'nb__estimator__alpha': [1.0, 0.3, 0.1, 0.03, 0.01]},\n",
              "             pre_dispatch='2*n_jobs', refit=True, return_train_score=False,\n",
              "             scoring='jaccard_samples', verbose=1)"
            ]
          },
          "metadata": {
            "tags": []
          },
          "execution_count": 82
        }
      ]
    },
    {
      "cell_type": "code",
      "metadata": {
        "colab": {
          "base_uri": "https://localhost:8080/"
        },
        "id": "0fqDnxap1KoU",
        "outputId": "c79aaf0c-fd95-46b6-82a2-3282501deeb5"
      },
      "source": [
        "nb_grid.best_params_"
      ],
      "execution_count": 83,
      "outputs": [
        {
          "output_type": "execute_result",
          "data": {
            "text/plain": [
              "{'nb__estimator__alpha': 0.03}"
            ]
          },
          "metadata": {
            "tags": []
          },
          "execution_count": 83
        }
      ]
    },
    {
      "cell_type": "code",
      "metadata": {
        "colab": {
          "base_uri": "https://localhost:8080/"
        },
        "id": "aDhaiWbA1NGT",
        "outputId": "28b3a7ab-2a26-4b6e-bf64-a19081aa7bf9"
      },
      "source": [
        "nb_grid.best_score_"
      ],
      "execution_count": 84,
      "outputs": [
        {
          "output_type": "execute_result",
          "data": {
            "text/plain": [
              "0.4442073088366384"
            ]
          },
          "metadata": {
            "tags": []
          },
          "execution_count": 84
        }
      ]
    },
    {
      "cell_type": "code",
      "metadata": {
        "colab": {
          "base_uri": "https://localhost:8080/"
        },
        "id": "6Eum_u2k1UzD",
        "outputId": "55248cb3-bcf5-4cc9-8adc-ab577aa404ad"
      },
      "source": [
        "print(\"Score sur test set: \",\r\n",
        "      round(nb_grid.score(X_test, y_test), 3))"
      ],
      "execution_count": 85,
      "outputs": [
        {
          "output_type": "stream",
          "text": [
            "Score sur test set:  0.461\n"
          ],
          "name": "stdout"
        }
      ]
    },
    {
      "cell_type": "markdown",
      "metadata": {
        "id": "A75mW4mAK5sn"
      },
      "source": [
        "Score"
      ]
    },
    {
      "cell_type": "code",
      "metadata": {
        "colab": {
          "base_uri": "https://localhost:8080/",
          "height": 122
        },
        "id": "k-QKrK3JK4xI",
        "outputId": "aad9e522-d09c-49d6-8ea2-05b4be94c0f0"
      },
      "source": [
        "results = pd.DataFrame({})\r\n",
        "\r\n",
        "jaccard_macro = jaccard_score(y_test, nb_grid.predict(X_test), average='macro')\r\n",
        "f1_macro = f1_score(y_test, nb_grid.predict(X_test), average='macro')\r\n",
        "f1_sample = f1_score(y_test, nb_grid.predict(X_test), average='samples')\r\n",
        "\r\n",
        "time = %timeit -o nb_grid.predict(X_test)\r\n",
        "\r\n",
        "results = results.append(pd.DataFrame({'Modèle': ['Naive_bayesian'],\r\n",
        "                                       'jaccard_samples': round(\r\n",
        "                                           nb_grid.score(X_test, y_test), 3),\r\n",
        "                                       'jaccard_macro': jaccard_macro,\r\n",
        "                                       'f1_macro': f1_macro,\r\n",
        "                                       'f1_sample': f1_sample,\r\n",
        "                                       'Time_ms': time.best*1000,\r\n",
        "                                       'Cv_score(jaccard_samples)':\r\n",
        "                                       nb_grid.best_score_}),\r\n",
        "                         ignore_index=True)\r\n",
        "\r\n",
        "results.round(3)"
      ],
      "execution_count": 86,
      "outputs": [
        {
          "output_type": "stream",
          "text": [
            "10 loops, best of 5: 37.9 ms per loop\n"
          ],
          "name": "stdout"
        },
        {
          "output_type": "execute_result",
          "data": {
            "application/vnd.google.colaboratory.module+javascript": "\n      import \"https://ssl.gstatic.com/colaboratory/data_table/a6224c040fa35dcf/data_table.js\";\n\n      window.createDataTable({\n        data: [[{\n            'v': 0,\n            'f': \"0\",\n        },\n\"Naive_bayesian\",\n{\n            'v': 0.461,\n            'f': \"0.461\",\n        },\n{\n            'v': 0.423,\n            'f': \"0.423\",\n        },\n{\n            'v': 0.576,\n            'f': \"0.576\",\n        },\n{\n            'v': 0.475,\n            'f': \"0.475\",\n        },\n{\n            'v': 37.858,\n            'f': \"37.858\",\n        },\n{\n            'v': 0.444,\n            'f': \"0.444\",\n        }]],\n        columns: [[\"number\", \"index\"], [\"string\", \"Mod\\u00e8le\"], [\"number\", \"jaccard_samples\"], [\"number\", \"jaccard_macro\"], [\"number\", \"f1_macro\"], [\"number\", \"f1_sample\"], [\"number\", \"Time_ms\"], [\"number\", \"Cv_score(jaccard_samples)\"]],\n        columnOptions: [{\"width\": \"1px\", \"className\": \"index_column\"}],\n        rowsPerPage: 25,\n        helpUrl: \"https://colab.research.google.com/notebooks/data_table.ipynb\",\n        suppressOutputScrolling: true,\n        minimumWidth: undefined,\n      });\n    ",
            "text/html": [
              "<div>\n",
              "<style scoped>\n",
              "    .dataframe tbody tr th:only-of-type {\n",
              "        vertical-align: middle;\n",
              "    }\n",
              "\n",
              "    .dataframe tbody tr th {\n",
              "        vertical-align: top;\n",
              "    }\n",
              "\n",
              "    .dataframe thead th {\n",
              "        text-align: right;\n",
              "    }\n",
              "</style>\n",
              "<table border=\"1\" class=\"dataframe\">\n",
              "  <thead>\n",
              "    <tr style=\"text-align: right;\">\n",
              "      <th></th>\n",
              "      <th>Modèle</th>\n",
              "      <th>jaccard_samples</th>\n",
              "      <th>jaccard_macro</th>\n",
              "      <th>f1_macro</th>\n",
              "      <th>f1_sample</th>\n",
              "      <th>Time_ms</th>\n",
              "      <th>Cv_score(jaccard_samples)</th>\n",
              "    </tr>\n",
              "  </thead>\n",
              "  <tbody>\n",
              "    <tr>\n",
              "      <th>0</th>\n",
              "      <td>Naive_bayesian</td>\n",
              "      <td>0.461</td>\n",
              "      <td>0.423</td>\n",
              "      <td>0.576</td>\n",
              "      <td>0.475</td>\n",
              "      <td>37.858</td>\n",
              "      <td>0.444</td>\n",
              "    </tr>\n",
              "  </tbody>\n",
              "</table>\n",
              "</div>"
            ],
            "text/plain": [
              "           Modèle  jaccard_samples  ...  Time_ms  Cv_score(jaccard_samples)\n",
              "0  Naive_bayesian            0.461  ...   37.858                      0.444\n",
              "\n",
              "[1 rows x 7 columns]"
            ]
          },
          "metadata": {
            "tags": []
          },
          "execution_count": 86
        }
      ]
    },
    {
      "cell_type": "markdown",
      "metadata": {
        "id": "oNZAbt9v1tzy"
      },
      "source": [
        "**SVM**"
      ]
    },
    {
      "cell_type": "code",
      "metadata": {
        "id": "2Fl64zrV1u4D",
        "colab": {
          "base_uri": "https://localhost:8080/"
        },
        "outputId": "21962f2d-8198-476d-f6b6-ddac31030d59"
      },
      "source": [
        "estimator_svm = Pipeline([('tfidf', TfidfTransformer()), \r\n",
        "                          ('svm',\r\n",
        "                           MultiOutputClassifier(LinearSVC(max_iter=1000)))\r\n",
        "                          ])\r\n",
        "\r\n",
        "parameters = {'svm__estimator__C': [1, 10, 30]}\r\n",
        "\r\n",
        "svm_grid = GridSearchCV(estimator_svm,\r\n",
        "                        param_grid=parameters,\r\n",
        "                        scoring='jaccard_samples',\r\n",
        "                        n_jobs=-1,\r\n",
        "                        verbose=1,\r\n",
        "                        cv=5)\r\n",
        "\r\n",
        "svm_grid.fit(X_train, y_train)"
      ],
      "execution_count": 87,
      "outputs": [
        {
          "output_type": "stream",
          "text": [
            "Fitting 5 folds for each of 3 candidates, totalling 15 fits\n"
          ],
          "name": "stdout"
        },
        {
          "output_type": "stream",
          "text": [
            "[Parallel(n_jobs=-1)]: Using backend LokyBackend with 2 concurrent workers.\n",
            "[Parallel(n_jobs=-1)]: Done  15 out of  15 | elapsed:  2.0min finished\n"
          ],
          "name": "stderr"
        },
        {
          "output_type": "execute_result",
          "data": {
            "text/plain": [
              "GridSearchCV(cv=5, error_score=nan,\n",
              "             estimator=Pipeline(memory=None,\n",
              "                                steps=[('tfidf',\n",
              "                                        TfidfTransformer(norm='l2',\n",
              "                                                         smooth_idf=True,\n",
              "                                                         sublinear_tf=False,\n",
              "                                                         use_idf=True)),\n",
              "                                       ('svm',\n",
              "                                        MultiOutputClassifier(estimator=LinearSVC(C=1.0,\n",
              "                                                                                  class_weight=None,\n",
              "                                                                                  dual=True,\n",
              "                                                                                  fit_intercept=True,\n",
              "                                                                                  intercept_scaling=1,\n",
              "                                                                                  loss='squared_hinge',\n",
              "                                                                                  max_iter=1000,\n",
              "                                                                                  multi_class='ovr',\n",
              "                                                                                  penalty='l2',\n",
              "                                                                                  random_state=None,\n",
              "                                                                                  tol=0.0001,\n",
              "                                                                                  verbose=0),\n",
              "                                                              n_jobs=None))],\n",
              "                                verbose=False),\n",
              "             iid='deprecated', n_jobs=-1,\n",
              "             param_grid={'svm__estimator__C': [1, 10, 30]},\n",
              "             pre_dispatch='2*n_jobs', refit=True, return_train_score=False,\n",
              "             scoring='jaccard_samples', verbose=1)"
            ]
          },
          "metadata": {
            "tags": []
          },
          "execution_count": 87
        }
      ]
    },
    {
      "cell_type": "code",
      "metadata": {
        "id": "G1TK9JEP5yE5",
        "colab": {
          "base_uri": "https://localhost:8080/"
        },
        "outputId": "ff8433fa-27d7-4e37-ab63-857e6580700e"
      },
      "source": [
        "svm_grid.best_params_"
      ],
      "execution_count": 88,
      "outputs": [
        {
          "output_type": "execute_result",
          "data": {
            "text/plain": [
              "{'svm__estimator__C': 1}"
            ]
          },
          "metadata": {
            "tags": []
          },
          "execution_count": 88
        }
      ]
    },
    {
      "cell_type": "markdown",
      "metadata": {
        "id": "K4Uw_wRoO-fq"
      },
      "source": [
        "Score"
      ]
    },
    {
      "cell_type": "code",
      "metadata": {
        "colab": {
          "base_uri": "https://localhost:8080/",
          "height": 142
        },
        "id": "-zWjAVLKO9zC",
        "outputId": "4bd61bf9-5c79-4fce-f182-48697c10b00a"
      },
      "source": [
        "jaccard_macro = jaccard_score(y_test, svm_grid.predict(X_test), average='macro')\r\n",
        "f1_macro = f1_score(y_test, svm_grid.predict(X_test), average='macro')\r\n",
        "f1_sample = f1_score(y_test, svm_grid.predict(X_test), average='samples')\r\n",
        "\r\n",
        "time = %timeit -o svm_grid.predict(X_test)\r\n",
        "\r\n",
        "results = results.append(pd.DataFrame({'Modèle': ['LinearSVC'],\r\n",
        "                                       'jaccard_samples': round(\r\n",
        "                                           svm_grid.score(X_test, y_test), 3),\r\n",
        "                                       'jaccard_macro': jaccard_macro,\r\n",
        "                                       'f1_macro': f1_macro,\r\n",
        "                                       'f1_sample': f1_sample,\r\n",
        "                                       'Time_ms': time.best*1000,\r\n",
        "                                       'Cv_score(jaccard_samples)':\r\n",
        "                                       svm_grid.best_score_}),\r\n",
        "                         ignore_index=True)\r\n",
        "\r\n",
        "results.round(3)"
      ],
      "execution_count": 89,
      "outputs": [
        {
          "output_type": "stream",
          "text": [
            "100 loops, best of 5: 13 ms per loop\n"
          ],
          "name": "stdout"
        },
        {
          "output_type": "execute_result",
          "data": {
            "application/vnd.google.colaboratory.module+javascript": "\n      import \"https://ssl.gstatic.com/colaboratory/data_table/a6224c040fa35dcf/data_table.js\";\n\n      window.createDataTable({\n        data: [[{\n            'v': 0,\n            'f': \"0\",\n        },\n\"Naive_bayesian\",\n{\n            'v': 0.461,\n            'f': \"0.461\",\n        },\n{\n            'v': 0.423,\n            'f': \"0.423\",\n        },\n{\n            'v': 0.576,\n            'f': \"0.576\",\n        },\n{\n            'v': 0.475,\n            'f': \"0.475\",\n        },\n{\n            'v': 37.858,\n            'f': \"37.858\",\n        },\n{\n            'v': 0.444,\n            'f': \"0.444\",\n        }],\n [{\n            'v': 1,\n            'f': \"1\",\n        },\n\"LinearSVC\",\n{\n            'v': 0.701,\n            'f': \"0.701\",\n        },\n{\n            'v': 0.631,\n            'f': \"0.631\",\n        },\n{\n            'v': 0.76,\n            'f': \"0.76\",\n        },\n{\n            'v': 0.724,\n            'f': \"0.724\",\n        },\n{\n            'v': 12.982,\n            'f': \"12.982\",\n        },\n{\n            'v': 0.689,\n            'f': \"0.689\",\n        }]],\n        columns: [[\"number\", \"index\"], [\"string\", \"Mod\\u00e8le\"], [\"number\", \"jaccard_samples\"], [\"number\", \"jaccard_macro\"], [\"number\", \"f1_macro\"], [\"number\", \"f1_sample\"], [\"number\", \"Time_ms\"], [\"number\", \"Cv_score(jaccard_samples)\"]],\n        columnOptions: [{\"width\": \"1px\", \"className\": \"index_column\"}],\n        rowsPerPage: 25,\n        helpUrl: \"https://colab.research.google.com/notebooks/data_table.ipynb\",\n        suppressOutputScrolling: true,\n        minimumWidth: undefined,\n      });\n    ",
            "text/html": [
              "<div>\n",
              "<style scoped>\n",
              "    .dataframe tbody tr th:only-of-type {\n",
              "        vertical-align: middle;\n",
              "    }\n",
              "\n",
              "    .dataframe tbody tr th {\n",
              "        vertical-align: top;\n",
              "    }\n",
              "\n",
              "    .dataframe thead th {\n",
              "        text-align: right;\n",
              "    }\n",
              "</style>\n",
              "<table border=\"1\" class=\"dataframe\">\n",
              "  <thead>\n",
              "    <tr style=\"text-align: right;\">\n",
              "      <th></th>\n",
              "      <th>Modèle</th>\n",
              "      <th>jaccard_samples</th>\n",
              "      <th>jaccard_macro</th>\n",
              "      <th>f1_macro</th>\n",
              "      <th>f1_sample</th>\n",
              "      <th>Time_ms</th>\n",
              "      <th>Cv_score(jaccard_samples)</th>\n",
              "    </tr>\n",
              "  </thead>\n",
              "  <tbody>\n",
              "    <tr>\n",
              "      <th>0</th>\n",
              "      <td>Naive_bayesian</td>\n",
              "      <td>0.461</td>\n",
              "      <td>0.423</td>\n",
              "      <td>0.576</td>\n",
              "      <td>0.475</td>\n",
              "      <td>37.858</td>\n",
              "      <td>0.444</td>\n",
              "    </tr>\n",
              "    <tr>\n",
              "      <th>1</th>\n",
              "      <td>LinearSVC</td>\n",
              "      <td>0.701</td>\n",
              "      <td>0.631</td>\n",
              "      <td>0.760</td>\n",
              "      <td>0.724</td>\n",
              "      <td>12.982</td>\n",
              "      <td>0.689</td>\n",
              "    </tr>\n",
              "  </tbody>\n",
              "</table>\n",
              "</div>"
            ],
            "text/plain": [
              "           Modèle  jaccard_samples  ...  Time_ms  Cv_score(jaccard_samples)\n",
              "0  Naive_bayesian            0.461  ...   37.858                      0.444\n",
              "1       LinearSVC            0.701  ...   12.982                      0.689\n",
              "\n",
              "[2 rows x 7 columns]"
            ]
          },
          "metadata": {
            "tags": []
          },
          "execution_count": 89
        }
      ]
    },
    {
      "cell_type": "markdown",
      "metadata": {
        "id": "4mR5atA9h9hi"
      },
      "source": [
        "**MLPclassifier**"
      ]
    },
    {
      "cell_type": "code",
      "metadata": {
        "colab": {
          "base_uri": "https://localhost:8080/"
        },
        "id": "uVy7pLyOh8vz",
        "outputId": "5fe23994-4e46-4b16-c380-18922faf3911"
      },
      "source": [
        "estimator_mlp = Pipeline([('tfidf', TfidfTransformer()), \r\n",
        "                          ('mlp', MLPClassifier())])\r\n",
        "\r\n",
        "parameters = {\r\n",
        "    'mlp__max_iter' : [50], #maximum iteration\r\n",
        "}\r\n",
        "\r\n",
        "mlp_grid = GridSearchCV(estimator_mlp,\r\n",
        "                        param_grid=parameters,\r\n",
        "                        scoring='jaccard_samples',\r\n",
        "                        n_jobs=-1,\r\n",
        "                        verbose=1,\r\n",
        "                        cv=5)\r\n",
        "\r\n",
        "mlp_grid.fit(X_train, y_train)"
      ],
      "execution_count": 90,
      "outputs": [
        {
          "output_type": "stream",
          "text": [
            "Fitting 5 folds for each of 1 candidates, totalling 5 fits\n"
          ],
          "name": "stdout"
        },
        {
          "output_type": "stream",
          "text": [
            "[Parallel(n_jobs=-1)]: Using backend LokyBackend with 2 concurrent workers.\n",
            "[Parallel(n_jobs=-1)]: Done   5 out of   5 | elapsed:  6.8min finished\n",
            "/usr/local/lib/python3.7/dist-packages/sklearn/neural_network/_multilayer_perceptron.py:571: ConvergenceWarning: Stochastic Optimizer: Maximum iterations (50) reached and the optimization hasn't converged yet.\n",
            "  % self.max_iter, ConvergenceWarning)\n"
          ],
          "name": "stderr"
        },
        {
          "output_type": "execute_result",
          "data": {
            "text/plain": [
              "GridSearchCV(cv=5, error_score=nan,\n",
              "             estimator=Pipeline(memory=None,\n",
              "                                steps=[('tfidf',\n",
              "                                        TfidfTransformer(norm='l2',\n",
              "                                                         smooth_idf=True,\n",
              "                                                         sublinear_tf=False,\n",
              "                                                         use_idf=True)),\n",
              "                                       ('mlp',\n",
              "                                        MLPClassifier(activation='relu',\n",
              "                                                      alpha=0.0001,\n",
              "                                                      batch_size='auto',\n",
              "                                                      beta_1=0.9, beta_2=0.999,\n",
              "                                                      early_stopping=False,\n",
              "                                                      epsilon=1e-08,\n",
              "                                                      hidden_layer_sizes=(100,),\n",
              "                                                      learning_rate='constant',\n",
              "                                                      learning_rat...\n",
              "                                                      momentum=0.9,\n",
              "                                                      n_iter_no_change=10,\n",
              "                                                      nesterovs_momentum=True,\n",
              "                                                      power_t=0.5,\n",
              "                                                      random_state=None,\n",
              "                                                      shuffle=True,\n",
              "                                                      solver='adam', tol=0.0001,\n",
              "                                                      validation_fraction=0.1,\n",
              "                                                      verbose=False,\n",
              "                                                      warm_start=False))],\n",
              "                                verbose=False),\n",
              "             iid='deprecated', n_jobs=-1, param_grid={'mlp__max_iter': [50]},\n",
              "             pre_dispatch='2*n_jobs', refit=True, return_train_score=False,\n",
              "             scoring='jaccard_samples', verbose=1)"
            ]
          },
          "metadata": {
            "tags": []
          },
          "execution_count": 90
        }
      ]
    },
    {
      "cell_type": "code",
      "metadata": {
        "colab": {
          "base_uri": "https://localhost:8080/"
        },
        "id": "AYugM6TtlQk3",
        "outputId": "86884900-b5ab-4bdf-a26a-be62de850815"
      },
      "source": [
        "mlp_grid.best_params_"
      ],
      "execution_count": 91,
      "outputs": [
        {
          "output_type": "execute_result",
          "data": {
            "text/plain": [
              "{'mlp__max_iter': 50}"
            ]
          },
          "metadata": {
            "tags": []
          },
          "execution_count": 91
        }
      ]
    },
    {
      "cell_type": "markdown",
      "metadata": {
        "id": "9WSPeVZiQQ04"
      },
      "source": [
        "Score"
      ]
    },
    {
      "cell_type": "code",
      "metadata": {
        "colab": {
          "base_uri": "https://localhost:8080/",
          "height": 162
        },
        "id": "WxhGOt0gQQN1",
        "outputId": "5b221320-1dea-41d9-9f8e-05579877b141"
      },
      "source": [
        "jaccard_macro = jaccard_score(y_test, mlp_grid.predict(X_test), average='macro')\r\n",
        "f1_macro = f1_score(y_test, mlp_grid.predict(X_test), average='macro')\r\n",
        "f1_sample = f1_score(y_test, mlp_grid.predict(X_test), average='samples')\r\n",
        "\r\n",
        "time = %timeit -o mlp_grid.predict(X_test)\r\n",
        "\r\n",
        "results = results.append(pd.DataFrame({'Modèle': ['MLP_classifier'],\r\n",
        "                                       'jaccard_samples': round(\r\n",
        "                                           mlp_grid.score(X_test, y_test), 3),\r\n",
        "                                       'jaccard_macro': jaccard_macro,\r\n",
        "                                       'f1_macro': f1_macro,\r\n",
        "                                       'f1_sample': f1_sample,\r\n",
        "                                       'Time_ms': time.best*1000,\r\n",
        "                                       'Cv_score(jaccard_samples)':\r\n",
        "                                       mlp_grid.best_score_}),\r\n",
        "                         ignore_index=True)\r\n",
        "\r\n",
        "results.round(3)"
      ],
      "execution_count": 92,
      "outputs": [
        {
          "output_type": "stream",
          "text": [
            "10 loops, best of 5: 49.7 ms per loop\n"
          ],
          "name": "stdout"
        },
        {
          "output_type": "execute_result",
          "data": {
            "application/vnd.google.colaboratory.module+javascript": "\n      import \"https://ssl.gstatic.com/colaboratory/data_table/a6224c040fa35dcf/data_table.js\";\n\n      window.createDataTable({\n        data: [[{\n            'v': 0,\n            'f': \"0\",\n        },\n\"Naive_bayesian\",\n{\n            'v': 0.461,\n            'f': \"0.461\",\n        },\n{\n            'v': 0.423,\n            'f': \"0.423\",\n        },\n{\n            'v': 0.576,\n            'f': \"0.576\",\n        },\n{\n            'v': 0.475,\n            'f': \"0.475\",\n        },\n{\n            'v': 37.858,\n            'f': \"37.858\",\n        },\n{\n            'v': 0.444,\n            'f': \"0.444\",\n        }],\n [{\n            'v': 1,\n            'f': \"1\",\n        },\n\"LinearSVC\",\n{\n            'v': 0.701,\n            'f': \"0.701\",\n        },\n{\n            'v': 0.631,\n            'f': \"0.631\",\n        },\n{\n            'v': 0.76,\n            'f': \"0.76\",\n        },\n{\n            'v': 0.724,\n            'f': \"0.724\",\n        },\n{\n            'v': 12.982,\n            'f': \"12.982\",\n        },\n{\n            'v': 0.689,\n            'f': \"0.689\",\n        }],\n [{\n            'v': 2,\n            'f': \"2\",\n        },\n\"MLP_classifier\",\n{\n            'v': 0.709,\n            'f': \"0.709\",\n        },\n{\n            'v': 0.612,\n            'f': \"0.612\",\n        },\n{\n            'v': 0.747,\n            'f': \"0.747\",\n        },\n{\n            'v': 0.739,\n            'f': \"0.739\",\n        },\n{\n            'v': 49.742,\n            'f': \"49.742\",\n        },\n{\n            'v': 0.696,\n            'f': \"0.696\",\n        }]],\n        columns: [[\"number\", \"index\"], [\"string\", \"Mod\\u00e8le\"], [\"number\", \"jaccard_samples\"], [\"number\", \"jaccard_macro\"], [\"number\", \"f1_macro\"], [\"number\", \"f1_sample\"], [\"number\", \"Time_ms\"], [\"number\", \"Cv_score(jaccard_samples)\"]],\n        columnOptions: [{\"width\": \"1px\", \"className\": \"index_column\"}],\n        rowsPerPage: 25,\n        helpUrl: \"https://colab.research.google.com/notebooks/data_table.ipynb\",\n        suppressOutputScrolling: true,\n        minimumWidth: undefined,\n      });\n    ",
            "text/html": [
              "<div>\n",
              "<style scoped>\n",
              "    .dataframe tbody tr th:only-of-type {\n",
              "        vertical-align: middle;\n",
              "    }\n",
              "\n",
              "    .dataframe tbody tr th {\n",
              "        vertical-align: top;\n",
              "    }\n",
              "\n",
              "    .dataframe thead th {\n",
              "        text-align: right;\n",
              "    }\n",
              "</style>\n",
              "<table border=\"1\" class=\"dataframe\">\n",
              "  <thead>\n",
              "    <tr style=\"text-align: right;\">\n",
              "      <th></th>\n",
              "      <th>Modèle</th>\n",
              "      <th>jaccard_samples</th>\n",
              "      <th>jaccard_macro</th>\n",
              "      <th>f1_macro</th>\n",
              "      <th>f1_sample</th>\n",
              "      <th>Time_ms</th>\n",
              "      <th>Cv_score(jaccard_samples)</th>\n",
              "    </tr>\n",
              "  </thead>\n",
              "  <tbody>\n",
              "    <tr>\n",
              "      <th>0</th>\n",
              "      <td>Naive_bayesian</td>\n",
              "      <td>0.461</td>\n",
              "      <td>0.423</td>\n",
              "      <td>0.576</td>\n",
              "      <td>0.475</td>\n",
              "      <td>37.858</td>\n",
              "      <td>0.444</td>\n",
              "    </tr>\n",
              "    <tr>\n",
              "      <th>1</th>\n",
              "      <td>LinearSVC</td>\n",
              "      <td>0.701</td>\n",
              "      <td>0.631</td>\n",
              "      <td>0.760</td>\n",
              "      <td>0.724</td>\n",
              "      <td>12.982</td>\n",
              "      <td>0.689</td>\n",
              "    </tr>\n",
              "    <tr>\n",
              "      <th>2</th>\n",
              "      <td>MLP_classifier</td>\n",
              "      <td>0.709</td>\n",
              "      <td>0.612</td>\n",
              "      <td>0.747</td>\n",
              "      <td>0.739</td>\n",
              "      <td>49.742</td>\n",
              "      <td>0.696</td>\n",
              "    </tr>\n",
              "  </tbody>\n",
              "</table>\n",
              "</div>"
            ],
            "text/plain": [
              "           Modèle  jaccard_samples  ...  Time_ms  Cv_score(jaccard_samples)\n",
              "0  Naive_bayesian            0.461  ...   37.858                      0.444\n",
              "1       LinearSVC            0.701  ...   12.982                      0.689\n",
              "2  MLP_classifier            0.709  ...   49.742                      0.696\n",
              "\n",
              "[3 rows x 7 columns]"
            ]
          },
          "metadata": {
            "tags": []
          },
          "execution_count": 92
        }
      ]
    },
    {
      "cell_type": "markdown",
      "metadata": {
        "id": "zjwqUMQ39F4x"
      },
      "source": [
        "**Xgboost**"
      ]
    },
    {
      "cell_type": "code",
      "metadata": {
        "colab": {
          "base_uri": "https://localhost:8080/"
        },
        "id": "I70QF8BTcOyE",
        "outputId": "30a26b5c-1fc0-47ec-af6f-df1e31a3c34b"
      },
      "source": [
        "estimator_xgb = Pipeline([('tfidf', TfidfTransformer()), \r\n",
        "                         ('xgb', OneVsRestClassifier(\r\n",
        "                             GradientBoostingClassifier())),\r\n",
        "                        ])\r\n",
        "\r\n",
        "parameters = {\r\n",
        "    'xgb__estimator__n_estimators' : [100], #nombre d'arbres de décision\r\n",
        "    'xgb__estimator__min_samples_leaf' : [2], #nombre de feuilles minimales \r\n",
        "    'xgb__estimator__max_features': ['sqrt'] #nombre de features observées\r\n",
        "}\r\n",
        "\r\n",
        "xgb_grid = GridSearchCV(estimator_xgb,\r\n",
        "                        param_grid=parameters,\r\n",
        "                        scoring='jaccard_samples',\r\n",
        "                        n_jobs=-1,\r\n",
        "                        verbose=1,\r\n",
        "                        cv=5)\r\n",
        "\r\n",
        "xgb_grid.fit(X_train, y_train)"
      ],
      "execution_count": 93,
      "outputs": [
        {
          "output_type": "stream",
          "text": [
            "Fitting 5 folds for each of 1 candidates, totalling 5 fits\n"
          ],
          "name": "stdout"
        },
        {
          "output_type": "stream",
          "text": [
            "[Parallel(n_jobs=-1)]: Using backend LokyBackend with 2 concurrent workers.\n",
            "[Parallel(n_jobs=-1)]: Done   5 out of   5 | elapsed:  1.5min finished\n"
          ],
          "name": "stderr"
        },
        {
          "output_type": "execute_result",
          "data": {
            "text/plain": [
              "GridSearchCV(cv=5, error_score=nan,\n",
              "             estimator=Pipeline(memory=None,\n",
              "                                steps=[('tfidf',\n",
              "                                        TfidfTransformer(norm='l2',\n",
              "                                                         smooth_idf=True,\n",
              "                                                         sublinear_tf=False,\n",
              "                                                         use_idf=True)),\n",
              "                                       ('xgb',\n",
              "                                        OneVsRestClassifier(estimator=GradientBoostingClassifier(ccp_alpha=0.0,\n",
              "                                                                                                 criterion='friedman_mse',\n",
              "                                                                                                 init=None,\n",
              "                                                                                                 learning_rate=0.1,\n",
              "                                                                                                 loss='deviance',\n",
              "                                                                                                 max_depth=3,\n",
              "                                                                                                 max_features=None,\n",
              "                                                                                                 max_leaf_nodes=...\n",
              "                                                                                                 subsample=1.0,\n",
              "                                                                                                 tol=0.0001,\n",
              "                                                                                                 validation_fraction=0.1,\n",
              "                                                                                                 verbose=0,\n",
              "                                                                                                 warm_start=False),\n",
              "                                                            n_jobs=None))],\n",
              "                                verbose=False),\n",
              "             iid='deprecated', n_jobs=-1,\n",
              "             param_grid={'xgb__estimator__max_features': ['sqrt'],\n",
              "                         'xgb__estimator__min_samples_leaf': [2],\n",
              "                         'xgb__estimator__n_estimators': [100]},\n",
              "             pre_dispatch='2*n_jobs', refit=True, return_train_score=False,\n",
              "             scoring='jaccard_samples', verbose=1)"
            ]
          },
          "metadata": {
            "tags": []
          },
          "execution_count": 93
        }
      ]
    },
    {
      "cell_type": "code",
      "metadata": {
        "colab": {
          "base_uri": "https://localhost:8080/"
        },
        "id": "5Ao5WGe6R_pc",
        "outputId": "a4990ee5-95f0-4e69-d6e7-8de70c588dbc"
      },
      "source": [
        "xgb_grid.best_params_"
      ],
      "execution_count": 94,
      "outputs": [
        {
          "output_type": "execute_result",
          "data": {
            "text/plain": [
              "{'xgb__estimator__max_features': 'sqrt',\n",
              " 'xgb__estimator__min_samples_leaf': 2,\n",
              " 'xgb__estimator__n_estimators': 100}"
            ]
          },
          "metadata": {
            "tags": []
          },
          "execution_count": 94
        }
      ]
    },
    {
      "cell_type": "code",
      "metadata": {
        "colab": {
          "base_uri": "https://localhost:8080/",
          "height": 182
        },
        "id": "MuDwodfEQkBa",
        "outputId": "44939b4f-f839-4b49-d279-9c9d5dc18287"
      },
      "source": [
        "jaccard_macro = jaccard_score(y_test, xgb_grid.predict(X_test), average='macro')\r\n",
        "f1_macro = f1_score(y_test, xgb_grid.predict(X_test), average='macro')\r\n",
        "f1_sample = f1_score(y_test, xgb_grid.predict(X_test), average='samples')\r\n",
        "\r\n",
        "time = %timeit -o xgb_grid.predict(X_test)\r\n",
        "\r\n",
        "results = results.append(pd.DataFrame({'Modèle': ['XGBoost'],\r\n",
        "                                       'jaccard_samples': round(\r\n",
        "                                           xgb_grid.score(X_test, y_test), 3),\r\n",
        "                                       'jaccard_macro': jaccard_macro,\r\n",
        "                                       'f1_macro': f1_macro,\r\n",
        "                                       'f1_sample': f1_sample,\r\n",
        "                                       'Time_ms': time.best*1000,\r\n",
        "                                       'Cv_score(jaccard_samples)':\r\n",
        "                                       xgb_grid.best_score_}),\r\n",
        "                         ignore_index=True)\r\n",
        "\r\n",
        "results.round(3)"
      ],
      "execution_count": 95,
      "outputs": [
        {
          "output_type": "stream",
          "text": [
            "10 loops, best of 5: 170 ms per loop\n"
          ],
          "name": "stdout"
        },
        {
          "output_type": "execute_result",
          "data": {
            "application/vnd.google.colaboratory.module+javascript": "\n      import \"https://ssl.gstatic.com/colaboratory/data_table/a6224c040fa35dcf/data_table.js\";\n\n      window.createDataTable({\n        data: [[{\n            'v': 0,\n            'f': \"0\",\n        },\n\"Naive_bayesian\",\n{\n            'v': 0.461,\n            'f': \"0.461\",\n        },\n{\n            'v': 0.423,\n            'f': \"0.423\",\n        },\n{\n            'v': 0.576,\n            'f': \"0.576\",\n        },\n{\n            'v': 0.475,\n            'f': \"0.475\",\n        },\n{\n            'v': 37.858,\n            'f': \"37.858\",\n        },\n{\n            'v': 0.444,\n            'f': \"0.444\",\n        }],\n [{\n            'v': 1,\n            'f': \"1\",\n        },\n\"LinearSVC\",\n{\n            'v': 0.701,\n            'f': \"0.701\",\n        },\n{\n            'v': 0.631,\n            'f': \"0.631\",\n        },\n{\n            'v': 0.76,\n            'f': \"0.76\",\n        },\n{\n            'v': 0.724,\n            'f': \"0.724\",\n        },\n{\n            'v': 12.982,\n            'f': \"12.982\",\n        },\n{\n            'v': 0.689,\n            'f': \"0.689\",\n        }],\n [{\n            'v': 2,\n            'f': \"2\",\n        },\n\"MLP_classifier\",\n{\n            'v': 0.709,\n            'f': \"0.709\",\n        },\n{\n            'v': 0.612,\n            'f': \"0.612\",\n        },\n{\n            'v': 0.747,\n            'f': \"0.747\",\n        },\n{\n            'v': 0.739,\n            'f': \"0.739\",\n        },\n{\n            'v': 49.742,\n            'f': \"49.742\",\n        },\n{\n            'v': 0.696,\n            'f': \"0.696\",\n        }],\n [{\n            'v': 3,\n            'f': \"3\",\n        },\n\"XGBoost\",\n{\n            'v': 0.354,\n            'f': \"0.354\",\n        },\n{\n            'v': 0.323,\n            'f': \"0.323\",\n        },\n{\n            'v': 0.464,\n            'f': \"0.464\",\n        },\n{\n            'v': 0.364,\n            'f': \"0.364\",\n        },\n{\n            'v': 169.783,\n            'f': \"169.783\",\n        },\n{\n            'v': 0.331,\n            'f': \"0.331\",\n        }]],\n        columns: [[\"number\", \"index\"], [\"string\", \"Mod\\u00e8le\"], [\"number\", \"jaccard_samples\"], [\"number\", \"jaccard_macro\"], [\"number\", \"f1_macro\"], [\"number\", \"f1_sample\"], [\"number\", \"Time_ms\"], [\"number\", \"Cv_score(jaccard_samples)\"]],\n        columnOptions: [{\"width\": \"1px\", \"className\": \"index_column\"}],\n        rowsPerPage: 25,\n        helpUrl: \"https://colab.research.google.com/notebooks/data_table.ipynb\",\n        suppressOutputScrolling: true,\n        minimumWidth: undefined,\n      });\n    ",
            "text/html": [
              "<div>\n",
              "<style scoped>\n",
              "    .dataframe tbody tr th:only-of-type {\n",
              "        vertical-align: middle;\n",
              "    }\n",
              "\n",
              "    .dataframe tbody tr th {\n",
              "        vertical-align: top;\n",
              "    }\n",
              "\n",
              "    .dataframe thead th {\n",
              "        text-align: right;\n",
              "    }\n",
              "</style>\n",
              "<table border=\"1\" class=\"dataframe\">\n",
              "  <thead>\n",
              "    <tr style=\"text-align: right;\">\n",
              "      <th></th>\n",
              "      <th>Modèle</th>\n",
              "      <th>jaccard_samples</th>\n",
              "      <th>jaccard_macro</th>\n",
              "      <th>f1_macro</th>\n",
              "      <th>f1_sample</th>\n",
              "      <th>Time_ms</th>\n",
              "      <th>Cv_score(jaccard_samples)</th>\n",
              "    </tr>\n",
              "  </thead>\n",
              "  <tbody>\n",
              "    <tr>\n",
              "      <th>0</th>\n",
              "      <td>Naive_bayesian</td>\n",
              "      <td>0.461</td>\n",
              "      <td>0.423</td>\n",
              "      <td>0.576</td>\n",
              "      <td>0.475</td>\n",
              "      <td>37.858</td>\n",
              "      <td>0.444</td>\n",
              "    </tr>\n",
              "    <tr>\n",
              "      <th>1</th>\n",
              "      <td>LinearSVC</td>\n",
              "      <td>0.701</td>\n",
              "      <td>0.631</td>\n",
              "      <td>0.760</td>\n",
              "      <td>0.724</td>\n",
              "      <td>12.982</td>\n",
              "      <td>0.689</td>\n",
              "    </tr>\n",
              "    <tr>\n",
              "      <th>2</th>\n",
              "      <td>MLP_classifier</td>\n",
              "      <td>0.709</td>\n",
              "      <td>0.612</td>\n",
              "      <td>0.747</td>\n",
              "      <td>0.739</td>\n",
              "      <td>49.742</td>\n",
              "      <td>0.696</td>\n",
              "    </tr>\n",
              "    <tr>\n",
              "      <th>3</th>\n",
              "      <td>XGBoost</td>\n",
              "      <td>0.354</td>\n",
              "      <td>0.323</td>\n",
              "      <td>0.464</td>\n",
              "      <td>0.364</td>\n",
              "      <td>169.783</td>\n",
              "      <td>0.331</td>\n",
              "    </tr>\n",
              "  </tbody>\n",
              "</table>\n",
              "</div>"
            ],
            "text/plain": [
              "           Modèle  jaccard_samples  ...  Time_ms  Cv_score(jaccard_samples)\n",
              "0  Naive_bayesian            0.461  ...   37.858                      0.444\n",
              "1       LinearSVC            0.701  ...   12.982                      0.689\n",
              "2  MLP_classifier            0.709  ...   49.742                      0.696\n",
              "3         XGBoost            0.354  ...  169.783                      0.331\n",
              "\n",
              "[4 rows x 7 columns]"
            ]
          },
          "metadata": {
            "tags": []
          },
          "execution_count": 95
        }
      ]
    },
    {
      "cell_type": "markdown",
      "metadata": {
        "id": "M2517enO9I6p"
      },
      "source": [
        "**RandomForest**"
      ]
    },
    {
      "cell_type": "code",
      "metadata": {
        "colab": {
          "base_uri": "https://localhost:8080/"
        },
        "id": "uraJggzk9EZi",
        "outputId": "6cdb056e-c86f-41b2-ef81-f137f538b687"
      },
      "source": [
        "estimator_rf = Pipeline([('tfidf', TfidfTransformer()), \r\n",
        "                         ('rf', RandomForestClassifier()),\r\n",
        "                        ])\r\n",
        "\r\n",
        "parameters = {\r\n",
        "    'rf__n_estimators' : [100], #nombre d'arbres de décision\r\n",
        "    'rf__min_samples_leaf' : [5], #nombre de feuilles minimales \r\n",
        "    'rf__max_features': ['auto'] #nombre de features observées\r\n",
        "}\r\n",
        "\r\n",
        "rf_grid = GridSearchCV(estimator_rf,\r\n",
        "                       param_grid=parameters,\r\n",
        "                       scoring='jaccard_samples',\r\n",
        "                       n_jobs=-1,\r\n",
        "                       verbose=1,\r\n",
        "                       cv=5)\r\n",
        "\r\n",
        "rf_grid.fit(X_train, y_train)"
      ],
      "execution_count": 96,
      "outputs": [
        {
          "output_type": "stream",
          "text": [
            "Fitting 5 folds for each of 1 candidates, totalling 5 fits\n"
          ],
          "name": "stdout"
        },
        {
          "output_type": "stream",
          "text": [
            "[Parallel(n_jobs=-1)]: Using backend LokyBackend with 2 concurrent workers.\n",
            "[Parallel(n_jobs=-1)]: Done   5 out of   5 | elapsed:  2.1min finished\n"
          ],
          "name": "stderr"
        },
        {
          "output_type": "execute_result",
          "data": {
            "text/plain": [
              "GridSearchCV(cv=5, error_score=nan,\n",
              "             estimator=Pipeline(memory=None,\n",
              "                                steps=[('tfidf',\n",
              "                                        TfidfTransformer(norm='l2',\n",
              "                                                         smooth_idf=True,\n",
              "                                                         sublinear_tf=False,\n",
              "                                                         use_idf=True)),\n",
              "                                       ('rf',\n",
              "                                        RandomForestClassifier(bootstrap=True,\n",
              "                                                               ccp_alpha=0.0,\n",
              "                                                               class_weight=None,\n",
              "                                                               criterion='gini',\n",
              "                                                               max_depth=None,\n",
              "                                                               max_features='auto',\n",
              "                                                               max_leaf_nodes=None,\n",
              "                                                               max_samples=None,\n",
              "                                                               min_impurity_decrease=0.0,\n",
              "                                                               m...\n",
              "                                                               min_weight_fraction_leaf=0.0,\n",
              "                                                               n_estimators=100,\n",
              "                                                               n_jobs=None,\n",
              "                                                               oob_score=False,\n",
              "                                                               random_state=None,\n",
              "                                                               verbose=0,\n",
              "                                                               warm_start=False))],\n",
              "                                verbose=False),\n",
              "             iid='deprecated', n_jobs=-1,\n",
              "             param_grid={'rf__max_features': ['auto'],\n",
              "                         'rf__min_samples_leaf': [5],\n",
              "                         'rf__n_estimators': [100]},\n",
              "             pre_dispatch='2*n_jobs', refit=True, return_train_score=False,\n",
              "             scoring='jaccard_samples', verbose=1)"
            ]
          },
          "metadata": {
            "tags": []
          },
          "execution_count": 96
        }
      ]
    },
    {
      "cell_type": "code",
      "metadata": {
        "colab": {
          "base_uri": "https://localhost:8080/"
        },
        "id": "XBoh5rAhKi1-",
        "outputId": "a804c132-129a-49f6-b81e-fdf64b46098c"
      },
      "source": [
        "rf_grid.best_params_"
      ],
      "execution_count": 97,
      "outputs": [
        {
          "output_type": "execute_result",
          "data": {
            "text/plain": [
              "{'rf__max_features': 'auto',\n",
              " 'rf__min_samples_leaf': 5,\n",
              " 'rf__n_estimators': 100}"
            ]
          },
          "metadata": {
            "tags": []
          },
          "execution_count": 97
        }
      ]
    },
    {
      "cell_type": "markdown",
      "metadata": {
        "id": "1LyZHeKMQ-fW"
      },
      "source": [
        "Score"
      ]
    },
    {
      "cell_type": "code",
      "metadata": {
        "colab": {
          "base_uri": "https://localhost:8080/",
          "height": 202
        },
        "id": "gA88BYPAQ92-",
        "outputId": "1b2fca2f-8163-49cc-c1d4-00f9ba9d68e2"
      },
      "source": [
        "jaccard_macro = jaccard_score(y_test, rf_grid.predict(X_test), average='macro')\r\n",
        "f1_macro = f1_score(y_test, rf_grid.predict(X_test), average='macro')\r\n",
        "f1_sample = f1_score(y_test, rf_grid.predict(X_test), average='samples')\r\n",
        "\r\n",
        "time = %timeit -o rf_grid.predict(X_test)\r\n",
        "\r\n",
        "results = results.append(pd.DataFrame({'Modèle': ['XGBoost'],\r\n",
        "                                       'jaccard_samples': round(\r\n",
        "                                           rf_grid.score(X_test, y_test), 3),\r\n",
        "                                       'jaccard_macro': jaccard_macro,\r\n",
        "                                       'f1_macro': f1_macro,\r\n",
        "                                       'f1_sample': f1_sample,\r\n",
        "                                       'Time_ms': time.best*1000,\r\n",
        "                                       'Cv_score(jaccard_samples)':\r\n",
        "                                       rf_grid.best_score_}),\r\n",
        "                         ignore_index=True)\r\n",
        "\r\n",
        "results.round(3)"
      ],
      "execution_count": 98,
      "outputs": [
        {
          "output_type": "stream",
          "text": [
            "1 loop, best of 5: 1.06 s per loop\n"
          ],
          "name": "stdout"
        },
        {
          "output_type": "execute_result",
          "data": {
            "application/vnd.google.colaboratory.module+javascript": "\n      import \"https://ssl.gstatic.com/colaboratory/data_table/a6224c040fa35dcf/data_table.js\";\n\n      window.createDataTable({\n        data: [[{\n            'v': 0,\n            'f': \"0\",\n        },\n\"Naive_bayesian\",\n{\n            'v': 0.461,\n            'f': \"0.461\",\n        },\n{\n            'v': 0.423,\n            'f': \"0.423\",\n        },\n{\n            'v': 0.576,\n            'f': \"0.576\",\n        },\n{\n            'v': 0.475,\n            'f': \"0.475\",\n        },\n{\n            'v': 37.858,\n            'f': \"37.858\",\n        },\n{\n            'v': 0.444,\n            'f': \"0.444\",\n        }],\n [{\n            'v': 1,\n            'f': \"1\",\n        },\n\"LinearSVC\",\n{\n            'v': 0.701,\n            'f': \"0.701\",\n        },\n{\n            'v': 0.631,\n            'f': \"0.631\",\n        },\n{\n            'v': 0.76,\n            'f': \"0.76\",\n        },\n{\n            'v': 0.724,\n            'f': \"0.724\",\n        },\n{\n            'v': 12.982,\n            'f': \"12.982\",\n        },\n{\n            'v': 0.689,\n            'f': \"0.689\",\n        }],\n [{\n            'v': 2,\n            'f': \"2\",\n        },\n\"MLP_classifier\",\n{\n            'v': 0.709,\n            'f': \"0.709\",\n        },\n{\n            'v': 0.612,\n            'f': \"0.612\",\n        },\n{\n            'v': 0.747,\n            'f': \"0.747\",\n        },\n{\n            'v': 0.739,\n            'f': \"0.739\",\n        },\n{\n            'v': 49.742,\n            'f': \"49.742\",\n        },\n{\n            'v': 0.696,\n            'f': \"0.696\",\n        }],\n [{\n            'v': 3,\n            'f': \"3\",\n        },\n\"XGBoost\",\n{\n            'v': 0.354,\n            'f': \"0.354\",\n        },\n{\n            'v': 0.323,\n            'f': \"0.323\",\n        },\n{\n            'v': 0.464,\n            'f': \"0.464\",\n        },\n{\n            'v': 0.364,\n            'f': \"0.364\",\n        },\n{\n            'v': 169.783,\n            'f': \"169.783\",\n        },\n{\n            'v': 0.331,\n            'f': \"0.331\",\n        }],\n [{\n            'v': 4,\n            'f': \"4\",\n        },\n\"XGBoost\",\n{\n            'v': 0.606,\n            'f': \"0.606\",\n        },\n{\n            'v': 0.54,\n            'f': \"0.54\",\n        },\n{\n            'v': 0.677,\n            'f': \"0.677\",\n        },\n{\n            'v': 0.622,\n            'f': \"0.622\",\n        },\n{\n            'v': 1058.588,\n            'f': \"1058.588\",\n        },\n{\n            'v': 0.585,\n            'f': \"0.585\",\n        }]],\n        columns: [[\"number\", \"index\"], [\"string\", \"Mod\\u00e8le\"], [\"number\", \"jaccard_samples\"], [\"number\", \"jaccard_macro\"], [\"number\", \"f1_macro\"], [\"number\", \"f1_sample\"], [\"number\", \"Time_ms\"], [\"number\", \"Cv_score(jaccard_samples)\"]],\n        columnOptions: [{\"width\": \"1px\", \"className\": \"index_column\"}],\n        rowsPerPage: 25,\n        helpUrl: \"https://colab.research.google.com/notebooks/data_table.ipynb\",\n        suppressOutputScrolling: true,\n        minimumWidth: undefined,\n      });\n    ",
            "text/html": [
              "<div>\n",
              "<style scoped>\n",
              "    .dataframe tbody tr th:only-of-type {\n",
              "        vertical-align: middle;\n",
              "    }\n",
              "\n",
              "    .dataframe tbody tr th {\n",
              "        vertical-align: top;\n",
              "    }\n",
              "\n",
              "    .dataframe thead th {\n",
              "        text-align: right;\n",
              "    }\n",
              "</style>\n",
              "<table border=\"1\" class=\"dataframe\">\n",
              "  <thead>\n",
              "    <tr style=\"text-align: right;\">\n",
              "      <th></th>\n",
              "      <th>Modèle</th>\n",
              "      <th>jaccard_samples</th>\n",
              "      <th>jaccard_macro</th>\n",
              "      <th>f1_macro</th>\n",
              "      <th>f1_sample</th>\n",
              "      <th>Time_ms</th>\n",
              "      <th>Cv_score(jaccard_samples)</th>\n",
              "    </tr>\n",
              "  </thead>\n",
              "  <tbody>\n",
              "    <tr>\n",
              "      <th>0</th>\n",
              "      <td>Naive_bayesian</td>\n",
              "      <td>0.461</td>\n",
              "      <td>0.423</td>\n",
              "      <td>0.576</td>\n",
              "      <td>0.475</td>\n",
              "      <td>37.858</td>\n",
              "      <td>0.444</td>\n",
              "    </tr>\n",
              "    <tr>\n",
              "      <th>1</th>\n",
              "      <td>LinearSVC</td>\n",
              "      <td>0.701</td>\n",
              "      <td>0.631</td>\n",
              "      <td>0.760</td>\n",
              "      <td>0.724</td>\n",
              "      <td>12.982</td>\n",
              "      <td>0.689</td>\n",
              "    </tr>\n",
              "    <tr>\n",
              "      <th>2</th>\n",
              "      <td>MLP_classifier</td>\n",
              "      <td>0.709</td>\n",
              "      <td>0.612</td>\n",
              "      <td>0.747</td>\n",
              "      <td>0.739</td>\n",
              "      <td>49.742</td>\n",
              "      <td>0.696</td>\n",
              "    </tr>\n",
              "    <tr>\n",
              "      <th>3</th>\n",
              "      <td>XGBoost</td>\n",
              "      <td>0.354</td>\n",
              "      <td>0.323</td>\n",
              "      <td>0.464</td>\n",
              "      <td>0.364</td>\n",
              "      <td>169.783</td>\n",
              "      <td>0.331</td>\n",
              "    </tr>\n",
              "    <tr>\n",
              "      <th>4</th>\n",
              "      <td>XGBoost</td>\n",
              "      <td>0.606</td>\n",
              "      <td>0.540</td>\n",
              "      <td>0.677</td>\n",
              "      <td>0.622</td>\n",
              "      <td>1058.588</td>\n",
              "      <td>0.585</td>\n",
              "    </tr>\n",
              "  </tbody>\n",
              "</table>\n",
              "</div>"
            ],
            "text/plain": [
              "           Modèle  jaccard_samples  ...   Time_ms  Cv_score(jaccard_samples)\n",
              "0  Naive_bayesian            0.461  ...    37.858                      0.444\n",
              "1       LinearSVC            0.701  ...    12.982                      0.689\n",
              "2  MLP_classifier            0.709  ...    49.742                      0.696\n",
              "3         XGBoost            0.354  ...   169.783                      0.331\n",
              "4         XGBoost            0.606  ...  1058.588                      0.585\n",
              "\n",
              "[5 rows x 7 columns]"
            ]
          },
          "metadata": {
            "tags": []
          },
          "execution_count": 98
        }
      ]
    }
  ]
}