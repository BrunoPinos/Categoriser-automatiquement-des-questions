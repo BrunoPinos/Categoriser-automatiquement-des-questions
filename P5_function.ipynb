{
  "nbformat": 4,
  "nbformat_minor": 0,
  "metadata": {
    "colab": {
      "name": "P5_function.ipynb",
      "provenance": [],
      "collapsed_sections": [],
      "mount_file_id": "1Mm6pn0-aXL3VeieehgdES2Mid_4aKy1L",
      "authorship_tag": "ABX9TyMhjkfHqL8t6CLcef/Cw9SW",
      "include_colab_link": true
    },
    "kernelspec": {
      "name": "python3",
      "display_name": "Python 3"
    }
  },
  "cells": [
    {
      "cell_type": "markdown",
      "metadata": {
        "id": "view-in-github",
        "colab_type": "text"
      },
      "source": [
        "<a href=\"https://colab.research.google.com/github/BrunoPinos/Categoriser-automatiquement-des-questions/blob/main/P5_function.ipynb\" target=\"_parent\"><img src=\"https://colab.research.google.com/assets/colab-badge.svg\" alt=\"Open In Colab\"/></a>"
      ]
    },
    {
      "cell_type": "code",
      "metadata": {
        "colab": {
          "base_uri": "https://localhost:8080/"
        },
        "id": "5wzEyNsjJ_aQ",
        "outputId": "07de13e5-0548-4b11-a4d7-af7c44bc12a7"
      },
      "source": [
        "# data analysis and wrangling\r\n",
        "import matplotlib.pyplot as plt\r\n",
        "import seaborn as sn\r\n",
        "import pandas as pd\r\n",
        "import numpy as np\r\n",
        "\r\n",
        "# text\r\n",
        "import re\r\n",
        "import spacy\r\n",
        "import nltk\r\n",
        "nltk.download('stopwords')\r\n",
        "from nltk.corpus import stopwords\r\n",
        "from gensim.corpora import Dictionary\r\n",
        "from gensim.utils import simple_preprocess\r\n",
        "from IPython.display import display, HTML\r\n",
        "\r\n",
        "# Save objects\r\n",
        "import joblib\r\n",
        "\r\n",
        "# Set working directory\r\n",
        "import os\r\n",
        "os.chdir('/content/drive/MyDrive/Colab Notebooks/P5')"
      ],
      "execution_count": 10,
      "outputs": [
        {
          "output_type": "stream",
          "text": [
            "[nltk_data] Downloading package stopwords to /root/nltk_data...\n",
            "[nltk_data]   Package stopwords is already up-to-date!\n"
          ],
          "name": "stdout"
        }
      ]
    },
    {
      "cell_type": "markdown",
      "metadata": {
        "id": "5wHQgLCQcMmS"
      },
      "source": [
        "**Import**"
      ]
    },
    {
      "cell_type": "code",
      "metadata": {
        "id": "zTdDocThcKDk"
      },
      "source": [
        "df = joblib.load('df.sav')\r\n",
        "texts_cleaned = joblib.load('texts_cleaned.sav')\r\n",
        "dictionary = joblib.load('dictionary.sav')"
      ],
      "execution_count": 11,
      "outputs": []
    },
    {
      "cell_type": "markdown",
      "metadata": {
        "id": "nUhyjkVLcWBC"
      },
      "source": [
        "Function"
      ]
    },
    {
      "cell_type": "code",
      "metadata": {
        "id": "vb6SsY6FiITm"
      },
      "source": [
        "# Lemmatization function\r\n",
        "nlp = spacy.load('en', disable=['parser', 'ner'])\r\n",
        "\r\n",
        "def lemmatization(doc, nlp, banned_postags=['PUNCT', 'DET', 'PRON', 'CONJ',\r\n",
        "                                            'ADV', 'INTJ']):\r\n",
        "    doc = nlp(doc)\r\n",
        "    return [token.lemma_ for token in doc if token.pos_ not in banned_postags]\r\n",
        "    \r\n",
        "\r\n",
        "# Remove stopwords\r\n",
        "stop_words = stopwords.words('english')\r\n",
        "\r\n",
        "# stop_words.extend([])\r\n",
        "def remove_stopwords(doc):\r\n",
        "    return \" \".join([word for word in doc if word not in stop_words])  "
      ],
      "execution_count": 12,
      "outputs": []
    },
    {
      "cell_type": "code",
      "metadata": {
        "id": "hUasYY_OiK0m"
      },
      "source": [
        "# All processing\r\n",
        "def clean_text(text):\r\n",
        "    text_cleaned = (pd.Series(text)\r\n",
        "                    # delete code parts\r\n",
        "                    .apply(lambda x: re.sub('<code>(.|\\n)*?</code>', '', x))\r\n",
        "                    # remove HTML tags\r\n",
        "                    .apply(lambda x: re.sub('<[^<]+?>', '', x))\r\n",
        "                    # preprocess\r\n",
        "                    .apply(lambda x: simple_preprocess(x, min_len=3,\r\n",
        "                                                      deacc=False))\r\n",
        "                    # remove stop word\r\n",
        "                    .apply(remove_stopwords)\r\n",
        "                    # lemmatization\r\n",
        "                    .apply(lambda x: lemmatization(x, nlp=nlp))\r\n",
        "                    # make a bag of word\r\n",
        "                    .apply(dictionary.doc2bow)\r\n",
        "                   )\r\n",
        "    return text_cleaned"
      ],
      "execution_count": 13,
      "outputs": []
    },
    {
      "cell_type": "code",
      "metadata": {
        "id": "Yj7yY5KFbF-0"
      },
      "source": [
        "# Predict function"
      ],
      "execution_count": 14,
      "outputs": []
    },
    {
      "cell_type": "code",
      "metadata": {
        "colab": {
          "base_uri": "https://localhost:8080/"
        },
        "id": "zebiBqoxm8II",
        "outputId": "2486ec71-7e78-4597-acd5-79957b27f553"
      },
      "source": [
        "# Question exemple\r\n",
        "\r\n",
        "'''\r\n",
        "Assigning TCP/IP Ports for In-House Application Use <p>I've written a WCF\r\n",
        "Service hosted by a Windows Service and it needs to listen on a known TCP/IP\r\n",
        "port.  From what range can I safely allocate a port for use within my\r\n",
        "organization?  That port will be embedded in the config files for the\r\n",
        "service and the clients that are consuming the service.</p>\r\n",
        "'''\r\n",
        "\r\n",
        "text = input(\"ask a question\")"
      ],
      "execution_count": 15,
      "outputs": [
        {
          "output_type": "stream",
          "text": [
            "ask a questionAssigning TCP/IP Ports for In-House Application Use <p>I've written a WCF Service hosted by a Windows Service and it needs to listen on a known TCP/IP port.  From what range can I safely allocate a port for use within my organization?  That port will be embedded in the config files for the service and the clients that are consuming the service.</p>\n"
          ],
          "name": "stdout"
        }
      ]
    },
    {
      "cell_type": "code",
      "metadata": {
        "colab": {
          "base_uri": "https://localhost:8080/"
        },
        "id": "L7pZGzjilWgJ",
        "outputId": "5614915f-9018-4579-8424-cae6216377d4"
      },
      "source": [
        "print(clean_text(text).iloc[0])"
      ],
      "execution_count": 16,
      "outputs": [
        {
          "output_type": "stream",
          "text": [
            "[(27, 1), (71, 1), (194, 1), (207, 4), (245, 1), (325, 1), (436, 1), (753, 1), (778, 4), (843, 1), (958, 1), (1200, 1), (1214, 1), (1487, 1), (1777, 1), (2155, 2), (2355, 1), (3054, 1)]\n"
          ],
          "name": "stdout"
        }
      ]
    }
  ]
}