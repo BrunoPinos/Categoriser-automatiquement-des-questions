{
  "nbformat": 4,
  "nbformat_minor": 0,
  "metadata": {
    "colab": {
      "name": "P5_unsupervised.ipynb",
      "provenance": [],
      "collapsed_sections": [],
      "mount_file_id": "1SSROz2EowPXYzupg1pBGBuP3svs-he95",
      "authorship_tag": "ABX9TyOiQVxKJiF3rKN5v2fEl05j",
      "include_colab_link": true
    },
    "kernelspec": {
      "name": "python3",
      "display_name": "Python 3"
    }
  },
  "cells": [
    {
      "cell_type": "markdown",
      "metadata": {
        "id": "view-in-github",
        "colab_type": "text"
      },
      "source": [
        "<a href=\"https://colab.research.google.com/github/BrunoPinos/Categoriser-automatiquement-des-questions/blob/add_API/P5_unsupervised.ipynb\" target=\"_parent\"><img src=\"https://colab.research.google.com/assets/colab-badge.svg\" alt=\"Open In Colab\"/></a>"
      ]
    },
    {
      "cell_type": "code",
      "metadata": {
        "id": "fpYQdfaDC-Zn"
      },
      "source": [
        "# data analysis and wrangling\r\n",
        "import pandas as pd\r\n",
        "from scipy import stats\r\n",
        "\r\n",
        "# visualization\r\n",
        "import matplotlib.pyplot as plt\r\n",
        "import seaborn as sn\r\n",
        "import numpy as np\r\n",
        "\r\n",
        "# text\r\n",
        "from gensim.models import LdaMulticore\r\n",
        "from gensim.models import Phrases, CoherenceModel\r\n",
        "from IPython.display import display, HTML\r\n",
        "\r\n",
        "# Save objects\r\n",
        "import joblib\r\n",
        "\r\n",
        "# Set working directory\r\n",
        "import time\r\n",
        "import os\r\n",
        "os.chdir('/content/drive/MyDrive/Colab Notebooks/P5')\r\n",
        "\r\n",
        "# Data table display for Pandas dataframes\r\n",
        "from google.colab import data_table\r\n",
        "%load_ext google.colab.data_table"
      ],
      "execution_count": 1,
      "outputs": []
    },
    {
      "cell_type": "markdown",
      "metadata": {
        "id": "Rv2rw5qLED1Z"
      },
      "source": [
        "Import"
      ]
    },
    {
      "cell_type": "code",
      "metadata": {
        "id": "LUH3ZMqAENlH"
      },
      "source": [
        "corpus = joblib.load('corpus.sav')\r\n",
        "dictionary = joblib.load('dictionary.sav')\r\n",
        "df = joblib.load('df.sav')\r\n",
        "texts_cleaned = joblib.load('texts_cleaned.sav')"
      ],
      "execution_count": 2,
      "outputs": []
    },
    {
      "cell_type": "markdown",
      "metadata": {
        "id": "2rKruIydEoxG"
      },
      "source": [
        "# Modeling phase\r\n",
        "In order to be able to categorize the questions of our corpus in an unsupervised way, we use Mallet's implementation of Latent Dirichlet Allocation (LDA). We train several models with a pre-indicated number of subjects around which to group documents, and look for the best according to the consistency value."
      ]
    },
    {
      "cell_type": "code",
      "metadata": {
        "colab": {
          "base_uri": "https://localhost:8080/"
        },
        "id": "pu0_QUoxJOYX",
        "outputId": "95adfc80-7efc-4f7a-a1b1-885d68e8c78d"
      },
      "source": [
        "# Initialization\r\n",
        "start, limit, step = 8, 20, 2\r\n",
        "coherence_values = []\r\n",
        "model_list = []\r\n",
        "\r\n",
        "\r\n",
        "# Processing\r\n",
        "for num_topics in range(start, limit, step):\r\n",
        "    start = time.time()\r\n",
        "\r\n",
        "    model = LdaMulticore(corpus, id2word=dictionary, num_topics=num_topics)\r\n",
        "    model_list.append(model)\r\n",
        "    coherencevalue = CoherenceModel(model=model, texts=texts_cleaned,\r\n",
        "                                    dictionary=dictionary).get_coherence()\r\n",
        "    coherence_values.append(coherencevalue)\r\n",
        "\r\n",
        "    # display training information along the way\r\n",
        "    minutes, seconds = divmod(time.time()-start, 60)\r\n",
        "\r\n",
        "    str_perf = f\"Nombre de topics: {num_topics:2} ... Valeur de coherence: {coherencevalue:.3} ... \"\r\n",
        "    str_time = f\"Temps d'entrainement et d'évaluation: {round(minutes):2} minutes {round(seconds):2} secondes...\"\r\n",
        "    print(str_perf + str_time)"
      ],
      "execution_count": 3,
      "outputs": [
        {
          "output_type": "stream",
          "text": [
            "Nombre de topics:  8 ... Valeur de coherence: 0.473 ... Temps d'entrainement et d'évaluation:  1 minutes 34 secondes...\n",
            "Nombre de topics: 10 ... Valeur de coherence: 0.429 ... Temps d'entrainement et d'évaluation:  1 minutes 38 secondes...\n",
            "Nombre de topics: 12 ... Valeur de coherence: 0.488 ... Temps d'entrainement et d'évaluation:  1 minutes 37 secondes...\n",
            "Nombre de topics: 14 ... Valeur de coherence: 0.498 ... Temps d'entrainement et d'évaluation:  1 minutes 41 secondes...\n",
            "Nombre de topics: 16 ... Valeur de coherence: 0.514 ... Temps d'entrainement et d'évaluation:  1 minutes 43 secondes...\n",
            "Nombre de topics: 18 ... Valeur de coherence: 0.474 ... Temps d'entrainement et d'évaluation:  1 minutes 42 secondes...\n"
          ],
          "name": "stdout"
        }
      ]
    },
    {
      "cell_type": "markdown",
      "metadata": {
        "id": "NK3clnyeOBzN"
      },
      "source": [
        "Let us represent graphically the evolution of coherence"
      ]
    },
    {
      "cell_type": "code",
      "metadata": {
        "colab": {
          "base_uri": "https://localhost:8080/",
          "height": 297
        },
        "id": "-pOIXyoCOFFL",
        "outputId": "6a912371-1efa-40aa-ee7b-9267477d64e4"
      },
      "source": [
        "n_topics = range(8, limit, step)\r\n",
        "plt.plot(n_topics, coherence_values, 'r-', linewidth='2')\r\n",
        "plt.plot(n_topics, coherence_values, 'ro', linewidth='5')\r\n",
        "plt.xlabel(\"Nombre de topics\")\r\n",
        "plt.ylabel(\"Score de cohérence\")\r\n",
        "plt.title(\"Évolution de la cohérence de la LDA en fonction du nombre de topics\");"
      ],
      "execution_count": 4,
      "outputs": [
        {
          "output_type": "display_data",
          "data": {
            "image/png": "[encoded data removed]",
            "text/plain": [
              "<Figure size 432x288 with 1 Axes>"
            ]
          },
          "metadata": {
            "tags": [],
            "needs_background": "light"
          }
        }
      ]
    },
    {
      "cell_type": "markdown",
      "metadata": {
        "id": "izL3tRVRUgNA"
      },
      "source": [
        "# Results interpretation\r\n",
        "\r\n",
        "We choose to keep the 10 topic model as the final model. Indeed, according to our evolution curve, we notice that the coherence value reaches a plateau from this value, and only deviates very slightly for the number of following topics."
      ]
    },
    {
      "cell_type": "code",
      "metadata": {
        "colab": {
          "base_uri": "https://localhost:8080/"
        },
        "id": "VyGO8ErkUBzH",
        "outputId": "e6780fba-d874-4f5e-d257-afe0834b9cc0"
      },
      "source": [
        "optimal_model = model_list[4]\r\n",
        "\r\n",
        "joblib.dump(optimal_model, 'optimal_model.sav')"
      ],
      "execution_count": 13,
      "outputs": [
        {
          "output_type": "execute_result",
          "data": {
            "text/plain": [
              "['optimal_model.sav']"
            ]
          },
          "metadata": {
            "tags": []
          },
          "execution_count": 13
        }
      ]
    },
    {
      "cell_type": "markdown",
      "metadata": {
        "id": "VHNMB4NGVFyn"
      },
      "source": [
        "For each topic that emerges, let's display the list of the most probable words."
      ]
    },
    {
      "cell_type": "code",
      "metadata": {
        "colab": {
          "base_uri": "https://localhost:8080/"
        },
        "id": "UvIF_xGdT5Zh",
        "outputId": "bdeff3bf-e8f6-4739-c5c7-88cf8401516a"
      },
      "source": [
        "for i in range(optimal_model.num_topics):\r\n",
        "    desc = optimal_model.show_topic(i, topn=10)\r\n",
        "    words = ', '.join([word for word, prob in desc])\r\n",
        "    print(f'Topic #{i+1:2}:\\n\\t', words)"
      ],
      "execution_count": 14,
      "outputs": [
        {
          "output_type": "stream",
          "text": [
            "Topic # 1:\n",
            "\t page, php, html, javascript, browser, css, http, ie, content, com\n",
            "Topic # 2:\n",
            "\t memory, size, large, performance, x, point, take, number, small, fast\n",
            "Topic # 3:\n",
            "\t image, view, text, display, color, style, background, tab, pdf, template\n",
            "Topic # 4:\n",
            "\t net, build, app, application, version, framework, tool, system, library, assembly\n",
            "Topic # 5:\n",
            "\t table, database, sql, query, server, store, mysql, key, linq, field\n",
            "Topic # 6:\n",
            "\t java, test, parameter, xml, eclipse, unit, pass, variable, argument, jar\n",
            "Topic # 7:\n",
            "\t class, property, c, interface, implement, define, instance, reference, static, implementation\n",
            "Topic # 8:\n",
            "\t git, folder, repository, delete, svn, copy, commit, quot, header, directory\n",
            "Topic # 9:\n",
            "\t command, script, directory, path, output, window, expression, variable, text, match\n",
            "Topic #10:\n",
            "\t python, print, module, library, json, package, parse, byte, encode, character\n",
            "Topic #11:\n",
            "\t server, net, service, web, asp, request, client, application, access, http\n",
            "Topic #12:\n",
            "\t form, jquery, event, click, button, control, select, wpf, window, input\n",
            "Topic #13:\n",
            "\t application, thread, exception, visual, process, studio, log, message, debug, system\n",
            "Topic #14:\n",
            "\t list, array, column, row, index, key, loop, element, item, sort\n",
            "Topic #15:\n",
            "\t c, program, difference, language, ruby, linux, library, email, learn, window\n",
            "Topic #16:\n",
            "\t number, convert, date, format, algorithm, character, c, integer, day, int\n"
          ],
          "name": "stdout"
        }
      ]
    },
    {
      "cell_type": "markdown",
      "metadata": {
        "id": "5kq1e5nQWoL_"
      },
      "source": [
        "For each document, let's find the topic that contributes the most to its distribution of words"
      ]
    },
    {
      "cell_type": "code",
      "metadata": {
        "colab": {
          "base_uri": "https://localhost:8080/",
          "height": 431
        },
        "id": "1GSuiK7JWbc3",
        "outputId": "ec3407e4-5f8b-488e-9b2d-bc2ba7516513"
      },
      "source": [
        "dominant_topics = []\r\n",
        "perc_contributions = []\r\n",
        "\r\n",
        "for predictions in optimal_model[corpus]:\r\n",
        "    predictions = sorted(predictions, key=lambda x: x[1], reverse=True)\r\n",
        "    topic_num, topic_contrib = predictions[0] # Get most contributing topic\r\n",
        "    dominant_topics.append(int(topic_num+1))\r\n",
        "    perc_contributions.append(round(topic_contrib, 4))\r\n",
        "    \r\n",
        "docs_dominants = pd.DataFrame({'Dominant Topic': dominant_topics,\r\n",
        "                               'Contribution': perc_contributions,\r\n",
        "                               'Index': texts_cleaned.index})\r\n",
        "docs_dominants.set_index(['Index'], inplace=True)\r\n",
        "docs_dominants"
      ],
      "execution_count": 17,
      "outputs": [
        {
          "output_type": "execute_result",
          "data": {
            "text/html": [
              "<div>\n",
              "<style scoped>\n",
              "    .dataframe tbody tr th:only-of-type {\n",
              "        vertical-align: middle;\n",
              "    }\n",
              "\n",
              "    .dataframe tbody tr th {\n",
              "        vertical-align: top;\n",
              "    }\n",
              "\n",
              "    .dataframe thead th {\n",
              "        text-align: right;\n",
              "    }\n",
              "</style>\n",
              "<table border=\"1\" class=\"dataframe\">\n",
              "  <thead>\n",
              "    <tr style=\"text-align: right;\">\n",
              "      <th></th>\n",
              "      <th>Dominant Topic</th>\n",
              "      <th>Contribution</th>\n",
              "    </tr>\n",
              "    <tr>\n",
              "      <th>Index</th>\n",
              "      <th></th>\n",
              "      <th></th>\n",
              "    </tr>\n",
              "  </thead>\n",
              "  <tbody>\n",
              "    <tr>\n",
              "      <th>10000005</th>\n",
              "      <td>14</td>\n",
              "      <td>0.7369</td>\n",
              "    </tr>\n",
              "    <tr>\n",
              "      <th>10000083</th>\n",
              "      <td>7</td>\n",
              "      <td>0.4020</td>\n",
              "    </tr>\n",
              "    <tr>\n",
              "      <th>10000335</th>\n",
              "      <td>15</td>\n",
              "      <td>0.2511</td>\n",
              "    </tr>\n",
              "    <tr>\n",
              "      <th>10003270</th>\n",
              "      <td>14</td>\n",
              "      <td>0.3365</td>\n",
              "    </tr>\n",
              "    <tr>\n",
              "      <th>10003562</th>\n",
              "      <td>3</td>\n",
              "      <td>0.4234</td>\n",
              "    </tr>\n",
              "    <tr>\n",
              "      <th>...</th>\n",
              "      <td>...</td>\n",
              "      <td>...</td>\n",
              "    </tr>\n",
              "    <tr>\n",
              "      <th>1213074</th>\n",
              "      <td>13</td>\n",
              "      <td>0.3550</td>\n",
              "    </tr>\n",
              "    <tr>\n",
              "      <th>1213127</th>\n",
              "      <td>13</td>\n",
              "      <td>0.6187</td>\n",
              "    </tr>\n",
              "    <tr>\n",
              "      <th>1213137</th>\n",
              "      <td>3</td>\n",
              "      <td>0.7079</td>\n",
              "    </tr>\n",
              "    <tr>\n",
              "      <th>1213144</th>\n",
              "      <td>5</td>\n",
              "      <td>0.6893</td>\n",
              "    </tr>\n",
              "    <tr>\n",
              "      <th>1213217</th>\n",
              "      <td>4</td>\n",
              "      <td>0.4073</td>\n",
              "    </tr>\n",
              "  </tbody>\n",
              "</table>\n",
              "<p>101366 rows × 2 columns</p>\n",
              "</div>"
            ],
            "text/plain": [
              "          Dominant Topic  Contribution\n",
              "Index                                 \n",
              "10000005              14        0.7369\n",
              "10000083               7        0.4020\n",
              "10000335              15        0.2511\n",
              "10003270              14        0.3365\n",
              "10003562               3        0.4234\n",
              "...                  ...           ...\n",
              "1213074               13        0.3550\n",
              "1213127               13        0.6187\n",
              "1213137                3        0.7079\n",
              "1213144                5        0.6893\n",
              "1213217                4        0.4073\n",
              "\n",
              "[101366 rows x 2 columns]"
            ]
          },
          "metadata": {
            "tags": []
          },
          "execution_count": 17
        }
      ]
    },
    {
      "cell_type": "markdown",
      "metadata": {
        "id": "m85seo2nWvuf"
      },
      "source": [
        "With this new frame, let's try to segment our dataset by calculating:\r\n",
        "\r\n",
        "1.   the number of documents per contributor top topic\r\n",
        "2.   the proportion of documents by contributor top topic"
      ]
    },
    {
      "cell_type": "code",
      "metadata": {
        "id": "aqMwLR9OXUbf"
      },
      "source": [
        "# Number of documents for each topic\r\n",
        "docs_per_topic = (docs_dominants['Dominant Topic']\r\n",
        "                  .value_counts(sort=False)\r\n",
        "                  .to_frame()\r\n",
        "                  .rename(columns={'Dominant Topic': 'Document count'})\r\n",
        "                 )\r\n",
        "\r\n",
        "# Proportion of documents for each topic\r\n",
        "topic_props = (docs_per_topic.divide(docs_per_topic.sum())\r\n",
        "               .round(4)\r\n",
        "               .rename(columns={'Document count': 'Document proportion'})\r\n",
        "              )"
      ],
      "execution_count": 18,
      "outputs": []
    },
    {
      "cell_type": "markdown",
      "metadata": {
        "id": "wrTVUWwYaEO_"
      },
      "source": [
        "Let's attach this information with the descriptor keywords of the topics"
      ]
    },
    {
      "cell_type": "code",
      "metadata": {
        "colab": {
          "base_uri": "https://localhost:8080/",
          "height": 408
        },
        "id": "fvqHG0aAXXB2",
        "outputId": "d26394ab-cbda-4607-9dab-c7cd1df56695"
      },
      "source": [
        "# Most probable keywords per topic\r\n",
        "keywords = []\r\n",
        "for i in range(optimal_model.num_topics):\r\n",
        "    desc = optimal_model.show_topic(i)\r\n",
        "    keywords.append(', '.join([word for word, prob in desc]))\r\n",
        "\r\n",
        "num_topics = [i+1 for i in range(optimal_model.num_topics)]\r\n",
        "df_topics_keywords = pd.DataFrame({'Topic #': num_topics, 'Keywords': keywords})\r\n",
        "df_topics_keywords.set_index(['Topic #'], inplace=True)\r\n",
        "\r\n",
        "# Final Frame\r\n",
        "df_dominant_topics = df_topics_keywords.join([docs_per_topic, topic_props])\r\n",
        "df_dominant_topics.sort_values(['Document proportion'], ascending=False, inplace=True)\r\n",
        "df_dominant_topics"
      ],
      "execution_count": 19,
      "outputs": [
        {
          "output_type": "execute_result",
          "data": {
            "application/vnd.google.colaboratory.module+javascript": "\n      import \"https://ssl.gstatic.com/colaboratory/data_table/a6224c040fa35dcf/data_table.js\";\n\n      window.createDataTable({\n        data: [[{\n            'v': 7,\n            'f': \"7\",\n        },\n\"class, property, c, interface, implement, define, instance, reference, static, implementation\",\n{\n            'v': 10175,\n            'f': \"10175\",\n        },\n{\n            'v': 0.1004,\n            'f': \"0.1004\",\n        }],\n [{\n            'v': 11,\n            'f': \"11\",\n        },\n\"server, net, service, web, asp, request, client, application, access, http\",\n{\n            'v': 9074,\n            'f': \"9074\",\n        },\n{\n            'v': 0.0895,\n            'f': \"0.0895\",\n        }],\n [{\n            'v': 4,\n            'f': \"4\",\n        },\n\"net, build, app, application, version, framework, tool, system, library, assembly\",\n{\n            'v': 7640,\n            'f': \"7640\",\n        },\n{\n            'v': 0.0754,\n            'f': \"0.0754\",\n        }],\n [{\n            'v': 5,\n            'f': \"5\",\n        },\n\"table, database, sql, query, server, store, mysql, key, linq, field\",\n{\n            'v': 7641,\n            'f': \"7641\",\n        },\n{\n            'v': 0.0754,\n            'f': \"0.0754\",\n        }],\n [{\n            'v': 1,\n            'f': \"1\",\n        },\n\"page, php, html, javascript, browser, css, http, ie, content, com\",\n{\n            'v': 7533,\n            'f': \"7533\",\n        },\n{\n            'v': 0.0743,\n            'f': \"0.0743\",\n        }],\n [{\n            'v': 14,\n            'f': \"14\",\n        },\n\"list, array, column, row, index, key, loop, element, item, sort\",\n{\n            'v': 7112,\n            'f': \"7112\",\n        },\n{\n            'v': 0.0702,\n            'f': \"0.0702\",\n        }],\n [{\n            'v': 9,\n            'f': \"9\",\n        },\n\"command, script, directory, path, output, window, expression, variable, text, match\",\n{\n            'v': 6898,\n            'f': \"6898\",\n        },\n{\n            'v': 0.0681,\n            'f': \"0.0681\",\n        }],\n [{\n            'v': 13,\n            'f': \"13\",\n        },\n\"application, thread, exception, visual, process, studio, log, message, debug, system\",\n{\n            'v': 6584,\n            'f': \"6584\",\n        },\n{\n            'v': 0.065,\n            'f': \"0.065\",\n        }],\n [{\n            'v': 15,\n            'f': \"15\",\n        },\n\"c, program, difference, language, ruby, linux, library, email, learn, window\",\n{\n            'v': 5810,\n            'f': \"5810\",\n        },\n{\n            'v': 0.0573,\n            'f': \"0.0573\",\n        }],\n [{\n            'v': 12,\n            'f': \"12\",\n        },\n\"form, jquery, event, click, button, control, select, wpf, window, input\",\n{\n            'v': 5802,\n            'f': \"5802\",\n        },\n{\n            'v': 0.0572,\n            'f': \"0.0572\",\n        }],\n [{\n            'v': 16,\n            'f': \"16\",\n        },\n\"number, convert, date, format, algorithm, character, c, integer, day, int\",\n{\n            'v': 5675,\n            'f': \"5675\",\n        },\n{\n            'v': 0.056,\n            'f': \"0.056\",\n        }],\n [{\n            'v': 3,\n            'f': \"3\",\n        },\n\"image, view, text, display, color, style, background, tab, pdf, template\",\n{\n            'v': 5579,\n            'f': \"5579\",\n        },\n{\n            'v': 0.055,\n            'f': \"0.055\",\n        }],\n [{\n            'v': 6,\n            'f': \"6\",\n        },\n\"java, test, parameter, xml, eclipse, unit, pass, variable, argument, jar\",\n{\n            'v': 4416,\n            'f': \"4416\",\n        },\n{\n            'v': 0.0436,\n            'f': \"0.0436\",\n        }],\n [{\n            'v': 2,\n            'f': \"2\",\n        },\n\"memory, size, large, performance, x, point, take, number, small, fast\",\n{\n            'v': 4197,\n            'f': \"4197\",\n        },\n{\n            'v': 0.0414,\n            'f': \"0.0414\",\n        }],\n [{\n            'v': 8,\n            'f': \"8\",\n        },\n\"git, folder, repository, delete, svn, copy, commit, quot, header, directory\",\n{\n            'v': 3719,\n            'f': \"3719\",\n        },\n{\n            'v': 0.0367,\n            'f': \"0.0367\",\n        }],\n [{\n            'v': 10,\n            'f': \"10\",\n        },\n\"python, print, module, library, json, package, parse, byte, encode, character\",\n{\n            'v': 3511,\n            'f': \"3511\",\n        },\n{\n            'v': 0.0346,\n            'f': \"0.0346\",\n        }]],\n        columns: [[\"number\", \"Topic #\"], [\"string\", \"Keywords\"], [\"number\", \"Document count\"], [\"number\", \"Document proportion\"]],\n        columnOptions: [{\"width\": \"1px\", \"className\": \"index_column\"}],\n        rowsPerPage: 25,\n        helpUrl: \"https://colab.research.google.com/notebooks/data_table.ipynb\",\n        suppressOutputScrolling: true,\n        minimumWidth: undefined,\n      });\n    ",
            "text/html": [
              "<div>\n",
              "<style scoped>\n",
              "    .dataframe tbody tr th:only-of-type {\n",
              "        vertical-align: middle;\n",
              "    }\n",
              "\n",
              "    .dataframe tbody tr th {\n",
              "        vertical-align: top;\n",
              "    }\n",
              "\n",
              "    .dataframe thead th {\n",
              "        text-align: right;\n",
              "    }\n",
              "</style>\n",
              "<table border=\"1\" class=\"dataframe\">\n",
              "  <thead>\n",
              "    <tr style=\"text-align: right;\">\n",
              "      <th></th>\n",
              "      <th>Keywords</th>\n",
              "      <th>Document count</th>\n",
              "      <th>Document proportion</th>\n",
              "    </tr>\n",
              "    <tr>\n",
              "      <th>Topic #</th>\n",
              "      <th></th>\n",
              "      <th></th>\n",
              "      <th></th>\n",
              "    </tr>\n",
              "  </thead>\n",
              "  <tbody>\n",
              "    <tr>\n",
              "      <th>7</th>\n",
              "      <td>class, property, c, interface, implement, defi...</td>\n",
              "      <td>10175</td>\n",
              "      <td>0.1004</td>\n",
              "    </tr>\n",
              "    <tr>\n",
              "      <th>11</th>\n",
              "      <td>server, net, service, web, asp, request, clien...</td>\n",
              "      <td>9074</td>\n",
              "      <td>0.0895</td>\n",
              "    </tr>\n",
              "    <tr>\n",
              "      <th>4</th>\n",
              "      <td>net, build, app, application, version, framewo...</td>\n",
              "      <td>7640</td>\n",
              "      <td>0.0754</td>\n",
              "    </tr>\n",
              "    <tr>\n",
              "      <th>5</th>\n",
              "      <td>table, database, sql, query, server, store, my...</td>\n",
              "      <td>7641</td>\n",
              "      <td>0.0754</td>\n",
              "    </tr>\n",
              "    <tr>\n",
              "      <th>1</th>\n",
              "      <td>page, php, html, javascript, browser, css, htt...</td>\n",
              "      <td>7533</td>\n",
              "      <td>0.0743</td>\n",
              "    </tr>\n",
              "    <tr>\n",
              "      <th>14</th>\n",
              "      <td>list, array, column, row, index, key, loop, el...</td>\n",
              "      <td>7112</td>\n",
              "      <td>0.0702</td>\n",
              "    </tr>\n",
              "    <tr>\n",
              "      <th>9</th>\n",
              "      <td>command, script, directory, path, output, wind...</td>\n",
              "      <td>6898</td>\n",
              "      <td>0.0681</td>\n",
              "    </tr>\n",
              "    <tr>\n",
              "      <th>13</th>\n",
              "      <td>application, thread, exception, visual, proces...</td>\n",
              "      <td>6584</td>\n",
              "      <td>0.0650</td>\n",
              "    </tr>\n",
              "    <tr>\n",
              "      <th>15</th>\n",
              "      <td>c, program, difference, language, ruby, linux,...</td>\n",
              "      <td>5810</td>\n",
              "      <td>0.0573</td>\n",
              "    </tr>\n",
              "    <tr>\n",
              "      <th>12</th>\n",
              "      <td>form, jquery, event, click, button, control, s...</td>\n",
              "      <td>5802</td>\n",
              "      <td>0.0572</td>\n",
              "    </tr>\n",
              "    <tr>\n",
              "      <th>16</th>\n",
              "      <td>number, convert, date, format, algorithm, char...</td>\n",
              "      <td>5675</td>\n",
              "      <td>0.0560</td>\n",
              "    </tr>\n",
              "    <tr>\n",
              "      <th>3</th>\n",
              "      <td>image, view, text, display, color, style, back...</td>\n",
              "      <td>5579</td>\n",
              "      <td>0.0550</td>\n",
              "    </tr>\n",
              "    <tr>\n",
              "      <th>6</th>\n",
              "      <td>java, test, parameter, xml, eclipse, unit, pas...</td>\n",
              "      <td>4416</td>\n",
              "      <td>0.0436</td>\n",
              "    </tr>\n",
              "    <tr>\n",
              "      <th>2</th>\n",
              "      <td>memory, size, large, performance, x, point, ta...</td>\n",
              "      <td>4197</td>\n",
              "      <td>0.0414</td>\n",
              "    </tr>\n",
              "    <tr>\n",
              "      <th>8</th>\n",
              "      <td>git, folder, repository, delete, svn, copy, co...</td>\n",
              "      <td>3719</td>\n",
              "      <td>0.0367</td>\n",
              "    </tr>\n",
              "    <tr>\n",
              "      <th>10</th>\n",
              "      <td>python, print, module, library, json, package,...</td>\n",
              "      <td>3511</td>\n",
              "      <td>0.0346</td>\n",
              "    </tr>\n",
              "  </tbody>\n",
              "</table>\n",
              "</div>"
            ],
            "text/plain": [
              "                                                  Keywords  ...  Document proportion\n",
              "Topic #                                                     ...                     \n",
              "7        class, property, c, interface, implement, defi...  ...               0.1004\n",
              "11       server, net, service, web, asp, request, clien...  ...               0.0895\n",
              "4        net, build, app, application, version, framewo...  ...               0.0754\n",
              "5        table, database, sql, query, server, store, my...  ...               0.0754\n",
              "1        page, php, html, javascript, browser, css, htt...  ...               0.0743\n",
              "14       list, array, column, row, index, key, loop, el...  ...               0.0702\n",
              "9        command, script, directory, path, output, wind...  ...               0.0681\n",
              "13       application, thread, exception, visual, proces...  ...               0.0650\n",
              "15       c, program, difference, language, ruby, linux,...  ...               0.0573\n",
              "12       form, jquery, event, click, button, control, s...  ...               0.0572\n",
              "16       number, convert, date, format, algorithm, char...  ...               0.0560\n",
              "3        image, view, text, display, color, style, back...  ...               0.0550\n",
              "6        java, test, parameter, xml, eclipse, unit, pas...  ...               0.0436\n",
              "2        memory, size, large, performance, x, point, ta...  ...               0.0414\n",
              "8        git, folder, repository, delete, svn, copy, co...  ...               0.0367\n",
              "10       python, print, module, library, json, package,...  ...               0.0346\n",
              "\n",
              "[16 rows x 3 columns]"
            ]
          },
          "metadata": {
            "tags": []
          },
          "execution_count": 19
        }
      ]
    },
    {
      "cell_type": "markdown",
      "metadata": {
        "id": "4KgxHEzhv4rr"
      },
      "source": [
        "I try on the second exemple of the notebook cleaned"
      ]
    },
    {
      "cell_type": "code",
      "metadata": {
        "colab": {
          "base_uri": "https://localhost:8080/",
          "height": 221
        },
        "id": "hK4E7oBtoH1y",
        "outputId": "74e86e4b-4b26-45a3-b546-df4b4a22b0b4"
      },
      "source": [
        "example = corpus.iloc[38000]\r\n",
        "\r\n",
        "predictions = optimal_model[example]\r\n",
        "predictions = sorted(predictions, key=lambda x: x[1], reverse=True)\r\n",
        "\r\n",
        "topic_num, topic_contrib = predictions[0]\r\n",
        "\r\n",
        "desc = optimal_model.show_topic(topic_num, topn=20)\r\n",
        "\r\n",
        "keywords = [word for word, prob in desc]\r\n",
        "\r\n",
        "tags = {lemma for lemma in texts_cleaned.iloc[38000] if lemma in keywords}\r\n",
        "\r\n",
        "display(HTML(df.loc[corpus.index[38000], 'Body']))\r\n",
        "print(\"-\"*30, '\\nTags proposés: ')\r\n",
        "print(tags)"
      ],
      "execution_count": 69,
      "outputs": [
        {
          "output_type": "display_data",
          "data": {
            "text/html": [
              "<p>My Excel file is not in tabular data. I am trying to read from an excel file.\n",
              "I have sections within my excel file that are tabular.</p>\n",
              "\n",
              "<p>I need to loop through rows 3 to 20 which are tabular and read the data.</p>\n",
              "\n",
              "<p>Here is party of my code:</p>\n",
              "\n",
              "<pre><code>     string fileName = \"C:\\\\Folder1\\\\Prev.xlsx\";\n",
              "     var workbook = new XLWorkbook(fileName);\n",
              "     var ws1 = workbook.Worksheet(1); \n",
              "</code></pre>\n",
              "\n",
              "<p>How do I loop through rows 3 to 20 and read columns 3,4, 6, 7, 8? \n",
              "Also if a row is empty, how do I determine that so I can skip over it without reading that each column has a value for a given row.</p>\n"
            ],
            "text/plain": [
              "<IPython.core.display.HTML object>"
            ]
          },
          "metadata": {
            "tags": []
          }
        },
        {
          "output_type": "stream",
          "text": [
            "------------------------------ \n",
            "Tags proposés: \n",
            "{'column', 'excel', 'loop', 'row'}\n"
          ],
          "name": "stdout"
        }
      ]
    },
    {
      "cell_type": "markdown",
      "metadata": {
        "id": "-v00STHoaLWN"
      },
      "source": [
        "In more detail, we will take here several examples to which we will suggest tags. To do this, we will search among the key words characteristic of the dominant topic of the said example those which appear there. These examples that we select are considered to be the most representative of each area."
      ]
    },
    {
      "cell_type": "code",
      "metadata": {
        "colab": {
          "base_uri": "https://localhost:8080/"
        },
        "id": "3elou4grYKwe",
        "outputId": "c47292a8-8fb0-4696-b943-b634534103c0"
      },
      "source": [
        "top_categories = (docs_dominants.sort_values(['Contribution'],ascending=False)\r\n",
        "                  .groupby(['Dominant Topic'], sort=False)\r\n",
        "                  .head(1)\r\n",
        "                  .sort_values(['Dominant Topic'])\r\n",
        "                  .reset_index().set_index(['Dominant Topic'])\r\n",
        "                 )\r\n",
        "\r\n",
        "examples = (top_categories\r\n",
        "            .join(corpus.apply(len).to_frame('Length'), 'Index')\r\n",
        "            .sort_values('Length', ascending=False).Index)\r\n",
        "\r\n",
        "def show_example(corpus, lemmas, data, examples, model, n_ex):\r\n",
        "    predictions = model[corpus[examples.iloc[n_ex]]]\r\n",
        "    predictions = sorted(predictions, key=lambda x: x[1], reverse=True)\r\n",
        "    \r\n",
        "    topic_num, topic_contrib = predictions[0]\r\n",
        "    desc = optimal_model.show_topic(topic_num, topn=20)\r\n",
        "    \r\n",
        "    keywords = [word for word, prob in desc]\r\n",
        "    tags = {lemma for lemma in lemmas[examples.iloc[n_ex]] if lemma in keywords}\r\n",
        "\r\n",
        "    display(HTML(data.loc[examples.iloc[n_ex], 'Body']))\r\n",
        "    print(\"-\"*30, '\\nTags proposés: ')\r\n",
        "    print(tags)\r\n",
        "\r\n",
        "\r\n",
        "show_example(corpus, texts_cleaned, df, examples, optimal_model, 1)"
      ],
      "execution_count": 54,
      "outputs": [
        {
          "output_type": "execute_result",
          "data": {
            "text/plain": [
              "18665171"
            ]
          },
          "metadata": {
            "tags": []
          },
          "execution_count": 54
        }
      ]
    }
  ]
}