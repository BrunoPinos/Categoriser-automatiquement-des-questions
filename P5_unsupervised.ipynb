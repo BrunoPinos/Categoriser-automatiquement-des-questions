{
  "nbformat": 4,
  "nbformat_minor": 0,
  "metadata": {
    "colab": {
      "name": "P5_unsupervised.ipynb",
      "provenance": [],
      "mount_file_id": "1SSROz2EowPXYzupg1pBGBuP3svs-he95",
      "authorship_tag": "ABX9TyNPQP/BXKGvFdVWIPJClr8+",
      "include_colab_link": true
    },
    "kernelspec": {
      "name": "python3",
      "display_name": "Python 3"
    }
  },
  "cells": [
    {
      "cell_type": "markdown",
      "metadata": {
        "id": "view-in-github",
        "colab_type": "text"
      },
      "source": [
        "<a href=\"https://colab.research.google.com/github/BrunoPinos/FormationIngenieurMachineLearning/blob/main/P5_unsupervised.ipynb\" target=\"_parent\"><img src=\"https://colab.research.google.com/assets/colab-badge.svg\" alt=\"Open In Colab\"/></a>"
      ]
    },
    {
      "cell_type": "code",
      "metadata": {
        "colab": {
          "base_uri": "https://localhost:8080/"
        },
        "id": "fpYQdfaDC-Zn",
        "outputId": "8bf4b45b-b8cd-465e-8e01-bcae3f3b8c9e"
      },
      "source": [
        "# data analysis and wrangling\r\n",
        "import pandas as pd\r\n",
        "from scipy import stats\r\n",
        "\r\n",
        "# visualization\r\n",
        "import matplotlib.pyplot as plt\r\n",
        "import seaborn as sn\r\n",
        "import numpy as np\r\n",
        "\r\n",
        "# text\r\n",
        "from gensim.models import LdaMulticore\r\n",
        "from gensim.models import Phrases, CoherenceModel\r\n",
        "from IPython.display import display, HTML\r\n",
        "\r\n",
        "# Save objects\r\n",
        "import joblib\r\n",
        "\r\n",
        "# Set working directory\r\n",
        "import time\r\n",
        "import os\r\n",
        "os.chdir('/content/drive/MyDrive/Colab Notebooks/P5')\r\n",
        "\r\n",
        "# Data table display for Pandas dataframes\r\n",
        "from google.colab import data_table\r\n",
        "%load_ext google.colab.data_table"
      ],
      "execution_count": null,
      "outputs": [
        {
          "output_type": "stream",
          "text": [
            "The google.colab.data_table extension is already loaded. To reload it, use:\n",
            "  %reload_ext google.colab.data_table\n"
          ],
          "name": "stdout"
        }
      ]
    },
    {
      "cell_type": "markdown",
      "metadata": {
        "id": "Rv2rw5qLED1Z"
      },
      "source": [
        "Import"
      ]
    },
    {
      "cell_type": "code",
      "metadata": {
        "id": "LUH3ZMqAENlH"
      },
      "source": [
        "corpus = joblib.load('corpus.sav')\r\n",
        "dictionary = joblib.load('dictionary.sav')\r\n",
        "df = joblib.load('df.sav')\r\n",
        "texts_cleaned = joblib.load('texts_cleaned.sav')"
      ],
      "execution_count": null,
      "outputs": []
    },
    {
      "cell_type": "markdown",
      "metadata": {
        "id": "2rKruIydEoxG"
      },
      "source": [
        "# Modeling phase\r\n",
        "In order to be able to categorize the questions of our corpus in an unsupervised way, we use Mallet's implementation of Latent Dirichlet Allocation (LDA). We train several models with a pre-indicated number of subjects around which to group documents, and look for the best according to the consistency value."
      ]
    },
    {
      "cell_type": "code",
      "metadata": {
        "colab": {
          "base_uri": "https://localhost:8080/"
        },
        "id": "pu0_QUoxJOYX",
        "outputId": "2c4c4eba-d592-479d-8fb9-bdf6b2bbb2d4"
      },
      "source": [
        "# Initialization\r\n",
        "start, limit, step = 8, 20, 2\r\n",
        "coherence_values = []\r\n",
        "model_list = []\r\n",
        "\r\n",
        "\r\n",
        "# Processing\r\n",
        "for num_topics in range(start, limit, step):\r\n",
        "    start = time.time()\r\n",
        "\r\n",
        "    model = LdaMulticore(corpus, id2word=dictionary, num_topics=num_topics)\r\n",
        "    model_list.append(model)\r\n",
        "    coherencevalue = CoherenceModel(model=model, texts=texts_cleaned,\r\n",
        "                                    dictionary=dictionary).get_coherence()\r\n",
        "    coherence_values.append(coherencevalue)\r\n",
        "\r\n",
        "    # display training information along the way\r\n",
        "    minutes, seconds = divmod(time.time()-start, 60)\r\n",
        "\r\n",
        "    str_perf = f\"Nombre de topics: {num_topics:2} ... Valeur de coherence: {coherencevalue:.3} ... \"\r\n",
        "    str_time = f\"Temps d'entrainement et d'évaluation: {round(minutes):2} minutes {round(seconds):2} secondes...\"\r\n",
        "    print(str_perf + str_time)"
      ],
      "execution_count": null,
      "outputs": [
        {
          "output_type": "stream",
          "text": [
            "Nombre de topics:  8 ... Valeur de coherence: 0.516 ... Temps d'entrainement et d'évaluation:  4 minutes  1 secondes...\n",
            "Nombre de topics: 10 ... Valeur de coherence: 0.531 ... Temps d'entrainement et d'évaluation:  4 minutes  3 secondes...\n",
            "Nombre de topics: 12 ... Valeur de coherence: 0.49 ... Temps d'entrainement et d'évaluation:  4 minutes  4 secondes...\n",
            "Nombre de topics: 14 ... Valeur de coherence: 0.511 ... Temps d'entrainement et d'évaluation:  4 minutes  9 secondes...\n",
            "Nombre de topics: 16 ... Valeur de coherence: 0.516 ... Temps d'entrainement et d'évaluation:  4 minutes 14 secondes...\n",
            "Nombre de topics: 18 ... Valeur de coherence: 0.51 ... Temps d'entrainement et d'évaluation:  4 minutes 20 secondes...\n"
          ],
          "name": "stdout"
        }
      ]
    },
    {
      "cell_type": "markdown",
      "metadata": {
        "id": "NK3clnyeOBzN"
      },
      "source": [
        "Let us represent graphically the evolution of coherence"
      ]
    },
    {
      "cell_type": "code",
      "metadata": {
        "colab": {
          "base_uri": "https://localhost:8080/",
          "height": 297
        },
        "id": "-pOIXyoCOFFL",
        "outputId": "594ef090-1e8b-4f3c-a4c0-3340ab55022b"
      },
      "source": [
        "n_topics = range(8, limit, step)\r\n",
        "plt.plot(n_topics, coherence_values, 'r-', linewidth='2')\r\n",
        "plt.plot(n_topics, coherence_values, 'ro', linewidth='5')\r\n",
        "plt.xlabel(\"Nombre de topics\")\r\n",
        "plt.ylabel(\"Score de cohérence\")\r\n",
        "plt.title(\"Évolution de la cohérence de la LDA en fonction du nombre de topics\");"
      ],
      "execution_count": null,
      "outputs": [
        {
          "output_type": "display_data",
          "data": {
            "image/png": "[encoded data removed]",
            "text/plain": [
              "<Figure size 432x288 with 1 Axes>"
            ]
          },
          "metadata": {
            "tags": [],
            "needs_background": "light"
          }
        }
      ]
    },
    {
      "cell_type": "markdown",
      "metadata": {
        "id": "izL3tRVRUgNA"
      },
      "source": [
        "# Results interpretation\r\n",
        "\r\n",
        "We choose to keep the 10 topic model as the final model. Indeed, according to our evolution curve, we notice that the coherence value reaches a plateau from this value, and only deviates very slightly for the number of following topics."
      ]
    },
    {
      "cell_type": "code",
      "metadata": {
        "colab": {
          "base_uri": "https://localhost:8080/"
        },
        "id": "VyGO8ErkUBzH",
        "outputId": "10ebc527-6e01-4288-b31a-17bfb1c0bbe5"
      },
      "source": [
        "optimal_model = model_list[1]\r\n",
        "\r\n",
        "joblib.dump(optimal_model, 'optimal_model.sav')"
      ],
      "execution_count": null,
      "outputs": [
        {
          "output_type": "execute_result",
          "data": {
            "text/plain": [
              "['optimal_model.sav']"
            ]
          },
          "metadata": {
            "tags": []
          },
          "execution_count": 22
        }
      ]
    },
    {
      "cell_type": "markdown",
      "metadata": {
        "id": "VHNMB4NGVFyn"
      },
      "source": [
        "For each topic that emerges, let's display the list of the most probable words."
      ]
    },
    {
      "cell_type": "code",
      "metadata": {
        "colab": {
          "base_uri": "https://localhost:8080/"
        },
        "id": "UvIF_xGdT5Zh",
        "outputId": "c551ec07-9fad-41e6-ea34-892f1931999a"
      },
      "source": [
        "for i in range(optimal_model.num_topics):\r\n",
        "    desc = optimal_model.show_topic(i, topn=10)\r\n",
        "    words = ', '.join([word for word, prob in desc])\r\n",
        "    print(f'Topic #{i+1:2}:\\n\\t', words)"
      ],
      "execution_count": null,
      "outputs": [
        {
          "output_type": "stream",
          "text": [
            "Topic # 1:\n",
            "\t variable, language, memory, difference, reference, interface, implement, define, parameter, bit\n",
            "Topic # 2:\n",
            "\t character, text, loop, element, word, key, algorithm, n, task, space\n",
            "Topic # 3:\n",
            "\t visual, directory, studio, library, script, source, folder, path, eclipse, git\n",
            "Topic # 4:\n",
            "\t table, net, sql, database, query, asp, php, field, column, row\n",
            "Topic # 5:\n",
            "\t image, view, iphone, text, color, css, screen, display, size, bar\n",
            "Topic # 6:\n",
            "\t event, click, form, button, control, select, wpf, element, component, jquery\n",
            "Topic # 7:\n",
            "\t web, service, google, database, api, store, site, ruby, password, email\n",
            "Topic # 8:\n",
            "\t windows, log, system, process, message, service, exception, linux, machine, connection\n",
            "Topic # 9:\n",
            "\t array, date, convert, format, column, sort, day, data, x, model\n",
            "Topic #10:\n",
            "\t javascript, browser, jquery, request, url, http, ie, header, content, tag\n"
          ],
          "name": "stdout"
        }
      ]
    },
    {
      "cell_type": "markdown",
      "metadata": {
        "id": "5kq1e5nQWoL_"
      },
      "source": [
        "For each document, let's find the topic that contributes the most to its distribution of words"
      ]
    },
    {
      "cell_type": "code",
      "metadata": {
        "colab": {
          "base_uri": "https://localhost:8080/",
          "height": 420
        },
        "id": "1GSuiK7JWbc3",
        "outputId": "1f1e567c-2e11-44bf-9da5-a8eb9e6a8d18"
      },
      "source": [
        "dominant_topics = []\r\n",
        "perc_contributions = []\r\n",
        "\r\n",
        "for predictions in optimal_model[corpus]:\r\n",
        "    predictions = sorted(predictions, key=lambda x: x[1], reverse=True)\r\n",
        "    topic_num, topic_contrib = predictions[0] # Get most contributing topic\r\n",
        "    dominant_topics.append(int(topic_num+1))\r\n",
        "    perc_contributions.append(round(topic_contrib, 4))\r\n",
        "    \r\n",
        "docs_dominants = pd.DataFrame({'Dominant Topic': dominant_topics,\r\n",
        "                               'Contribution': perc_contributions,\r\n",
        "                               'Index': texts_cleaned.index})\r\n",
        "docs_dominants.set_index(['Index'], inplace=True)\r\n",
        "docs_dominants"
      ],
      "execution_count": null,
      "outputs": [
        {
          "output_type": "execute_result",
          "data": {
            "text/html": [
              "<div>\n",
              "<style scoped>\n",
              "    .dataframe tbody tr th:only-of-type {\n",
              "        vertical-align: middle;\n",
              "    }\n",
              "\n",
              "    .dataframe tbody tr th {\n",
              "        vertical-align: top;\n",
              "    }\n",
              "\n",
              "    .dataframe thead th {\n",
              "        text-align: right;\n",
              "    }\n",
              "</style>\n",
              "<table border=\"1\" class=\"dataframe\">\n",
              "  <thead>\n",
              "    <tr style=\"text-align: right;\">\n",
              "      <th></th>\n",
              "      <th>Dominant Topic</th>\n",
              "      <th>Contribution</th>\n",
              "    </tr>\n",
              "    <tr>\n",
              "      <th>Index</th>\n",
              "      <th></th>\n",
              "      <th></th>\n",
              "    </tr>\n",
              "  </thead>\n",
              "  <tbody>\n",
              "    <tr>\n",
              "      <th>10000005</th>\n",
              "      <td>9</td>\n",
              "      <td>0.6167</td>\n",
              "    </tr>\n",
              "    <tr>\n",
              "      <th>10000020</th>\n",
              "      <td>7</td>\n",
              "      <td>0.3046</td>\n",
              "    </tr>\n",
              "    <tr>\n",
              "      <th>10000074</th>\n",
              "      <td>1</td>\n",
              "      <td>0.3840</td>\n",
              "    </tr>\n",
              "    <tr>\n",
              "      <th>10000083</th>\n",
              "      <td>6</td>\n",
              "      <td>0.6248</td>\n",
              "    </tr>\n",
              "    <tr>\n",
              "      <th>10000226</th>\n",
              "      <td>2</td>\n",
              "      <td>0.8981</td>\n",
              "    </tr>\n",
              "    <tr>\n",
              "      <th>...</th>\n",
              "      <td>...</td>\n",
              "      <td>...</td>\n",
              "    </tr>\n",
              "    <tr>\n",
              "      <th>1213074</th>\n",
              "      <td>8</td>\n",
              "      <td>0.4550</td>\n",
              "    </tr>\n",
              "    <tr>\n",
              "      <th>1213127</th>\n",
              "      <td>8</td>\n",
              "      <td>0.6986</td>\n",
              "    </tr>\n",
              "    <tr>\n",
              "      <th>1213137</th>\n",
              "      <td>5</td>\n",
              "      <td>0.5952</td>\n",
              "    </tr>\n",
              "    <tr>\n",
              "      <th>1213144</th>\n",
              "      <td>4</td>\n",
              "      <td>0.5587</td>\n",
              "    </tr>\n",
              "    <tr>\n",
              "      <th>1213217</th>\n",
              "      <td>1</td>\n",
              "      <td>0.3258</td>\n",
              "    </tr>\n",
              "  </tbody>\n",
              "</table>\n",
              "<p>276693 rows × 2 columns</p>\n",
              "</div>"
            ],
            "text/plain": [
              "          Dominant Topic  Contribution\n",
              "Index                                 \n",
              "10000005               9        0.6167\n",
              "10000020               7        0.3046\n",
              "10000074               1        0.3840\n",
              "10000083               6        0.6248\n",
              "10000226               2        0.8981\n",
              "...                  ...           ...\n",
              "1213074                8        0.4550\n",
              "1213127                8        0.6986\n",
              "1213137                5        0.5952\n",
              "1213144                4        0.5587\n",
              "1213217                1        0.3258\n",
              "\n",
              "[276693 rows x 2 columns]"
            ]
          },
          "metadata": {
            "tags": []
          },
          "execution_count": 30
        }
      ]
    },
    {
      "cell_type": "markdown",
      "metadata": {
        "id": "m85seo2nWvuf"
      },
      "source": [
        "With this new frame, let's try to segment our dataset by calculating:\r\n",
        "\r\n",
        "1.   the number of documents per contributor top topic\r\n",
        "2.   the proportion of documents by contributor top topic"
      ]
    },
    {
      "cell_type": "code",
      "metadata": {
        "id": "aqMwLR9OXUbf"
      },
      "source": [
        "# Number of documents for each topic\r\n",
        "docs_per_topic = (docs_dominants['Dominant Topic']\r\n",
        "                  .value_counts(sort=False)\r\n",
        "                  .to_frame()\r\n",
        "                  .rename(columns={'Dominant Topic': 'Document count'})\r\n",
        "                 )\r\n",
        "\r\n",
        "# Proportion of documents for each topic\r\n",
        "topic_props = (docs_per_topic.divide(docs_per_topic.sum())\r\n",
        "               .round(4)\r\n",
        "               .rename(columns={'Document count': 'Document proportion'})\r\n",
        "              )"
      ],
      "execution_count": null,
      "outputs": []
    },
    {
      "cell_type": "markdown",
      "metadata": {
        "id": "wrTVUWwYaEO_"
      },
      "source": [
        "Let's attach this information with the descriptor keywords of the topics"
      ]
    },
    {
      "cell_type": "code",
      "metadata": {
        "colab": {
          "base_uri": "https://localhost:8080/",
          "height": 286
        },
        "id": "fvqHG0aAXXB2",
        "outputId": "f526a0da-702c-4a45-e684-11536e1dd502"
      },
      "source": [
        "# Most probable keywords per topic\r\n",
        "keywords = []\r\n",
        "for i in range(optimal_model.num_topics):\r\n",
        "    desc = optimal_model.show_topic(i)\r\n",
        "    keywords.append(', '.join([word for word, prob in desc]))\r\n",
        "\r\n",
        "num_topics = [i+1 for i in range(optimal_model.num_topics)]\r\n",
        "df_topics_keywords = pd.DataFrame({'Topic #': num_topics, 'Keywords': keywords})\r\n",
        "df_topics_keywords.set_index(['Topic #'], inplace=True)\r\n",
        "\r\n",
        "# Final Frame\r\n",
        "df_dominant_topics = df_topics_keywords.join([docs_per_topic, topic_props])\r\n",
        "df_dominant_topics.sort_values(['Document proportion'], ascending=False, inplace=True)\r\n",
        "df_dominant_topics"
      ],
      "execution_count": null,
      "outputs": [
        {
          "output_type": "execute_result",
          "data": {
            "application/vnd.google.colaboratory.module+javascript": "\n      import \"https://ssl.gstatic.com/colaboratory/data_table/a6224c040fa35dcf/data_table.js\";\n\n      window.createDataTable({\n        data: [[{\n            'v': 1,\n            'f': \"1\",\n        },\n\"variable, language, memory, difference, reference, interface, implement, define, parameter, bit\",\n{\n            'v': 50431,\n            'f': \"50431\",\n        },\n{\n            'v': 0.1823,\n            'f': \"0.1823\",\n        }],\n [{\n            'v': 8,\n            'f': \"8\",\n        },\n\"windows, log, system, process, message, service, exception, linux, machine, connection\",\n{\n            'v': 34484,\n            'f': \"34484\",\n        },\n{\n            'v': 0.1246,\n            'f': \"0.1246\",\n        }],\n [{\n            'v': 3,\n            'f': \"3\",\n        },\n\"visual, directory, studio, library, script, source, folder, path, eclipse, git\",\n{\n            'v': 31562,\n            'f': \"31562\",\n        },\n{\n            'v': 0.1141,\n            'f': \"0.1141\",\n        }],\n [{\n            'v': 5,\n            'f': \"5\",\n        },\n\"image, view, iphone, text, color, css, screen, display, size, bar\",\n{\n            'v': 26115,\n            'f': \"26115\",\n        },\n{\n            'v': 0.0944,\n            'f': \"0.0944\",\n        }],\n [{\n            'v': 6,\n            'f': \"6\",\n        },\n\"event, click, form, button, control, select, wpf, element, component, jquery\",\n{\n            'v': 25423,\n            'f': \"25423\",\n        },\n{\n            'v': 0.0919,\n            'f': \"0.0919\",\n        }],\n [{\n            'v': 4,\n            'f': \"4\",\n        },\n\"table, net, sql, database, query, asp, php, field, column, row\",\n{\n            'v': 23442,\n            'f': \"23442\",\n        },\n{\n            'v': 0.0847,\n            'f': \"0.0847\",\n        }],\n [{\n            'v': 2,\n            'f': \"2\",\n        },\n\"character, text, loop, element, word, key, algorithm, n, task, space\",\n{\n            'v': 22998,\n            'f': \"22998\",\n        },\n{\n            'v': 0.0831,\n            'f': \"0.0831\",\n        }],\n [{\n            'v': 7,\n            'f': \"7\",\n        },\n\"web, service, google, database, api, store, site, ruby, password, email\",\n{\n            'v': 21897,\n            'f': \"21897\",\n        },\n{\n            'v': 0.0791,\n            'f': \"0.0791\",\n        }],\n [{\n            'v': 9,\n            'f': \"9\",\n        },\n\"array, date, convert, format, column, sort, day, data, x, model\",\n{\n            'v': 21627,\n            'f': \"21627\",\n        },\n{\n            'v': 0.0782,\n            'f': \"0.0782\",\n        }],\n [{\n            'v': 10,\n            'f': \"10\",\n        },\n\"javascript, browser, jquery, request, url, http, ie, header, content, tag\",\n{\n            'v': 18714,\n            'f': \"18714\",\n        },\n{\n            'v': 0.0676,\n            'f': \"0.0676\",\n        }]],\n        columns: [[\"number\", \"Topic #\"], [\"string\", \"Keywords\"], [\"number\", \"Document count\"], [\"number\", \"Document proportion\"]],\n        columnOptions: [{\"width\": \"1px\", \"className\": \"index_column\"}],\n        rowsPerPage: 25,\n        helpUrl: \"https://colab.research.google.com/notebooks/data_table.ipynb\",\n        suppressOutputScrolling: true,\n        minimumWidth: undefined,\n      });\n    ",
            "text/html": [
              "<div>\n",
              "<style scoped>\n",
              "    .dataframe tbody tr th:only-of-type {\n",
              "        vertical-align: middle;\n",
              "    }\n",
              "\n",
              "    .dataframe tbody tr th {\n",
              "        vertical-align: top;\n",
              "    }\n",
              "\n",
              "    .dataframe thead th {\n",
              "        text-align: right;\n",
              "    }\n",
              "</style>\n",
              "<table border=\"1\" class=\"dataframe\">\n",
              "  <thead>\n",
              "    <tr style=\"text-align: right;\">\n",
              "      <th></th>\n",
              "      <th>Keywords</th>\n",
              "      <th>Document count</th>\n",
              "      <th>Document proportion</th>\n",
              "    </tr>\n",
              "    <tr>\n",
              "      <th>Topic #</th>\n",
              "      <th></th>\n",
              "      <th></th>\n",
              "      <th></th>\n",
              "    </tr>\n",
              "  </thead>\n",
              "  <tbody>\n",
              "    <tr>\n",
              "      <th>1</th>\n",
              "      <td>variable, language, memory, difference, refere...</td>\n",
              "      <td>50431</td>\n",
              "      <td>0.1823</td>\n",
              "    </tr>\n",
              "    <tr>\n",
              "      <th>8</th>\n",
              "      <td>windows, log, system, process, message, servic...</td>\n",
              "      <td>34484</td>\n",
              "      <td>0.1246</td>\n",
              "    </tr>\n",
              "    <tr>\n",
              "      <th>3</th>\n",
              "      <td>visual, directory, studio, library, script, so...</td>\n",
              "      <td>31562</td>\n",
              "      <td>0.1141</td>\n",
              "    </tr>\n",
              "    <tr>\n",
              "      <th>5</th>\n",
              "      <td>image, view, iphone, text, color, css, screen,...</td>\n",
              "      <td>26115</td>\n",
              "      <td>0.0944</td>\n",
              "    </tr>\n",
              "    <tr>\n",
              "      <th>6</th>\n",
              "      <td>event, click, form, button, control, select, w...</td>\n",
              "      <td>25423</td>\n",
              "      <td>0.0919</td>\n",
              "    </tr>\n",
              "    <tr>\n",
              "      <th>4</th>\n",
              "      <td>table, net, sql, database, query, asp, php, fi...</td>\n",
              "      <td>23442</td>\n",
              "      <td>0.0847</td>\n",
              "    </tr>\n",
              "    <tr>\n",
              "      <th>2</th>\n",
              "      <td>character, text, loop, element, word, key, alg...</td>\n",
              "      <td>22998</td>\n",
              "      <td>0.0831</td>\n",
              "    </tr>\n",
              "    <tr>\n",
              "      <th>7</th>\n",
              "      <td>web, service, google, database, api, store, si...</td>\n",
              "      <td>21897</td>\n",
              "      <td>0.0791</td>\n",
              "    </tr>\n",
              "    <tr>\n",
              "      <th>9</th>\n",
              "      <td>array, date, convert, format, column, sort, da...</td>\n",
              "      <td>21627</td>\n",
              "      <td>0.0782</td>\n",
              "    </tr>\n",
              "    <tr>\n",
              "      <th>10</th>\n",
              "      <td>javascript, browser, jquery, request, url, htt...</td>\n",
              "      <td>18714</td>\n",
              "      <td>0.0676</td>\n",
              "    </tr>\n",
              "  </tbody>\n",
              "</table>\n",
              "</div>"
            ],
            "text/plain": [
              "                                                  Keywords  ...  Document proportion\n",
              "Topic #                                                     ...                     \n",
              "1        variable, language, memory, difference, refere...  ...               0.1823\n",
              "8        windows, log, system, process, message, servic...  ...               0.1246\n",
              "3        visual, directory, studio, library, script, so...  ...               0.1141\n",
              "5        image, view, iphone, text, color, css, screen,...  ...               0.0944\n",
              "6        event, click, form, button, control, select, w...  ...               0.0919\n",
              "4        table, net, sql, database, query, asp, php, fi...  ...               0.0847\n",
              "2        character, text, loop, element, word, key, alg...  ...               0.0831\n",
              "7        web, service, google, database, api, store, si...  ...               0.0791\n",
              "9        array, date, convert, format, column, sort, da...  ...               0.0782\n",
              "10       javascript, browser, jquery, request, url, htt...  ...               0.0676\n",
              "\n",
              "[10 rows x 3 columns]"
            ]
          },
          "metadata": {
            "tags": []
          },
          "execution_count": 32
        }
      ]
    },
    {
      "cell_type": "markdown",
      "metadata": {
        "id": "-v00STHoaLWN"
      },
      "source": [
        "In more detail, we will take here several examples to which we will suggest tags. To do this, we will search among the key words characteristic of the dominant topic of the said example those which appear there. These examples that we select are considered to be the most representative of each area."
      ]
    },
    {
      "cell_type": "code",
      "metadata": {
        "colab": {
          "base_uri": "https://localhost:8080/",
          "height": 803
        },
        "id": "3elou4grYKwe",
        "outputId": "e51c50fe-366f-437f-cd24-6db7acba7ce6"
      },
      "source": [
        "top_categories = (docs_dominants.sort_values(['Contribution'],ascending=False)\r\n",
        "                  .groupby(['Dominant Topic'], sort=False)\r\n",
        "                  .head(1)\r\n",
        "                  .sort_values(['Dominant Topic'])\r\n",
        "                  .reset_index().set_index(['Dominant Topic'])\r\n",
        "                 )\r\n",
        "\r\n",
        "examples = (top_categories\r\n",
        "            .join(corpus.apply(len).to_frame('Length'), 'Index')\r\n",
        "            .sort_values('Length', ascending=False).Index)\r\n",
        "\r\n",
        "def show_example(corpus, lemmas, data, examples, model, n_ex):\r\n",
        "    predictions = model[corpus[examples.iloc[n_ex]]]\r\n",
        "    predictions = sorted(predictions, key=lambda x: x[1], reverse=True)\r\n",
        "    \r\n",
        "    topic_num, topic_contrib = predictions[0]\r\n",
        "    desc = optimal_model.show_topic(topic_num, topn=20)\r\n",
        "    \r\n",
        "    keywords = [word for word, prob in desc]\r\n",
        "    tags = {lemma for lemma in lemmas[examples.iloc[n_ex]] if lemma in keywords}\r\n",
        "\r\n",
        "    display(HTML(data.loc[examples.iloc[n_ex], 'Body']))\r\n",
        "    print(\"-\"*30, '\\nTags proposés: ')\r\n",
        "    print(tags)\r\n",
        "\r\n",
        "\r\n",
        "show_example(corpus, texts_cleaned, df, examples, optimal_model, 4)"
      ],
      "execution_count": null,
      "outputs": [
        {
          "output_type": "display_data",
          "data": {
            "text/html": [
              "<p>I am attempting to provide a response to the HTTP OPTIONS method with an Access-Control-Allow-Origin header copying the contents of the Origin header in the request.</p>\n",
              "\n",
              "<p>This is apparently not working, for reasons I can't figure out.</p>\n",
              "\n",
              "<p><strong>tl;dr:</strong>\n",
              "response from OPTIONS says:</p>\n",
              "\n",
              "<pre><code>Access-Control-Allow-Origin: http://10.0.0.105:9294\n",
              "</code></pre>\n",
              "\n",
              "<p>subsequent GET has:</p>\n",
              "\n",
              "<pre><code>Origin:http://10.0.0.105:9294\n",
              "</code></pre>\n",
              "\n",
              "<p>Chrome says:</p>\n",
              "\n",
              "<pre><code>Origin http://10.0.0.105:9294 is not allowed by Access-Control-Allow-Origin\n",
              "</code></pre>\n",
              "\n",
              "<p><em>WTF not?</em></p>\n",
              "\n",
              "<p>More detail...</p>\n",
              "\n",
              "<p>By looking in Chrome's developer tools window, the request headers are:</p>\n",
              "\n",
              "<pre><code>OPTIONS /user/kris HTTP/1.1\n",
              "Host: 10.0.0.104:8080\n",
              "Connection: keep-alive\n",
              "Access-Control-Request-Method: GET\n",
              "Origin: http://10.0.0.105:9294\n",
              "User-Agent: Mozilla/5.0 (X11; Linux i686) AppleWebKit/537.1 (KHTML, like Gecko) Chrome/21.0.1180.75 Safari/537.1\n",
              "Access-Control-Request-Headers: origin, x-requested-with, content-type, accept\n",
              "Accept: */*\n",
              "Referer: http://10.0.0.105:9294/\n",
              "Accept-Encoding: gzip,deflate,sdch\n",
              "Accept-Language: en-GB,en-US;q=0.8,en;q=0.6\n",
              "Accept-Charset: ISO-8859-1,utf-8;q=0.7,*;q=0.3\n",
              "</code></pre>\n",
              "\n",
              "<p>The response headers are:</p>\n",
              "\n",
              "<pre><code>HTTP/1.0 200 OK\n",
              "Date: Mon, 13 Aug 2012 11:23:45 GMT\n",
              "Server: WSGIServer/0.1 Python/2.7.3\n",
              "Content-Length: 0\n",
              "Access-Control-Allow-Methods: GET, PUT, POST, DELETE, HEAD, OPTIONS\n",
              "Access-Control-Max-Age: 10\n",
              "Access-Control-Allow-Origin: http://10.0.0.105:9294\n",
              "Access-Control-Allow-Headers: X-Requested-With, Authorization, X-Huzu-User, Content-Type, Accept\n",
              "Content-Type: text/html; charset=UTF-8\n",
              "</code></pre>\n",
              "\n",
              "<p>After jQuery sends its OPTIONS request and gets the above response, 2 odd things happen.\n",
              "The OPTIONS response (which is a 200) shows up in the developer console as an error:</p>\n",
              "\n",
              "<pre><code>OPTIONS http://10.0.0.104:8080/user/kris 200 (OK)\n",
              "</code></pre>\n",
              "\n",
              "<p>After which a GET request is rejected.  Error in the console:</p>\n",
              "\n",
              "<pre><code>XMLHttpRequest cannot load http://10.0.0.104:8080/user/kris. Origin http://10.0.0.105:9294 is not allowed by Access-Control-Allow-Origin.\n",
              "</code></pre>\n",
              "\n",
              "<p>I can't see why not. What am I doing wrong?</p>\n"
            ],
            "text/plain": [
              "<IPython.core.display.HTML object>"
            ]
          },
          "metadata": {
            "tags": []
          }
        },
        {
          "output_type": "stream",
          "text": [
            "------------------------------ \n",
            "Tags proposés: \n",
            "{'content', 'response', 'header', 'http', 'request', 'jquery'}\n"
          ],
          "name": "stdout"
        }
      ]
    }
  ]
}