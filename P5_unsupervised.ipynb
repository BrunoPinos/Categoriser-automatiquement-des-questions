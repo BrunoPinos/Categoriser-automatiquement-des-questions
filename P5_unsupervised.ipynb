{
  "nbformat": 4,
  "nbformat_minor": 0,
  "metadata": {
    "colab": {
      "name": "P5_unsupervised.ipynb",
      "provenance": [],
      "collapsed_sections": [],
      "mount_file_id": "1SSROz2EowPXYzupg1pBGBuP3svs-he95",
      "authorship_tag": "ABX9TyMKOYZn/0B0vx7nguvUhtk8",
      "include_colab_link": true
    },
    "kernelspec": {
      "name": "python3",
      "display_name": "Python 3"
    }
  },
  "cells": [
    {
      "cell_type": "markdown",
      "metadata": {
        "id": "view-in-github",
        "colab_type": "text"
      },
      "source": [
        "<a href=\"https://colab.research.google.com/github/BrunoPinos/Categoriser-automatiquement-des-questions/blob/add_classifier/P5_unsupervised.ipynb\" target=\"_parent\"><img src=\"https://colab.research.google.com/assets/colab-badge.svg\" alt=\"Open In Colab\"/></a>"
      ]
    },
    {
      "cell_type": "code",
      "metadata": {
        "colab": {
          "base_uri": "https://localhost:8080/"
        },
        "id": "fpYQdfaDC-Zn",
        "outputId": "a13bce4c-bf2e-4a61-e939-68ad13e2835f"
      },
      "source": [
        "# data analysis and wrangling\r\n",
        "import pandas as pd\r\n",
        "from scipy import stats\r\n",
        "\r\n",
        "# visualization\r\n",
        "import matplotlib.pyplot as plt\r\n",
        "import seaborn as sn\r\n",
        "import numpy as np\r\n",
        "\r\n",
        "# text\r\n",
        "from gensim.models import LdaMulticore\r\n",
        "from gensim.models import Phrases, CoherenceModel\r\n",
        "from IPython.display import display, HTML\r\n",
        "\r\n",
        "# Save objects\r\n",
        "import joblib\r\n",
        "\r\n",
        "# Set working directory\r\n",
        "import time\r\n",
        "import os\r\n",
        "os.chdir('/content/drive/MyDrive/Colab Notebooks/P5')\r\n",
        "\r\n",
        "# Data table display for Pandas dataframes\r\n",
        "from google.colab import data_table\r\n",
        "%load_ext google.colab.data_table"
      ],
      "execution_count": null,
      "outputs": [
        {
          "output_type": "stream",
          "text": [
            "The google.colab.data_table extension is already loaded. To reload it, use:\n",
            "  %reload_ext google.colab.data_table\n"
          ],
          "name": "stdout"
        }
      ]
    },
    {
      "cell_type": "markdown",
      "metadata": {
        "id": "Rv2rw5qLED1Z"
      },
      "source": [
        "Import"
      ]
    },
    {
      "cell_type": "code",
      "metadata": {
        "id": "LUH3ZMqAENlH"
      },
      "source": [
        "corpus = joblib.load('corpus.sav')\r\n",
        "dictionary = joblib.load('dictionary.sav')\r\n",
        "df = joblib.load('df.sav')\r\n",
        "texts_cleaned = joblib.load('texts_cleaned.sav')"
      ],
      "execution_count": null,
      "outputs": []
    },
    {
      "cell_type": "markdown",
      "metadata": {
        "id": "2rKruIydEoxG"
      },
      "source": [
        "# Modeling phase\r\n",
        "In order to be able to categorize the questions of our corpus in an unsupervised way, we use Mallet's implementation of Latent Dirichlet Allocation (LDA). We train several models with a pre-indicated number of subjects around which to group documents, and look for the best according to the consistency value."
      ]
    },
    {
      "cell_type": "code",
      "metadata": {
        "colab": {
          "base_uri": "https://localhost:8080/"
        },
        "id": "pu0_QUoxJOYX",
        "outputId": "323a8559-40f7-44e0-c687-fa96bf1bb5ca"
      },
      "source": [
        "# Initialization\r\n",
        "start, limit, step = 8, 20, 2\r\n",
        "coherence_values = []\r\n",
        "model_list = []\r\n",
        "\r\n",
        "\r\n",
        "# Processing\r\n",
        "for num_topics in range(start, limit, step):\r\n",
        "    start = time.time()\r\n",
        "\r\n",
        "    model = LdaMulticore(corpus, id2word=dictionary, num_topics=num_topics)\r\n",
        "    model_list.append(model)\r\n",
        "    coherencevalue = CoherenceModel(model=model, texts=texts_cleaned,\r\n",
        "                                    dictionary=dictionary).get_coherence()\r\n",
        "    coherence_values.append(coherencevalue)\r\n",
        "\r\n",
        "    # display training information along the way\r\n",
        "    minutes, seconds = divmod(time.time()-start, 60)\r\n",
        "\r\n",
        "    str_perf = f\"Nombre de topics: {num_topics:2} ... Valeur de coherence: {coherencevalue:.3} ... \"\r\n",
        "    str_time = f\"Temps d'entrainement et d'évaluation: {round(minutes):2} minutes {round(seconds):2} secondes...\"\r\n",
        "    print(str_perf + str_time)"
      ],
      "execution_count": null,
      "outputs": [
        {
          "output_type": "stream",
          "text": [
            "Nombre de topics:  8 ... Valeur de coherence: 0.507 ... Temps d'entrainement et d'évaluation:  4 minutes 10 secondes...\n",
            "Nombre de topics: 10 ... Valeur de coherence: 0.496 ... Temps d'entrainement et d'évaluation:  4 minutes 14 secondes...\n",
            "Nombre de topics: 12 ... Valeur de coherence: 0.521 ... Temps d'entrainement et d'évaluation:  4 minutes 17 secondes...\n",
            "Nombre de topics: 14 ... Valeur de coherence: 0.508 ... Temps d'entrainement et d'évaluation:  4 minutes 19 secondes...\n",
            "Nombre de topics: 16 ... Valeur de coherence: 0.516 ... Temps d'entrainement et d'évaluation:  4 minutes 19 secondes...\n",
            "Nombre de topics: 18 ... Valeur de coherence: 0.509 ... Temps d'entrainement et d'évaluation:  4 minutes 23 secondes...\n"
          ],
          "name": "stdout"
        }
      ]
    },
    {
      "cell_type": "markdown",
      "metadata": {
        "id": "NK3clnyeOBzN"
      },
      "source": [
        "Let us represent graphically the evolution of coherence"
      ]
    },
    {
      "cell_type": "code",
      "metadata": {
        "colab": {
          "base_uri": "https://localhost:8080/",
          "height": 297
        },
        "id": "-pOIXyoCOFFL",
        "outputId": "f9add8bd-a0f1-4935-baa8-263d7d64bf3a"
      },
      "source": [
        "n_topics = range(8, limit, step)\r\n",
        "plt.plot(n_topics, coherence_values, 'r-', linewidth='2')\r\n",
        "plt.plot(n_topics, coherence_values, 'ro', linewidth='5')\r\n",
        "plt.xlabel(\"Nombre de topics\")\r\n",
        "plt.ylabel(\"Score de cohérence\")\r\n",
        "plt.title(\"Évolution de la cohérence de la LDA en fonction du nombre de topics\");"
      ],
      "execution_count": null,
      "outputs": [
        {
          "output_type": "display_data",
          "data": {
            "image/png": "[encoded data removed]",
            "text/plain": [
              "<Figure size 432x288 with 1 Axes>"
            ]
          },
          "metadata": {
            "tags": [],
            "needs_background": "light"
          }
        }
      ]
    },
    {
      "cell_type": "markdown",
      "metadata": {
        "id": "izL3tRVRUgNA"
      },
      "source": [
        "# Results interpretation\r\n",
        "\r\n",
        "We choose to keep the 10 topic model as the final model. Indeed, according to our evolution curve, we notice that the coherence value reaches a plateau from this value, and only deviates very slightly for the number of following topics."
      ]
    },
    {
      "cell_type": "code",
      "metadata": {
        "colab": {
          "base_uri": "https://localhost:8080/"
        },
        "id": "VyGO8ErkUBzH",
        "outputId": "4b7c5287-3d5f-498f-987b-94ee17d693f2"
      },
      "source": [
        "optimal_model = model_list[2]\r\n",
        "\r\n",
        "joblib.dump(optimal_model, 'optimal_model.sav')"
      ],
      "execution_count": null,
      "outputs": [
        {
          "output_type": "execute_result",
          "data": {
            "text/plain": [
              "['optimal_model.sav']"
            ]
          },
          "metadata": {
            "tags": []
          },
          "execution_count": 49
        }
      ]
    },
    {
      "cell_type": "markdown",
      "metadata": {
        "id": "VHNMB4NGVFyn"
      },
      "source": [
        "For each topic that emerges, let's display the list of the most probable words."
      ]
    },
    {
      "cell_type": "code",
      "metadata": {
        "colab": {
          "base_uri": "https://localhost:8080/"
        },
        "id": "UvIF_xGdT5Zh",
        "outputId": "34156b63-13dd-4fbd-f2b0-718f15ddd3d6"
      },
      "source": [
        "for i in range(optimal_model.num_topics):\r\n",
        "    desc = optimal_model.show_topic(i, topn=10)\r\n",
        "    words = ', '.join([word for word, prob in desc])\r\n",
        "    print(f'Topic #{i+1:2}:\\n\\t', words)"
      ],
      "execution_count": null,
      "outputs": [
        {
          "output_type": "stream",
          "text": [
            "Topic # 1:\n",
            "\t table, sql, database, query, column, array, row, character, convert, store\n",
            "Topic # 2:\n",
            "\t thread, service, unit, task, process, instance, django, lock, resource, spring\n",
            "Topic # 3:\n",
            "\t visual, exception, studio, system, log, debug, window, assembly, wpf, net\n",
            "Topic # 4:\n",
            "\t image, size, memory, css, large, space, color, take, game, background\n",
            "Topic # 5:\n",
            "\t python, command, script, window, directory, linux, windows, path, machine, folder\n",
            "Topic # 6:\n",
            "\t java, xml, eclipse, git, repository, module, plugin, svn, branch, commit\n",
            "Topic # 7:\n",
            "\t net, web, php, asp, http, com, site, url, mvc, api\n",
            "Topic # 8:\n",
            "\t iphone, android, date, google, device, email, xcode, datetime, library, apple\n",
            "Topic # 9:\n",
            "\t variable, language, java, difference, reference, parameter, compile, understand, compiler, define\n",
            "Topic #10:\n",
            "\t text, view, jquery, html, button, click, element, event, select, display\n",
            "Topic #11:\n",
            "\t request, client, send, javascript, browser, connection, message, header, json, response\n",
            "Topic #12:\n",
            "\t property, key, field, model, attribute, form, collection, entity, map, rail\n"
          ],
          "name": "stdout"
        }
      ]
    },
    {
      "cell_type": "markdown",
      "metadata": {
        "id": "5kq1e5nQWoL_"
      },
      "source": [
        "For each document, let's find the topic that contributes the most to its distribution of words"
      ]
    },
    {
      "cell_type": "code",
      "metadata": {
        "colab": {
          "base_uri": "https://localhost:8080/",
          "height": 420
        },
        "id": "1GSuiK7JWbc3",
        "outputId": "770c1ac0-6216-4e98-e8d2-6926f8bc9023"
      },
      "source": [
        "dominant_topics = []\r\n",
        "perc_contributions = []\r\n",
        "\r\n",
        "for predictions in optimal_model[corpus]:\r\n",
        "    predictions = sorted(predictions, key=lambda x: x[1], reverse=True)\r\n",
        "    topic_num, topic_contrib = predictions[0] # Get most contributing topic\r\n",
        "    dominant_topics.append(int(topic_num+1))\r\n",
        "    perc_contributions.append(round(topic_contrib, 4))\r\n",
        "    \r\n",
        "docs_dominants = pd.DataFrame({'Dominant Topic': dominant_topics,\r\n",
        "                               'Contribution': perc_contributions,\r\n",
        "                               'Index': texts_cleaned.index})\r\n",
        "docs_dominants.set_index(['Index'], inplace=True)\r\n",
        "docs_dominants"
      ],
      "execution_count": null,
      "outputs": [
        {
          "output_type": "execute_result",
          "data": {
            "text/html": [
              "<div>\n",
              "<style scoped>\n",
              "    .dataframe tbody tr th:only-of-type {\n",
              "        vertical-align: middle;\n",
              "    }\n",
              "\n",
              "    .dataframe tbody tr th {\n",
              "        vertical-align: top;\n",
              "    }\n",
              "\n",
              "    .dataframe thead th {\n",
              "        text-align: right;\n",
              "    }\n",
              "</style>\n",
              "<table border=\"1\" class=\"dataframe\">\n",
              "  <thead>\n",
              "    <tr style=\"text-align: right;\">\n",
              "      <th></th>\n",
              "      <th>Dominant Topic</th>\n",
              "      <th>Contribution</th>\n",
              "    </tr>\n",
              "    <tr>\n",
              "      <th>Index</th>\n",
              "      <th></th>\n",
              "      <th></th>\n",
              "    </tr>\n",
              "  </thead>\n",
              "  <tbody>\n",
              "    <tr>\n",
              "      <th>10000005</th>\n",
              "      <td>1</td>\n",
              "      <td>0.8522</td>\n",
              "    </tr>\n",
              "    <tr>\n",
              "      <th>10000020</th>\n",
              "      <td>7</td>\n",
              "      <td>0.5548</td>\n",
              "    </tr>\n",
              "    <tr>\n",
              "      <th>10000074</th>\n",
              "      <td>9</td>\n",
              "      <td>0.5349</td>\n",
              "    </tr>\n",
              "    <tr>\n",
              "      <th>10000083</th>\n",
              "      <td>9</td>\n",
              "      <td>0.4916</td>\n",
              "    </tr>\n",
              "    <tr>\n",
              "      <th>10000226</th>\n",
              "      <td>1</td>\n",
              "      <td>0.5448</td>\n",
              "    </tr>\n",
              "    <tr>\n",
              "      <th>...</th>\n",
              "      <td>...</td>\n",
              "      <td>...</td>\n",
              "    </tr>\n",
              "    <tr>\n",
              "      <th>1213074</th>\n",
              "      <td>3</td>\n",
              "      <td>0.5742</td>\n",
              "    </tr>\n",
              "    <tr>\n",
              "      <th>1213127</th>\n",
              "      <td>2</td>\n",
              "      <td>0.4078</td>\n",
              "    </tr>\n",
              "    <tr>\n",
              "      <th>1213137</th>\n",
              "      <td>10</td>\n",
              "      <td>0.6802</td>\n",
              "    </tr>\n",
              "    <tr>\n",
              "      <th>1213144</th>\n",
              "      <td>1</td>\n",
              "      <td>0.7417</td>\n",
              "    </tr>\n",
              "    <tr>\n",
              "      <th>1213217</th>\n",
              "      <td>9</td>\n",
              "      <td>0.3934</td>\n",
              "    </tr>\n",
              "  </tbody>\n",
              "</table>\n",
              "<p>276693 rows × 2 columns</p>\n",
              "</div>"
            ],
            "text/plain": [
              "          Dominant Topic  Contribution\n",
              "Index                                 \n",
              "10000005               1        0.8522\n",
              "10000020               7        0.5548\n",
              "10000074               9        0.5349\n",
              "10000083               9        0.4916\n",
              "10000226               1        0.5448\n",
              "...                  ...           ...\n",
              "1213074                3        0.5742\n",
              "1213127                2        0.4078\n",
              "1213137               10        0.6802\n",
              "1213144                1        0.7417\n",
              "1213217                9        0.3934\n",
              "\n",
              "[276693 rows x 2 columns]"
            ]
          },
          "metadata": {
            "tags": []
          },
          "execution_count": 51
        }
      ]
    },
    {
      "cell_type": "markdown",
      "metadata": {
        "id": "m85seo2nWvuf"
      },
      "source": [
        "With this new frame, let's try to segment our dataset by calculating:\r\n",
        "\r\n",
        "1.   the number of documents per contributor top topic\r\n",
        "2.   the proportion of documents by contributor top topic"
      ]
    },
    {
      "cell_type": "code",
      "metadata": {
        "id": "aqMwLR9OXUbf"
      },
      "source": [
        "# Number of documents for each topic\r\n",
        "docs_per_topic = (docs_dominants['Dominant Topic']\r\n",
        "                  .value_counts(sort=False)\r\n",
        "                  .to_frame()\r\n",
        "                  .rename(columns={'Dominant Topic': 'Document count'})\r\n",
        "                 )\r\n",
        "\r\n",
        "# Proportion of documents for each topic\r\n",
        "topic_props = (docs_per_topic.divide(docs_per_topic.sum())\r\n",
        "               .round(4)\r\n",
        "               .rename(columns={'Document count': 'Document proportion'})\r\n",
        "              )"
      ],
      "execution_count": null,
      "outputs": []
    },
    {
      "cell_type": "markdown",
      "metadata": {
        "id": "wrTVUWwYaEO_"
      },
      "source": [
        "Let's attach this information with the descriptor keywords of the topics"
      ]
    },
    {
      "cell_type": "code",
      "metadata": {
        "colab": {
          "base_uri": "https://localhost:8080/",
          "height": 326
        },
        "id": "fvqHG0aAXXB2",
        "outputId": "cae6eb0c-137d-47c2-b505-8c022224bfde"
      },
      "source": [
        "# Most probable keywords per topic\r\n",
        "keywords = []\r\n",
        "for i in range(optimal_model.num_topics):\r\n",
        "    desc = optimal_model.show_topic(i)\r\n",
        "    keywords.append(', '.join([word for word, prob in desc]))\r\n",
        "\r\n",
        "num_topics = [i+1 for i in range(optimal_model.num_topics)]\r\n",
        "df_topics_keywords = pd.DataFrame({'Topic #': num_topics, 'Keywords': keywords})\r\n",
        "df_topics_keywords.set_index(['Topic #'], inplace=True)\r\n",
        "\r\n",
        "# Final Frame\r\n",
        "df_dominant_topics = df_topics_keywords.join([docs_per_topic, topic_props])\r\n",
        "df_dominant_topics.sort_values(['Document proportion'], ascending=False, inplace=True)\r\n",
        "df_dominant_topics"
      ],
      "execution_count": null,
      "outputs": [
        {
          "output_type": "execute_result",
          "data": {
            "application/vnd.google.colaboratory.module+javascript": "\n      import \"https://ssl.gstatic.com/colaboratory/data_table/a6224c040fa35dcf/data_table.js\";\n\n      window.createDataTable({\n        data: [[{\n            'v': 9,\n            'f': \"9\",\n        },\n\"variable, language, java, difference, reference, parameter, compile, understand, compiler, define\",\n{\n            'v': 47986,\n            'f': \"47986\",\n        },\n{\n            'v': 0.1734,\n            'f': \"0.1734\",\n        }],\n [{\n            'v': 1,\n            'f': \"1\",\n        },\n\"table, sql, database, query, column, array, row, character, convert, store\",\n{\n            'v': 34066,\n            'f': \"34066\",\n        },\n{\n            'v': 0.1231,\n            'f': \"0.1231\",\n        }],\n [{\n            'v': 10,\n            'f': \"10\",\n        },\n\"text, view, jquery, html, button, click, element, event, select, display\",\n{\n            'v': 32724,\n            'f': \"32724\",\n        },\n{\n            'v': 0.1183,\n            'f': \"0.1183\",\n        }],\n [{\n            'v': 5,\n            'f': \"5\",\n        },\n\"python, command, script, window, directory, linux, windows, path, machine, folder\",\n{\n            'v': 24865,\n            'f': \"24865\",\n        },\n{\n            'v': 0.0899,\n            'f': \"0.0899\",\n        }],\n [{\n            'v': 4,\n            'f': \"4\",\n        },\n\"image, size, memory, css, large, space, color, take, game, background\",\n{\n            'v': 19865,\n            'f': \"19865\",\n        },\n{\n            'v': 0.0718,\n            'f': \"0.0718\",\n        }],\n [{\n            'v': 7,\n            'f': \"7\",\n        },\n\"net, web, php, asp, http, com, site, url, mvc, api\",\n{\n            'v': 18523,\n            'f': \"18523\",\n        },\n{\n            'v': 0.0669,\n            'f': \"0.0669\",\n        }],\n [{\n            'v': 11,\n            'f': \"11\",\n        },\n\"request, client, send, javascript, browser, connection, message, header, json, response\",\n{\n            'v': 17861,\n            'f': \"17861\",\n        },\n{\n            'v': 0.0646,\n            'f': \"0.0646\",\n        }],\n [{\n            'v': 2,\n            'f': \"2\",\n        },\n\"thread, service, unit, task, process, instance, django, lock, resource, spring\",\n{\n            'v': 17672,\n            'f': \"17672\",\n        },\n{\n            'v': 0.0639,\n            'f': \"0.0639\",\n        }],\n [{\n            'v': 6,\n            'f': \"6\",\n        },\n\"java, xml, eclipse, git, repository, module, plugin, svn, branch, commit\",\n{\n            'v': 17285,\n            'f': \"17285\",\n        },\n{\n            'v': 0.0625,\n            'f': \"0.0625\",\n        }],\n [{\n            'v': 12,\n            'f': \"12\",\n        },\n\"property, key, field, model, attribute, form, collection, entity, map, rail\",\n{\n            'v': 16845,\n            'f': \"16845\",\n        },\n{\n            'v': 0.0609,\n            'f': \"0.0609\",\n        }],\n [{\n            'v': 8,\n            'f': \"8\",\n        },\n\"iphone, android, date, google, device, email, xcode, datetime, library, apple\",\n{\n            'v': 16675,\n            'f': \"16675\",\n        },\n{\n            'v': 0.0603,\n            'f': \"0.0603\",\n        }],\n [{\n            'v': 3,\n            'f': \"3\",\n        },\n\"visual, exception, studio, system, log, debug, window, assembly, wpf, net\",\n{\n            'v': 12326,\n            'f': \"12326\",\n        },\n{\n            'v': 0.0445,\n            'f': \"0.0445\",\n        }]],\n        columns: [[\"number\", \"Topic #\"], [\"string\", \"Keywords\"], [\"number\", \"Document count\"], [\"number\", \"Document proportion\"]],\n        columnOptions: [{\"width\": \"1px\", \"className\": \"index_column\"}],\n        rowsPerPage: 25,\n        helpUrl: \"https://colab.research.google.com/notebooks/data_table.ipynb\",\n        suppressOutputScrolling: true,\n        minimumWidth: undefined,\n      });\n    ",
            "text/html": [
              "<div>\n",
              "<style scoped>\n",
              "    .dataframe tbody tr th:only-of-type {\n",
              "        vertical-align: middle;\n",
              "    }\n",
              "\n",
              "    .dataframe tbody tr th {\n",
              "        vertical-align: top;\n",
              "    }\n",
              "\n",
              "    .dataframe thead th {\n",
              "        text-align: right;\n",
              "    }\n",
              "</style>\n",
              "<table border=\"1\" class=\"dataframe\">\n",
              "  <thead>\n",
              "    <tr style=\"text-align: right;\">\n",
              "      <th></th>\n",
              "      <th>Keywords</th>\n",
              "      <th>Document count</th>\n",
              "      <th>Document proportion</th>\n",
              "    </tr>\n",
              "    <tr>\n",
              "      <th>Topic #</th>\n",
              "      <th></th>\n",
              "      <th></th>\n",
              "      <th></th>\n",
              "    </tr>\n",
              "  </thead>\n",
              "  <tbody>\n",
              "    <tr>\n",
              "      <th>9</th>\n",
              "      <td>variable, language, java, difference, referenc...</td>\n",
              "      <td>47986</td>\n",
              "      <td>0.1734</td>\n",
              "    </tr>\n",
              "    <tr>\n",
              "      <th>1</th>\n",
              "      <td>table, sql, database, query, column, array, ro...</td>\n",
              "      <td>34066</td>\n",
              "      <td>0.1231</td>\n",
              "    </tr>\n",
              "    <tr>\n",
              "      <th>10</th>\n",
              "      <td>text, view, jquery, html, button, click, eleme...</td>\n",
              "      <td>32724</td>\n",
              "      <td>0.1183</td>\n",
              "    </tr>\n",
              "    <tr>\n",
              "      <th>5</th>\n",
              "      <td>python, command, script, window, directory, li...</td>\n",
              "      <td>24865</td>\n",
              "      <td>0.0899</td>\n",
              "    </tr>\n",
              "    <tr>\n",
              "      <th>4</th>\n",
              "      <td>image, size, memory, css, large, space, color,...</td>\n",
              "      <td>19865</td>\n",
              "      <td>0.0718</td>\n",
              "    </tr>\n",
              "    <tr>\n",
              "      <th>7</th>\n",
              "      <td>net, web, php, asp, http, com, site, url, mvc,...</td>\n",
              "      <td>18523</td>\n",
              "      <td>0.0669</td>\n",
              "    </tr>\n",
              "    <tr>\n",
              "      <th>11</th>\n",
              "      <td>request, client, send, javascript, browser, co...</td>\n",
              "      <td>17861</td>\n",
              "      <td>0.0646</td>\n",
              "    </tr>\n",
              "    <tr>\n",
              "      <th>2</th>\n",
              "      <td>thread, service, unit, task, process, instance...</td>\n",
              "      <td>17672</td>\n",
              "      <td>0.0639</td>\n",
              "    </tr>\n",
              "    <tr>\n",
              "      <th>6</th>\n",
              "      <td>java, xml, eclipse, git, repository, module, p...</td>\n",
              "      <td>17285</td>\n",
              "      <td>0.0625</td>\n",
              "    </tr>\n",
              "    <tr>\n",
              "      <th>12</th>\n",
              "      <td>property, key, field, model, attribute, form, ...</td>\n",
              "      <td>16845</td>\n",
              "      <td>0.0609</td>\n",
              "    </tr>\n",
              "    <tr>\n",
              "      <th>8</th>\n",
              "      <td>iphone, android, date, google, device, email, ...</td>\n",
              "      <td>16675</td>\n",
              "      <td>0.0603</td>\n",
              "    </tr>\n",
              "    <tr>\n",
              "      <th>3</th>\n",
              "      <td>visual, exception, studio, system, log, debug,...</td>\n",
              "      <td>12326</td>\n",
              "      <td>0.0445</td>\n",
              "    </tr>\n",
              "  </tbody>\n",
              "</table>\n",
              "</div>"
            ],
            "text/plain": [
              "                                                  Keywords  ...  Document proportion\n",
              "Topic #                                                     ...                     \n",
              "9        variable, language, java, difference, referenc...  ...               0.1734\n",
              "1        table, sql, database, query, column, array, ro...  ...               0.1231\n",
              "10       text, view, jquery, html, button, click, eleme...  ...               0.1183\n",
              "5        python, command, script, window, directory, li...  ...               0.0899\n",
              "4        image, size, memory, css, large, space, color,...  ...               0.0718\n",
              "7        net, web, php, asp, http, com, site, url, mvc,...  ...               0.0669\n",
              "11       request, client, send, javascript, browser, co...  ...               0.0646\n",
              "2        thread, service, unit, task, process, instance...  ...               0.0639\n",
              "6        java, xml, eclipse, git, repository, module, p...  ...               0.0625\n",
              "12       property, key, field, model, attribute, form, ...  ...               0.0609\n",
              "8        iphone, android, date, google, device, email, ...  ...               0.0603\n",
              "3        visual, exception, studio, system, log, debug,...  ...               0.0445\n",
              "\n",
              "[12 rows x 3 columns]"
            ]
          },
          "metadata": {
            "tags": []
          },
          "execution_count": 53
        }
      ]
    },
    {
      "cell_type": "markdown",
      "metadata": {
        "id": "-v00STHoaLWN"
      },
      "source": [
        "In more detail, we will take here several examples to which we will suggest tags. To do this, we will search among the key words characteristic of the dominant topic of the said example those which appear there. These examples that we select are considered to be the most representative of each area."
      ]
    },
    {
      "cell_type": "code",
      "metadata": {
        "colab": {
          "base_uri": "https://localhost:8080/",
          "height": 270
        },
        "id": "3elou4grYKwe",
        "outputId": "0f983856-d361-4b5c-bbdd-d53a8585c326"
      },
      "source": [
        "top_categories = (docs_dominants.sort_values(['Contribution'],ascending=False)\r\n",
        "                  .groupby(['Dominant Topic'], sort=False)\r\n",
        "                  .head(1)\r\n",
        "                  .sort_values(['Dominant Topic'])\r\n",
        "                  .reset_index().set_index(['Dominant Topic'])\r\n",
        "                 )\r\n",
        "\r\n",
        "examples = (top_categories\r\n",
        "            .join(corpus.apply(len).to_frame('Length'), 'Index')\r\n",
        "            .sort_values('Length', ascending=False).Index)\r\n",
        "\r\n",
        "def show_example(corpus, lemmas, data, examples, model, n_ex):\r\n",
        "    predictions = model[corpus[examples.iloc[n_ex]]]\r\n",
        "    predictions = sorted(predictions, key=lambda x: x[1], reverse=True)\r\n",
        "    \r\n",
        "    topic_num, topic_contrib = predictions[0]\r\n",
        "    desc = optimal_model.show_topic(topic_num, topn=20)\r\n",
        "    \r\n",
        "    keywords = [word for word, prob in desc]\r\n",
        "    tags = {lemma for lemma in lemmas[examples.iloc[n_ex]] if lemma in keywords}\r\n",
        "\r\n",
        "    display(HTML(data.loc[examples.iloc[n_ex], 'Body']))\r\n",
        "    print(\"-\"*30, '\\nTags proposés: ')\r\n",
        "    print(tags)\r\n",
        "\r\n",
        "\r\n",
        "show_example(corpus, texts_cleaned, df, examples, optimal_model, 4)"
      ],
      "execution_count": null,
      "outputs": [
        {
          "output_type": "display_data",
          "data": {
            "text/html": [
              "<p>I have searched a bit, but can not find a good answer. I want to create an empty dataframe with same dimensions as another dataframe so I can add new columns. Today I create an empty dataframe filled with zeroes, and then I delete the zero column. I hope there is a better way, but can not find the answer. Can someone help me?</p>\n",
              "\n",
              "<p>I do like this today and it works, but it is very ugly.</p>\n",
              "\n",
              "<pre><code>df_copy = pandas.DataFrame(numpy.zeros(len(df_original.index))) \n",
              "df_copy = df_copy.drop([0],axis=1) \n",
              "</code></pre>\n",
              "\n",
              "<p>And now I can add new columns as I process data. So basically I want an empty dataframe with same dimensions as another dataframe.</p>\n",
              "\n",
              "<pre><code>df_copy[\"price\"] = pricesList\n",
              "df_copy[\"size\"] = sizesList\n",
              "</code></pre>\n",
              "\n",
              "<p>EDIT: Another closely related question: how do I create an empty Dataframe with dimensions mxn? I have got the answer below how to create an empty dataframe with dimensions 1xn, which is by setting the index. But how do I create an empty nxm dataframe filled with zeroes? The reason I am asking, is because I suspect(?) it is faster to create a zero filled dataframe, and then replace each element as needed. The alternative is to create an empty dataframe with dimensions 1xn and then add columns as needed - which I am told is slow. So it might be faster to create an empty dataframe with nxm dimensions and then replace elements as needed (by copying a list to each column). Say a column has 100 rows, and I create a sublist with 25 rows, so I just copy this list to the correct subcolumn, and repeat. This is faster than adding a new column? </p>\n"
            ],
            "text/plain": [
              "<IPython.core.display.HTML object>"
            ]
          },
          "metadata": {
            "tags": []
          }
        },
        {
          "output_type": "stream",
          "text": [
            "------------------------------ \n",
            "Tags proposés: \n",
            "{'row', 'search', 'column', 'index'}\n"
          ],
          "name": "stdout"
        }
      ]
    }
  ]
}