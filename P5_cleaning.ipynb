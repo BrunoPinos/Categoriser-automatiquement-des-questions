{
  "nbformat": 4,
  "nbformat_minor": 0,
  "metadata": {
    "colab": {
      "name": "P5_cleaning.ipynb",
      "provenance": [],
      "collapsed_sections": [],
      "mount_file_id": "16j_et7StVWYOlT5PcMHS3JFt06OReUGn",
      "authorship_tag": "ABX9TyPHp+/w9A+cF139mbp5wXJn",
      "include_colab_link": true
    },
    "kernelspec": {
      "name": "python3",
      "display_name": "Python 3"
    },
    "accelerator": "TPU"
  },
  "cells": [
    {
      "cell_type": "markdown",
      "metadata": {
        "id": "view-in-github",
        "colab_type": "text"
      },
      "source": [
        "<a href=\"https://colab.research.google.com/github/BrunoPinos/FormationIngenieurMachineLearning/blob/main/P5_cleaning.ipynb\" target=\"_parent\"><img src=\"https://colab.research.google.com/assets/colab-badge.svg\" alt=\"Open In Colab\"/></a>"
      ]
    },
    {
      "cell_type": "markdown",
      "metadata": {
        "id": "SJbzcnCdRfw0"
      },
      "source": [
        "# Library"
      ]
    },
    {
      "cell_type": "code",
      "metadata": {
        "id": "A_kvzvuEQj9J"
      },
      "source": [
        "# data analysis and wrangling\r\n",
        "import pandas as pd\r\n",
        "import numpy as np\r\n",
        "\r\n",
        "# text\r\n",
        "import re\r\n",
        "import spacy\r\n",
        "import nltk\r\n",
        "nltk.download('stopwords')\r\n",
        "from nltk.corpus import stopwords\r\n",
        "from gensim.corpora import Dictionary\r\n",
        "from gensim.utils import simple_preprocess\r\n",
        "from IPython.display import display, HTML\r\n",
        "\r\n",
        "# Save objects\r\n",
        "import joblib\r\n",
        "\r\n",
        "# Set working directory\r\n",
        "import os\r\n",
        "os.chdir('/content/drive/MyDrive/Colab Notebooks/P5')\r\n",
        "\r\n",
        "# Data table display for Pandas dataframes\r\n",
        "from google.colab import data_table\r\n",
        "%load_ext google.colab.data_table"
      ],
      "execution_count": 110,
      "outputs": []
    },
    {
      "cell_type": "markdown",
      "metadata": {
        "id": "8KqW2pIRRemJ"
      },
      "source": [
        "# Import"
      ]
    },
    {
      "cell_type": "markdown",
      "metadata": {
        "id": "9HLzWbiwzYHu"
      },
      "source": [
        "**SQL**  \r\n",
        "I get 50,000 posts for every 10,000,000, the posts retrieved have a score> 10 and are questions"
      ]
    },
    {
      "cell_type": "markdown",
      "metadata": {
        "id": "xVGwMu32zWZW"
      },
      "source": [
        "for n in range(1, 7):  \r\n",
        "SELECT Id, Body, Title, Tags  \r\n",
        "FROM Posts  \r\n",
        "WHERE (Score >= 10) AND (PostTypeId = 1) AND (Id < n * 10000000) AND (  \r\n",
        "  Id >= (n - 1) * 10000000"
      ]
    },
    {
      "cell_type": "markdown",
      "metadata": {
        "id": "nXm313YSQrgr"
      },
      "source": [
        "**Read**"
      ]
    },
    {
      "cell_type": "code",
      "metadata": {
        "colab": {
          "base_uri": "https://localhost:8080/",
          "height": 420
        },
        "id": "PibYcq5uRK4U",
        "outputId": "c284e577-77da-486f-fc1b-e10e435cdedb"
      },
      "source": [
        "n_files = 6\r\n",
        "list_files = [pd.read_csv('./Data/QueryResults (' + str(n+1) + ').csv',\r\n",
        "                          index_col='Id') for n in range(n_files)]\r\n",
        "\r\n",
        "df = pd.concat(list_files, axis=0)\r\n",
        "df"
      ],
      "execution_count": 69,
      "outputs": [
        {
          "output_type": "execute_result",
          "data": {
            "text/html": [
              "<div>\n",
              "<style scoped>\n",
              "    .dataframe tbody tr th:only-of-type {\n",
              "        vertical-align: middle;\n",
              "    }\n",
              "\n",
              "    .dataframe tbody tr th {\n",
              "        vertical-align: top;\n",
              "    }\n",
              "\n",
              "    .dataframe thead th {\n",
              "        text-align: right;\n",
              "    }\n",
              "</style>\n",
              "<table border=\"1\" class=\"dataframe\">\n",
              "  <thead>\n",
              "    <tr style=\"text-align: right;\">\n",
              "      <th></th>\n",
              "      <th>Body</th>\n",
              "      <th>Title</th>\n",
              "      <th>Tags</th>\n",
              "    </tr>\n",
              "    <tr>\n",
              "      <th>Id</th>\n",
              "      <th></th>\n",
              "      <th></th>\n",
              "      <th></th>\n",
              "    </tr>\n",
              "  </thead>\n",
              "  <tbody>\n",
              "    <tr>\n",
              "      <th>10000005</th>\n",
              "      <td>&lt;blockquote&gt;\\n&lt;p&gt;&lt;strong&gt;Possible Duplicate:&lt;/...</td>\n",
              "      <td>PHP Sort array by field?</td>\n",
              "      <td>&lt;php&gt;&lt;arrays&gt;&lt;sorting&gt;</td>\n",
              "    </tr>\n",
              "    <tr>\n",
              "      <th>10000020</th>\n",
              "      <td>&lt;p&gt;I am attempting to post form data to a goog...</td>\n",
              "      <td>AJAX post to google spreadsheet</td>\n",
              "      <td>&lt;jquery&gt;&lt;ajax&gt;&lt;google-apps-script&gt;&lt;google-sheets&gt;</td>\n",
              "    </tr>\n",
              "    <tr>\n",
              "      <th>10000074</th>\n",
              "      <td>&lt;p&gt;I'm just starting to look into the world of...</td>\n",
              "      <td>Which FRP package to choose?</td>\n",
              "      <td>&lt;haskell&gt;&lt;frp&gt;&lt;reactive-banana&gt;</td>\n",
              "    </tr>\n",
              "    <tr>\n",
              "      <th>10000083</th>\n",
              "      <td>&lt;p&gt;I want to make an eventHandler that passes ...</td>\n",
              "      <td>Javascript event handler with parameters</td>\n",
              "      <td>&lt;javascript&gt;&lt;events&gt;&lt;event-handling&gt;&lt;handler&gt;</td>\n",
              "    </tr>\n",
              "    <tr>\n",
              "      <th>10000226</th>\n",
              "      <td>&lt;p&gt;A string is called a square string if it ca...</td>\n",
              "      <td>Square Subsequence</td>\n",
              "      <td>&lt;string&gt;&lt;algorithm&gt;&lt;dynamic-programming&gt;</td>\n",
              "    </tr>\n",
              "    <tr>\n",
              "      <th>...</th>\n",
              "      <td>...</td>\n",
              "      <td>...</td>\n",
              "      <td>...</td>\n",
              "    </tr>\n",
              "    <tr>\n",
              "      <th>1213074</th>\n",
              "      <td>&lt;p&gt;I'm trying to drag data from the Winforms p...</td>\n",
              "      <td>WinForms Interop, Drag &amp; Drop from WinForms -&gt;...</td>\n",
              "      <td>&lt;wpf&gt;&lt;winforms&gt;&lt;interop&gt;&lt;drag-and-drop&gt;</td>\n",
              "    </tr>\n",
              "    <tr>\n",
              "      <th>1213127</th>\n",
              "      <td>&lt;p&gt;Is there a way for a Java program to detect...</td>\n",
              "      <td>Detect OS Sleep and Wake Up events in Java</td>\n",
              "      <td>&lt;java&gt;&lt;mysql&gt;&lt;database-connection&gt;&lt;sleep&gt;</td>\n",
              "    </tr>\n",
              "    <tr>\n",
              "      <th>1213137</th>\n",
              "      <td>&lt;p&gt;I know I can change the UITableView propert...</td>\n",
              "      <td>Is there a way to remove the separator line fr...</td>\n",
              "      <td>&lt;iphone&gt;&lt;uitableview&gt;</td>\n",
              "    </tr>\n",
              "    <tr>\n",
              "      <th>1213144</th>\n",
              "      <td>&lt;p&gt;I am writing a wpf destop application, and ...</td>\n",
              "      <td>Data paging in SQL Server CE (Compact Edition)</td>\n",
              "      <td>&lt;sql-server-ce&gt;&lt;data-paging&gt;</td>\n",
              "    </tr>\n",
              "    <tr>\n",
              "      <th>1213217</th>\n",
              "      <td>&lt;p&gt;I'm currently in a project which develops u...</td>\n",
              "      <td>How can I manage Perl module dependencies?</td>\n",
              "      <td>&lt;perl&gt;&lt;dependencies&gt;&lt;module&gt;&lt;legacy&gt;</td>\n",
              "    </tr>\n",
              "  </tbody>\n",
              "</table>\n",
              "<p>276693 rows × 3 columns</p>\n",
              "</div>"
            ],
            "text/plain": [
              "                                                       Body  ...                                               Tags\n",
              "Id                                                           ...                                                   \n",
              "10000005  <blockquote>\\n<p><strong>Possible Duplicate:</...  ...                             <php><arrays><sorting>\n",
              "10000020  <p>I am attempting to post form data to a goog...  ...  <jquery><ajax><google-apps-script><google-sheets>\n",
              "10000074  <p>I'm just starting to look into the world of...  ...                    <haskell><frp><reactive-banana>\n",
              "10000083  <p>I want to make an eventHandler that passes ...  ...      <javascript><events><event-handling><handler>\n",
              "10000226  <p>A string is called a square string if it ca...  ...           <string><algorithm><dynamic-programming>\n",
              "...                                                     ...  ...                                                ...\n",
              "1213074   <p>I'm trying to drag data from the Winforms p...  ...            <wpf><winforms><interop><drag-and-drop>\n",
              "1213127   <p>Is there a way for a Java program to detect...  ...          <java><mysql><database-connection><sleep>\n",
              "1213137   <p>I know I can change the UITableView propert...  ...                              <iphone><uitableview>\n",
              "1213144   <p>I am writing a wpf destop application, and ...  ...                       <sql-server-ce><data-paging>\n",
              "1213217   <p>I'm currently in a project which develops u...  ...               <perl><dependencies><module><legacy>\n",
              "\n",
              "[276693 rows x 3 columns]"
            ]
          },
          "metadata": {
            "tags": []
          },
          "execution_count": 69
        }
      ]
    },
    {
      "cell_type": "markdown",
      "metadata": {
        "id": "FJ2Z_Eug3oJx"
      },
      "source": [
        "# Pretreatment\r\n",
        "\r\n",
        "I create text with title + body.  \r\n",
        "I follow transformations on 2 question.  "
      ]
    },
    {
      "cell_type": "code",
      "metadata": {
        "id": "3LbZ_RHh7tgF"
      },
      "source": [
        "sample = np.random.choice(len(df), 2)\r\n",
        "\r\n",
        "def random_display(docs, sample):\r\n",
        "    for s in sample:\r\n",
        "        print(docs.iloc[s], '\\n'+'-'*20+'\\n'*2)"
      ],
      "execution_count": 52,
      "outputs": []
    },
    {
      "cell_type": "code",
      "metadata": {
        "colab": {
          "base_uri": "https://localhost:8080/"
        },
        "id": "QmvHGEiL7vn0",
        "outputId": "1981d54b-8c6e-4624-bbeb-de595c0693de"
      },
      "source": [
        "texts = (df.Title + ' ' +df.Body)\r\n",
        "\r\n",
        "\r\n",
        "random_display(texts, sample)"
      ],
      "execution_count": 53,
      "outputs": [
        {
          "output_type": "stream",
          "text": [
            "AudioHardware.cpp:1200:AudioObjectRemovePropertyListener: AudioObjectRemovePropertyListener: no object with given ID 0 <p>Working on a project in swift, where I'm trying to initiate the AVPlayer, and for some reason it trows me an exception saying </p>\n",
            "\n",
            "<blockquote>\n",
            "  <p>AudioHardware.cpp:1200:AudioObjectRemovePropertyListener: AudioObjectRemovePropertyListener: no object with given ID 0. </p>\n",
            "</blockquote>\n",
            "\n",
            "<p>I guess the issue is with my URL. Here is my code</p>\n",
            "\n",
            "<pre><code>func initPlayer() {\n",
            "    let url:NSURL = NSURL(string:\"https://purelight1-163000.appspot.com/api/user/v2/media/track/60/sample\")!\n",
            "    self.playerItem = AVPlayerItem(url: url as URL)\n",
            "    self.player=AVPlayer(playerItem: self.playerItem!)\n",
            "    let playerLayer=AVPlayerLayer(player: self.player!)\n",
            "    playerLayer.frame = CGRect(x: 0, y: 0, width: 10, height: 50) // actually this player layer is not visible\n",
            "    self.view.layer.addSublayer(playerLayer)\n",
            "}\n",
            "</code></pre>\n",
            " \n",
            "--------------------\n",
            "\n",
            "\n",
            "XML attribute vs XML element <p>At work we are being asked to create XML files to pass data to another offline application that will then create a second XML file to pass back in order to update some of our data. During the process we have been discussing with the team of the other application about the structure of the XML file. </p>\n",
            "\n",
            "<p>The sample I came up with is essentially something like:</p>\n",
            "\n",
            "<pre><code>&lt;INVENTORY&gt;\n",
            "   &lt;ITEM serialNumber=\"something\" location=\"something\" barcode=\"something\"&gt;\n",
            "      &lt;TYPE modelNumber=\"something\" vendor=\"something\"/&gt; \n",
            "   &lt;/ITEM&gt;\n",
            "&lt;/INVENTORY&gt;\n",
            "</code></pre>\n",
            "\n",
            "<p>The other team said that this was not industry standard and that attributes should only be used for meta data. They suggested:</p>\n",
            "\n",
            "<pre><code>&lt;INVENTORY&gt;\n",
            "   &lt;ITEM&gt;\n",
            "      &lt;SERIALNUMBER&gt;something&lt;/SERIALNUMBER&gt;\n",
            "      &lt;LOCATION&gt;something&lt;/LOCATION&gt;\n",
            "      &lt;BARCODE&gt;something&lt;/BARCODE&gt;\n",
            "      &lt;TYPE&gt;\n",
            "         &lt;MODELNUMBER&gt;something&lt;/MODELNUMBER&gt;\n",
            "         &lt;VENDOR&gt;something&lt;/VENDOR&gt;\n",
            "      &lt;/TYPE&gt;\n",
            "   &lt;/ITEM&gt;\n",
            "&lt;/INVENTORY&gt;\n",
            "</code></pre>\n",
            "\n",
            "<p>The reason I suggested the first is that the size of the file created is much smaller. There will be roughly 80000 items that will be in the file during transfer. Their suggestion in reality turns out to be three times larger than the one I suggested. I searched for the mysterious \"Industry Standard\" that was mentioned, but the closest I could find was that XML attributes should only be used for meta data, but said the debate was about what was actually meta data.</p>\n",
            "\n",
            "<p>After the long winded explanation (sorry) how do you determine what is meta data, and when designing the structure of an XML document how should you decide when to use an attribute or an element?</p>\n",
            " \n",
            "--------------------\n",
            "\n",
            "\n"
          ],
          "name": "stdout"
        }
      ]
    },
    {
      "cell_type": "markdown",
      "metadata": {
        "id": "TUZvbSt78Frj"
      },
      "source": [
        "The first part of our job is to clean up the text\r\n",
        "\r\n",
        "1.   Remove superfluous parts: code parts, HTML tags, punctuation... \r\n",
        "2.   Create tokens: i.e. separate their text for each document into a list of  words\r\n",
        "3.   Remove stopwords: words considered too common to be interesting in our analysis\r\n",
        "4.   Lemmatize: transform all the words into a basic form whatever the form in which it appears in the document (plural, conjugated verb, feminine form ...)"
      ]
    },
    {
      "cell_type": "code",
      "metadata": {
        "colab": {
          "base_uri": "https://localhost:8080/"
        },
        "id": "7-bsCy1T8u5U",
        "outputId": "b29d95ca-223a-49f6-8d3a-031c05d894a5"
      },
      "source": [
        "# Lemmatization function\r\n",
        "nlp = spacy.load('en', disable=['parser', 'ner'])\r\n",
        "\r\n",
        "def lemmatization(doc, nlp, banned_postags=['PUNCT', 'DET', 'PRON', 'CONJ',\r\n",
        "                                            'ADV', 'INTJ']):\r\n",
        "    doc = nlp(doc)\r\n",
        "    return \" \".join(\r\n",
        "        [token.lemma_ for token in doc if token.pos_ not in banned_postags])\r\n",
        "    \r\n",
        "\r\n",
        "# Remove stopwords\r\n",
        "stop_words = stopwords.words('english')\r\n",
        "\r\n",
        "# stop_words.extend([])\r\n",
        "def remove_stopwords(doc):\r\n",
        "    return [word for word in doc if word not in stop_words] \r\n",
        "\r\n",
        "\r\n",
        "# All processing\r\n",
        "texts_cleaned = (texts\r\n",
        "                 # delete code parts\r\n",
        "                 .apply(lambda x: re.sub('<code>(.|\\n)*?</code>', '', x))\r\n",
        "                  # remove HTML tags\r\n",
        "                 .apply(lambda x: re.sub('<[^<]+?>', '', x))\r\n",
        "                 .apply(lambda x: lemmatization(x, nlp=nlp))\r\n",
        "                 .apply(lambda x: simple_preprocess(x, min_len=1, deacc=False))\r\n",
        "                 .apply(remove_stopwords)\r\n",
        "                )\r\n",
        "\r\n",
        "random_display(texts_cleaned, sample)"
      ],
      "execution_count": 54,
      "outputs": [
        {
          "output_type": "stream",
          "text": [
            "['audiohardware', 'cpp', 'object', 'give', 'id', 'working', 'project', 'swift', 'try', 'initiate', 'avplayer', 'reason', 'trow', 'exception', 'say', 'audiohardware', 'cpp', 'object', 'give', 'id', 'guess', 'issue', 'url', 'code'] \n",
            "--------------------\n",
            "\n",
            "\n",
            "['xml', 'attribute', 'vs', 'xml', 'element', 'work', 'ask', 'create', 'xml', 'file', 'pass', 'datum', 'offline', 'application', 'create', 'second', 'xml', 'file', 'pass', 'order', 'update', 'datum', 'process', 'discuss', 'team', 'application', 'structure', 'xml', 'file', 'sample', 'come', 'like', 'team', 'say', 'industry', 'standard', 'attribute', 'use', 'meta', 'datum', 'suggest', 'reason', 'suggest', 'first', 'size', 'file', 'create', 'small', 'item', 'file', 'transfer', 'suggestion', 'reality', 'turn', 'three', 'time', 'large', 'one', 'suggest', 'search', 'mysterious', 'industry', 'standard', 'mention', 'close', 'could', 'find', 'xml', 'attribute', 'use', 'meta', 'datum', 'say', 'debate', 'meta', 'datum', 'wind', 'explanation', 'determine', 'meta', 'datum', 'design', 'structure', 'xml', 'document', 'decide', 'use', 'attribute', 'element'] \n",
            "--------------------\n",
            "\n",
            "\n"
          ],
          "name": "stdout"
        }
      ]
    },
    {
      "cell_type": "markdown",
      "metadata": {
        "id": "KBuG-q7IdxKr"
      },
      "source": [
        "In our selected examples, we observe a much smaller number of remaining words, compared to the raw documents.\r\n",
        "\r\n",
        "Now is the time to normalize our text, namely to put it in a format in which our model will be able to understand it. To do this, we will first create a dictionary which will assign a unique identifier to each word present in all the documents. We also display the number of words present in this dictionary"
      ]
    },
    {
      "cell_type": "code",
      "metadata": {
        "colab": {
          "base_uri": "https://localhost:8080/"
        },
        "id": "IXT86pG3d5gU",
        "outputId": "3dc61e66-5bfa-4579-9e68-e13dff866e2d"
      },
      "source": [
        "dictionary = Dictionary(texts_cleaned)\r\n",
        "print(\"Taille du dictionnaire: \",len(dictionary))"
      ],
      "execution_count": 55,
      "outputs": [
        {
          "output_type": "stream",
          "text": [
            "Taille du dictionnaire:  146368\n"
          ],
          "name": "stdout"
        }
      ]
    },
    {
      "cell_type": "markdown",
      "metadata": {
        "id": "CTReLm0nd8vW"
      },
      "source": [
        "In order to make sure that these words can help us at least to find interesting patterns in our data at the time of modeling, we remove from the dictionary the words which do not appear in at least 50 different documents."
      ]
    },
    {
      "cell_type": "code",
      "metadata": {
        "colab": {
          "base_uri": "https://localhost:8080/"
        },
        "id": "AU98PSNed72q",
        "outputId": "5e4d3f73-d75d-4dd8-b317-cad5f6fe371d"
      },
      "source": [
        "dictionary.filter_extremes(no_below=50)\r\n",
        "print(\"Taille du dictionnaire: \", len(dictionary))"
      ],
      "execution_count": 56,
      "outputs": [
        {
          "output_type": "stream",
          "text": [
            "Taille du dictionnaire:  25293\n"
          ],
          "name": "stdout"
        }
      ]
    },
    {
      "cell_type": "markdown",
      "metadata": {
        "id": "rY8VTwMyeAX6"
      },
      "source": [
        "With this filtering, we have removed more than 80% of the words in the dictionary, which could have been a source of noise once they became descriptors. Also, in order not to have too common words (like stopwords), let's take a look at the most common items"
      ]
    },
    {
      "cell_type": "code",
      "metadata": {
        "colab": {
          "base_uri": "https://localhost:8080/",
          "height": 460
        },
        "id": "e74EIDlbqTe8",
        "outputId": "60863d88-46aa-4a39-a0f2-0aae4f8dc73a"
      },
      "source": [
        "words_sorted = sorted(dictionary.dfs.items(), key=lambda x: x[1], reverse=True)\r\n",
        "id2token = {value: key for key, value in dictionary.token2id.items()}\r\n",
        "\r\n",
        "list_count = [count for e, (i, count) in enumerate(words_sorted[:1000])]\r\n",
        "fig = plt.figure(1, figsize=(10, 7))\r\n",
        "sn.lineplot(x = range(0, 1000), y = list_count)\r\n",
        "plt.xticks(rotation=90)\r\n",
        "plt.title('Distribution : text')\r\n",
        "plt.show()"
      ],
      "execution_count": 104,
      "outputs": [
        {
          "output_type": "display_data",
          "data": {
            "image/png": "[encoded data removed]",
            "text/plain": [
              "<Figure size 720x504 with 1 Axes>"
            ]
          },
          "metadata": {
            "tags": [],
            "needs_background": "light"
          }
        }
      ]
    },
    {
      "cell_type": "code",
      "metadata": {
        "colab": {
          "base_uri": "https://localhost:8080/"
        },
        "id": "lbrxU4L5eC9y",
        "outputId": "09b5933d-f55e-4119-acaa-94d4ea2cf148"
      },
      "source": [
        "print(\"Mots les plus fréquents du dictionnaire:\")\r\n",
        "for e, (i, count) in enumerate(words_sorted[:50]):\r\n",
        "    print(f\"{e+1:2} {id2token[i]:15} {count:5}\")"
      ],
      "execution_count": 103,
      "outputs": [
        {
          "output_type": "stream",
          "text": [
            "Mots les plus fréquents du dictionnaire:\n",
            " 1 get             92424\n",
            " 2 like            84996\n",
            " 3 try             84652\n",
            " 4 work            77955\n",
            " 5 code            75515\n",
            " 6 would           74111\n",
            " 7 want            67132\n",
            " 8 way             66774\n",
            " 9 find            53580\n",
            "10 error           51956\n",
            "11 one             49899\n",
            "12 need            49386\n",
            "13 file            48978\n",
            "14 follow          47795\n",
            "15 know            46916\n",
            "16 run             44287\n",
            "17 make            44164\n",
            "18 example         43150\n",
            "19 create          42944\n",
            "20 see             39999\n",
            "21 problem         39437\n",
            "22 look            37681\n",
            "23 seem            36941\n",
            "24 add             35399\n",
            "25 question        35220\n",
            "26 could           34243\n",
            "27 set             33198\n",
            "28 call            32257\n",
            "29 change          32121\n",
            "30 time            31984\n",
            "31 new             31790\n",
            "32 function        30763\n",
            "33 method          30534\n",
            "34 value           29965\n",
            "35 thank           28751\n",
            "36 app             28674\n",
            "37 help            28037\n",
            "38 give            27731\n",
            "39 c               27346\n",
            "40 possible        26949\n",
            "41 application     26573\n",
            "42 class           26389\n",
            "43 go              25961\n",
            "44 write           25195\n",
            "45 user            24830\n",
            "46 project         24828\n",
            "47 without         24571\n",
            "48 type            24451\n",
            "49 two             24090\n",
            "50 good            23977\n"
          ],
          "name": "stdout"
        }
      ]
    },
    {
      "cell_type": "markdown",
      "metadata": {
        "id": "L1K87_jZeFs6"
      },
      "source": [
        "We decide to delete the 100 most frequent words.\r\n"
      ]
    },
    {
      "cell_type": "code",
      "metadata": {
        "id": "Rp3XJ4mheIhT"
      },
      "source": [
        "to_delete = [id2token[i] for e, (i, count) in enumerate(words_sorted[:100])]\r\n",
        "bad_ids = [dictionary.token2id[token] for token in to_delete]\r\n",
        "\r\n",
        "dictionary.filter_tokens(bad_ids=bad_ids)"
      ],
      "execution_count": 105,
      "outputs": []
    },
    {
      "cell_type": "markdown",
      "metadata": {
        "id": "3VAVSzuYeLRr"
      },
      "source": [
        "And finally, to conclude our pre-processing part, we create our bag of words. This representation makes it possible to count the number of occurrences of each word in the dictionary for each document. The resulting dataframe will serve as input data to our model"
      ]
    },
    {
      "cell_type": "code",
      "metadata": {
        "colab": {
          "base_uri": "https://localhost:8080/"
        },
        "id": "7pD2cYBbeOqL",
        "outputId": "cf9fe7e1-78bf-41e6-c0f2-150aea875c7b"
      },
      "source": [
        "corpus = texts_cleaned.apply(dictionary.doc2bow)\r\n",
        "random_display(corpus, sample)"
      ],
      "execution_count": 106,
      "outputs": [
        {
          "output_type": "stream",
          "text": [
            "[(222, 1), (228, 1), (450, 1), (1018, 1), (1330, 2), (1489, 1), (2333, 1), (3053, 1), (3572, 2), (11806, 1), (21355, 1)] \n",
            "--------------------\n",
            "\n",
            "\n",
            "[(8, 1), (11, 2), (15, 1), (18, 1), (37, 1), (86, 2), (94, 2), (121, 1), (131, 1), (142, 1), (226, 1), (228, 1), (237, 1), (288, 1), (337, 4), (425, 1), (441, 3), (552, 1), (568, 1), (600, 1), (629, 1), (674, 2), (702, 1), (787, 1), (815, 1), (897, 1), (989, 1), (1040, 1), (1125, 7), (1203, 1), (1515, 1), (2744, 4), (2811, 1), (3556, 2), (4104, 1), (4750, 1), (8013, 1), (9788, 1), (11168, 2)] \n",
            "--------------------\n",
            "\n",
            "\n"
          ],
          "name": "stdout"
        }
      ]
    },
    {
      "cell_type": "markdown",
      "metadata": {
        "id": "ITcCtLXPe20b"
      },
      "source": [
        "I save my objects"
      ]
    },
    {
      "cell_type": "code",
      "metadata": {
        "colab": {
          "base_uri": "https://localhost:8080/"
        },
        "id": "iL2-dmd9e3EK",
        "outputId": "f47d190e-c928-4e1c-bbde-f3ba6cd60785"
      },
      "source": [
        "joblib.dump(corpus, 'corpus.sav')\r\n",
        "joblib.dump(dictionary, 'dictionary.sav')\r\n",
        "joblib.dump(df, 'df.sav')\r\n",
        "joblib.dump(texts_cleaned, 'texts_cleaned.sav')"
      ],
      "execution_count": 111,
      "outputs": [
        {
          "output_type": "execute_result",
          "data": {
            "text/plain": [
              "['texts_cleaned.sav']"
            ]
          },
          "metadata": {
            "tags": []
          },
          "execution_count": 111
        }
      ]
    }
  ]
}